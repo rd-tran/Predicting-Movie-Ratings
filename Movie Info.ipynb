{
 "cells": [
  {
   "cell_type": "markdown",
   "metadata": {},
   "source": [
    "<a id='intro'></a>\n",
    "## Introduction"
   ]
  },
  {
   "cell_type": "code",
   "execution_count": 1,
   "metadata": {},
   "outputs": [],
   "source": [
    "import pandas as pd\n",
    "import matplotlib.pyplot as plt\n",
    "%matplotlib inline\n",
    "import numpy as np\n",
    "from sklearn.model_selection import train_test_split\n",
    "from sklearn.preprocessing import StandardScaler\n",
    "from sklearn.linear_model import LinearRegression\n",
    "from sklearn.decomposition import PCA\n",
    "from sklearn.metrics import mean_squared_error"
   ]
  },
  {
   "cell_type": "markdown",
   "metadata": {},
   "source": [
    "<a id='wrangling'></a>\n",
    "## Data Wrangling"
   ]
  },
  {
   "cell_type": "code",
   "execution_count": 2,
   "metadata": {},
   "outputs": [
    {
     "data": {
      "text/html": [
       "<div>\n",
       "<style scoped>\n",
       "    .dataframe tbody tr th:only-of-type {\n",
       "        vertical-align: middle;\n",
       "    }\n",
       "\n",
       "    .dataframe tbody tr th {\n",
       "        vertical-align: top;\n",
       "    }\n",
       "\n",
       "    .dataframe thead th {\n",
       "        text-align: right;\n",
       "    }\n",
       "</style>\n",
       "<table border=\"1\" class=\"dataframe\">\n",
       "  <thead>\n",
       "    <tr style=\"text-align: right;\">\n",
       "      <th></th>\n",
       "      <th>id</th>\n",
       "      <th>imdb_id</th>\n",
       "      <th>popularity</th>\n",
       "      <th>budget</th>\n",
       "      <th>revenue</th>\n",
       "      <th>original_title</th>\n",
       "      <th>cast</th>\n",
       "      <th>homepage</th>\n",
       "      <th>director</th>\n",
       "      <th>tagline</th>\n",
       "      <th>...</th>\n",
       "      <th>overview</th>\n",
       "      <th>runtime</th>\n",
       "      <th>genres</th>\n",
       "      <th>production_companies</th>\n",
       "      <th>release_date</th>\n",
       "      <th>vote_count</th>\n",
       "      <th>vote_average</th>\n",
       "      <th>release_year</th>\n",
       "      <th>budget_adj</th>\n",
       "      <th>revenue_adj</th>\n",
       "    </tr>\n",
       "  </thead>\n",
       "  <tbody>\n",
       "    <tr>\n",
       "      <th>0</th>\n",
       "      <td>135397</td>\n",
       "      <td>tt0369610</td>\n",
       "      <td>32.985763</td>\n",
       "      <td>150000000</td>\n",
       "      <td>1513528810</td>\n",
       "      <td>Jurassic World</td>\n",
       "      <td>Chris Pratt|Bryce Dallas Howard|Irrfan Khan|Vi...</td>\n",
       "      <td>http://www.jurassicworld.com/</td>\n",
       "      <td>Colin Trevorrow</td>\n",
       "      <td>The park is open.</td>\n",
       "      <td>...</td>\n",
       "      <td>Twenty-two years after the events of Jurassic ...</td>\n",
       "      <td>124</td>\n",
       "      <td>Action|Adventure|Science Fiction|Thriller</td>\n",
       "      <td>Universal Studios|Amblin Entertainment|Legenda...</td>\n",
       "      <td>6/9/15</td>\n",
       "      <td>5562</td>\n",
       "      <td>6.5</td>\n",
       "      <td>2015</td>\n",
       "      <td>1.379999e+08</td>\n",
       "      <td>1.392446e+09</td>\n",
       "    </tr>\n",
       "    <tr>\n",
       "      <th>1</th>\n",
       "      <td>76341</td>\n",
       "      <td>tt1392190</td>\n",
       "      <td>28.419936</td>\n",
       "      <td>150000000</td>\n",
       "      <td>378436354</td>\n",
       "      <td>Mad Max: Fury Road</td>\n",
       "      <td>Tom Hardy|Charlize Theron|Hugh Keays-Byrne|Nic...</td>\n",
       "      <td>http://www.madmaxmovie.com/</td>\n",
       "      <td>George Miller</td>\n",
       "      <td>What a Lovely Day.</td>\n",
       "      <td>...</td>\n",
       "      <td>An apocalyptic story set in the furthest reach...</td>\n",
       "      <td>120</td>\n",
       "      <td>Action|Adventure|Science Fiction|Thriller</td>\n",
       "      <td>Village Roadshow Pictures|Kennedy Miller Produ...</td>\n",
       "      <td>5/13/15</td>\n",
       "      <td>6185</td>\n",
       "      <td>7.1</td>\n",
       "      <td>2015</td>\n",
       "      <td>1.379999e+08</td>\n",
       "      <td>3.481613e+08</td>\n",
       "    </tr>\n",
       "    <tr>\n",
       "      <th>2</th>\n",
       "      <td>262500</td>\n",
       "      <td>tt2908446</td>\n",
       "      <td>13.112507</td>\n",
       "      <td>110000000</td>\n",
       "      <td>295238201</td>\n",
       "      <td>Insurgent</td>\n",
       "      <td>Shailene Woodley|Theo James|Kate Winslet|Ansel...</td>\n",
       "      <td>http://www.thedivergentseries.movie/#insurgent</td>\n",
       "      <td>Robert Schwentke</td>\n",
       "      <td>One Choice Can Destroy You</td>\n",
       "      <td>...</td>\n",
       "      <td>Beatrice Prior must confront her inner demons ...</td>\n",
       "      <td>119</td>\n",
       "      <td>Adventure|Science Fiction|Thriller</td>\n",
       "      <td>Summit Entertainment|Mandeville Films|Red Wago...</td>\n",
       "      <td>3/18/15</td>\n",
       "      <td>2480</td>\n",
       "      <td>6.3</td>\n",
       "      <td>2015</td>\n",
       "      <td>1.012000e+08</td>\n",
       "      <td>2.716190e+08</td>\n",
       "    </tr>\n",
       "    <tr>\n",
       "      <th>3</th>\n",
       "      <td>140607</td>\n",
       "      <td>tt2488496</td>\n",
       "      <td>11.173104</td>\n",
       "      <td>200000000</td>\n",
       "      <td>2068178225</td>\n",
       "      <td>Star Wars: The Force Awakens</td>\n",
       "      <td>Harrison Ford|Mark Hamill|Carrie Fisher|Adam D...</td>\n",
       "      <td>http://www.starwars.com/films/star-wars-episod...</td>\n",
       "      <td>J.J. Abrams</td>\n",
       "      <td>Every generation has a story.</td>\n",
       "      <td>...</td>\n",
       "      <td>Thirty years after defeating the Galactic Empi...</td>\n",
       "      <td>136</td>\n",
       "      <td>Action|Adventure|Science Fiction|Fantasy</td>\n",
       "      <td>Lucasfilm|Truenorth Productions|Bad Robot</td>\n",
       "      <td>12/15/15</td>\n",
       "      <td>5292</td>\n",
       "      <td>7.5</td>\n",
       "      <td>2015</td>\n",
       "      <td>1.839999e+08</td>\n",
       "      <td>1.902723e+09</td>\n",
       "    </tr>\n",
       "    <tr>\n",
       "      <th>4</th>\n",
       "      <td>168259</td>\n",
       "      <td>tt2820852</td>\n",
       "      <td>9.335014</td>\n",
       "      <td>190000000</td>\n",
       "      <td>1506249360</td>\n",
       "      <td>Furious 7</td>\n",
       "      <td>Vin Diesel|Paul Walker|Jason Statham|Michelle ...</td>\n",
       "      <td>http://www.furious7.com/</td>\n",
       "      <td>James Wan</td>\n",
       "      <td>Vengeance Hits Home</td>\n",
       "      <td>...</td>\n",
       "      <td>Deckard Shaw seeks revenge against Dominic Tor...</td>\n",
       "      <td>137</td>\n",
       "      <td>Action|Crime|Thriller</td>\n",
       "      <td>Universal Pictures|Original Film|Media Rights ...</td>\n",
       "      <td>4/1/15</td>\n",
       "      <td>2947</td>\n",
       "      <td>7.3</td>\n",
       "      <td>2015</td>\n",
       "      <td>1.747999e+08</td>\n",
       "      <td>1.385749e+09</td>\n",
       "    </tr>\n",
       "  </tbody>\n",
       "</table>\n",
       "<p>5 rows × 21 columns</p>\n",
       "</div>"
      ],
      "text/plain": [
       "       id    imdb_id  popularity     budget     revenue  \\\n",
       "0  135397  tt0369610   32.985763  150000000  1513528810   \n",
       "1   76341  tt1392190   28.419936  150000000   378436354   \n",
       "2  262500  tt2908446   13.112507  110000000   295238201   \n",
       "3  140607  tt2488496   11.173104  200000000  2068178225   \n",
       "4  168259  tt2820852    9.335014  190000000  1506249360   \n",
       "\n",
       "                 original_title  \\\n",
       "0                Jurassic World   \n",
       "1            Mad Max: Fury Road   \n",
       "2                     Insurgent   \n",
       "3  Star Wars: The Force Awakens   \n",
       "4                     Furious 7   \n",
       "\n",
       "                                                cast  \\\n",
       "0  Chris Pratt|Bryce Dallas Howard|Irrfan Khan|Vi...   \n",
       "1  Tom Hardy|Charlize Theron|Hugh Keays-Byrne|Nic...   \n",
       "2  Shailene Woodley|Theo James|Kate Winslet|Ansel...   \n",
       "3  Harrison Ford|Mark Hamill|Carrie Fisher|Adam D...   \n",
       "4  Vin Diesel|Paul Walker|Jason Statham|Michelle ...   \n",
       "\n",
       "                                            homepage          director  \\\n",
       "0                      http://www.jurassicworld.com/   Colin Trevorrow   \n",
       "1                        http://www.madmaxmovie.com/     George Miller   \n",
       "2     http://www.thedivergentseries.movie/#insurgent  Robert Schwentke   \n",
       "3  http://www.starwars.com/films/star-wars-episod...       J.J. Abrams   \n",
       "4                           http://www.furious7.com/         James Wan   \n",
       "\n",
       "                         tagline      ...       \\\n",
       "0              The park is open.      ...        \n",
       "1             What a Lovely Day.      ...        \n",
       "2     One Choice Can Destroy You      ...        \n",
       "3  Every generation has a story.      ...        \n",
       "4            Vengeance Hits Home      ...        \n",
       "\n",
       "                                            overview runtime  \\\n",
       "0  Twenty-two years after the events of Jurassic ...     124   \n",
       "1  An apocalyptic story set in the furthest reach...     120   \n",
       "2  Beatrice Prior must confront her inner demons ...     119   \n",
       "3  Thirty years after defeating the Galactic Empi...     136   \n",
       "4  Deckard Shaw seeks revenge against Dominic Tor...     137   \n",
       "\n",
       "                                      genres  \\\n",
       "0  Action|Adventure|Science Fiction|Thriller   \n",
       "1  Action|Adventure|Science Fiction|Thriller   \n",
       "2         Adventure|Science Fiction|Thriller   \n",
       "3   Action|Adventure|Science Fiction|Fantasy   \n",
       "4                      Action|Crime|Thriller   \n",
       "\n",
       "                                production_companies release_date vote_count  \\\n",
       "0  Universal Studios|Amblin Entertainment|Legenda...       6/9/15       5562   \n",
       "1  Village Roadshow Pictures|Kennedy Miller Produ...      5/13/15       6185   \n",
       "2  Summit Entertainment|Mandeville Films|Red Wago...      3/18/15       2480   \n",
       "3          Lucasfilm|Truenorth Productions|Bad Robot     12/15/15       5292   \n",
       "4  Universal Pictures|Original Film|Media Rights ...       4/1/15       2947   \n",
       "\n",
       "   vote_average  release_year    budget_adj   revenue_adj  \n",
       "0           6.5          2015  1.379999e+08  1.392446e+09  \n",
       "1           7.1          2015  1.379999e+08  3.481613e+08  \n",
       "2           6.3          2015  1.012000e+08  2.716190e+08  \n",
       "3           7.5          2015  1.839999e+08  1.902723e+09  \n",
       "4           7.3          2015  1.747999e+08  1.385749e+09  \n",
       "\n",
       "[5 rows x 21 columns]"
      ]
     },
     "execution_count": 2,
     "metadata": {},
     "output_type": "execute_result"
    }
   ],
   "source": [
    "df = pd.read_csv('tmdb-movies.csv')\n",
    "df.head()"
   ]
  },
  {
   "cell_type": "markdown",
   "metadata": {},
   "source": [
    "### Data Cleaning\n",
    "#### Convert the 'release_date' column to datetime\n",
    "> Parsing the column using the typical parse_dates argument of pd.read_csv or the pd.to_datetime function does not work properly. The reason being that the column contains years in the 1900s, and Python assumes all years are in the 21st century, resulting in incorrectly parsed future years. I will have to correctly identify and fix the problematic years before parsing the column.\n",
    "* Create a boolean mask to locate problematic years\n",
    "* Correctly label the dates\n",
    "* Parse the column to datetime\n",
    "\n",
    "#### Columns to drop\n",
    "> I will drop the __budget__ and __revenue__ columns and use their adjusted values instead\n",
    "\n",
    "> I will drop all columns except for the following, which I will be using for my analysis:\n",
    "* [__original_title__, __cast__, __director__, __genres__, __production_companies__, __release_date__, __vote_average__, __release_year__, __budget__]\n",
    "\n",
    "> I will drop all null values\n",
    "\n",
    "> I will drop rows with zeros in relevant columns I will be analysing\n",
    "* __vote_average__, __budget__, __revenue__\n",
    "\n"
   ]
  },
  {
   "cell_type": "code",
   "execution_count": 3,
   "metadata": {},
   "outputs": [],
   "source": [
    "# Python does not properly parse certain years (ex: 1-1-66 gets parsed as 2066-1-1)\n",
    "# Include a '19' in front of all years in the 1900's to clearly indicate the century\n",
    "from datetime import datetime\n",
    "\n",
    "# Boolean mask for years in the 1900's\n",
    "incorrect_dates = df['release_year'] < 2000\n",
    "# Correct the dates\n",
    "df.loc[incorrect_dates,'release_date'] = df[incorrect_dates]['release_date'].apply(lambda x: x[:-2] + '19' + x[-2:])\n",
    "# Parse release_date column\n",
    "df['release_date'] = pd.to_datetime(df['release_date'])"
   ]
  },
  {
   "cell_type": "code",
   "execution_count": 4,
   "metadata": {},
   "outputs": [
    {
     "data": {
      "text/plain": [
       "Index(['id', 'imdb_id', 'popularity', 'budget', 'revenue', 'original_title',\n",
       "       'cast', 'homepage', 'director', 'tagline', 'keywords', 'overview',\n",
       "       'runtime', 'genres', 'production_companies', 'release_date',\n",
       "       'vote_count', 'vote_average', 'release_year', 'budget_adj',\n",
       "       'revenue_adj'],\n",
       "      dtype='object')"
      ]
     },
     "execution_count": 4,
     "metadata": {},
     "output_type": "execute_result"
    }
   ],
   "source": [
    "df.columns"
   ]
  },
  {
   "cell_type": "code",
   "execution_count": 5,
   "metadata": {},
   "outputs": [
    {
     "data": {
      "text/html": [
       "<div>\n",
       "<style scoped>\n",
       "    .dataframe tbody tr th:only-of-type {\n",
       "        vertical-align: middle;\n",
       "    }\n",
       "\n",
       "    .dataframe tbody tr th {\n",
       "        vertical-align: top;\n",
       "    }\n",
       "\n",
       "    .dataframe thead th {\n",
       "        text-align: right;\n",
       "    }\n",
       "</style>\n",
       "<table border=\"1\" class=\"dataframe\">\n",
       "  <thead>\n",
       "    <tr style=\"text-align: right;\">\n",
       "      <th></th>\n",
       "      <th>original_title</th>\n",
       "      <th>cast</th>\n",
       "      <th>director</th>\n",
       "      <th>genres</th>\n",
       "      <th>production_companies</th>\n",
       "      <th>release_date</th>\n",
       "      <th>vote_average</th>\n",
       "      <th>budget</th>\n",
       "      <th>revenue</th>\n",
       "    </tr>\n",
       "  </thead>\n",
       "  <tbody>\n",
       "    <tr>\n",
       "      <th>0</th>\n",
       "      <td>Jurassic World</td>\n",
       "      <td>Chris Pratt|Bryce Dallas Howard|Irrfan Khan|Vi...</td>\n",
       "      <td>Colin Trevorrow</td>\n",
       "      <td>Action|Adventure|Science Fiction|Thriller</td>\n",
       "      <td>Universal Studios|Amblin Entertainment|Legenda...</td>\n",
       "      <td>2015-06-09</td>\n",
       "      <td>6.5</td>\n",
       "      <td>1.379999e+08</td>\n",
       "      <td>1.392446e+09</td>\n",
       "    </tr>\n",
       "    <tr>\n",
       "      <th>1</th>\n",
       "      <td>Mad Max: Fury Road</td>\n",
       "      <td>Tom Hardy|Charlize Theron|Hugh Keays-Byrne|Nic...</td>\n",
       "      <td>George Miller</td>\n",
       "      <td>Action|Adventure|Science Fiction|Thriller</td>\n",
       "      <td>Village Roadshow Pictures|Kennedy Miller Produ...</td>\n",
       "      <td>2015-05-13</td>\n",
       "      <td>7.1</td>\n",
       "      <td>1.379999e+08</td>\n",
       "      <td>3.481613e+08</td>\n",
       "    </tr>\n",
       "    <tr>\n",
       "      <th>2</th>\n",
       "      <td>Insurgent</td>\n",
       "      <td>Shailene Woodley|Theo James|Kate Winslet|Ansel...</td>\n",
       "      <td>Robert Schwentke</td>\n",
       "      <td>Adventure|Science Fiction|Thriller</td>\n",
       "      <td>Summit Entertainment|Mandeville Films|Red Wago...</td>\n",
       "      <td>2015-03-18</td>\n",
       "      <td>6.3</td>\n",
       "      <td>1.012000e+08</td>\n",
       "      <td>2.716190e+08</td>\n",
       "    </tr>\n",
       "    <tr>\n",
       "      <th>3</th>\n",
       "      <td>Star Wars: The Force Awakens</td>\n",
       "      <td>Harrison Ford|Mark Hamill|Carrie Fisher|Adam D...</td>\n",
       "      <td>J.J. Abrams</td>\n",
       "      <td>Action|Adventure|Science Fiction|Fantasy</td>\n",
       "      <td>Lucasfilm|Truenorth Productions|Bad Robot</td>\n",
       "      <td>2015-12-15</td>\n",
       "      <td>7.5</td>\n",
       "      <td>1.839999e+08</td>\n",
       "      <td>1.902723e+09</td>\n",
       "    </tr>\n",
       "    <tr>\n",
       "      <th>4</th>\n",
       "      <td>Furious 7</td>\n",
       "      <td>Vin Diesel|Paul Walker|Jason Statham|Michelle ...</td>\n",
       "      <td>James Wan</td>\n",
       "      <td>Action|Crime|Thriller</td>\n",
       "      <td>Universal Pictures|Original Film|Media Rights ...</td>\n",
       "      <td>2015-04-01</td>\n",
       "      <td>7.3</td>\n",
       "      <td>1.747999e+08</td>\n",
       "      <td>1.385749e+09</td>\n",
       "    </tr>\n",
       "  </tbody>\n",
       "</table>\n",
       "</div>"
      ],
      "text/plain": [
       "                 original_title  \\\n",
       "0                Jurassic World   \n",
       "1            Mad Max: Fury Road   \n",
       "2                     Insurgent   \n",
       "3  Star Wars: The Force Awakens   \n",
       "4                     Furious 7   \n",
       "\n",
       "                                                cast          director  \\\n",
       "0  Chris Pratt|Bryce Dallas Howard|Irrfan Khan|Vi...   Colin Trevorrow   \n",
       "1  Tom Hardy|Charlize Theron|Hugh Keays-Byrne|Nic...     George Miller   \n",
       "2  Shailene Woodley|Theo James|Kate Winslet|Ansel...  Robert Schwentke   \n",
       "3  Harrison Ford|Mark Hamill|Carrie Fisher|Adam D...       J.J. Abrams   \n",
       "4  Vin Diesel|Paul Walker|Jason Statham|Michelle ...         James Wan   \n",
       "\n",
       "                                      genres  \\\n",
       "0  Action|Adventure|Science Fiction|Thriller   \n",
       "1  Action|Adventure|Science Fiction|Thriller   \n",
       "2         Adventure|Science Fiction|Thriller   \n",
       "3   Action|Adventure|Science Fiction|Fantasy   \n",
       "4                      Action|Crime|Thriller   \n",
       "\n",
       "                                production_companies release_date  \\\n",
       "0  Universal Studios|Amblin Entertainment|Legenda...   2015-06-09   \n",
       "1  Village Roadshow Pictures|Kennedy Miller Produ...   2015-05-13   \n",
       "2  Summit Entertainment|Mandeville Films|Red Wago...   2015-03-18   \n",
       "3          Lucasfilm|Truenorth Productions|Bad Robot   2015-12-15   \n",
       "4  Universal Pictures|Original Film|Media Rights ...   2015-04-01   \n",
       "\n",
       "   vote_average        budget       revenue  \n",
       "0           6.5  1.379999e+08  1.392446e+09  \n",
       "1           7.1  1.379999e+08  3.481613e+08  \n",
       "2           6.3  1.012000e+08  2.716190e+08  \n",
       "3           7.5  1.839999e+08  1.902723e+09  \n",
       "4           7.3  1.747999e+08  1.385749e+09  "
      ]
     },
     "execution_count": 5,
     "metadata": {},
     "output_type": "execute_result"
    }
   ],
   "source": [
    "# Drop budget and revenue column\n",
    "df.drop(columns=['budget','revenue'], inplace=True)\n",
    "# Rename budget_adj column to budget\n",
    "df.rename(columns={'budget_adj':'budget','revenue_adj':'revenue'}, inplace=True)\n",
    "\n",
    "# List of columns to keep ['original_title','cast','director','genres','production_companies','release_date','vote_average','release_year','budget']\n",
    "keep_list = ['original_title','cast','director','genres','production_companies','release_date','vote_average','budget','revenue']\n",
    "# Update DataFrame\n",
    "df = df[keep_list]\n",
    "\n",
    "# Change all values of 'nan' to null values, then drop rows with null values\n",
    "df.replace('nan', np.nan, inplace=True)\n",
    "df.dropna(subset=['original_title','cast','director','genres','production_companies','release_date'], inplace=True)\n",
    "\n",
    "# Drop rows with zeros in relevant columns\n",
    "df = df.loc[df[['vote_average','budget','revenue']].ne(0).all(axis=1)]\n",
    "\n",
    "# Replace zeros with the mean in relevant columns\n",
    "'''\n",
    "df['vote_average'] = df['vote_average'].replace(0, df.vote_average.mean())\n",
    "df['budget'] = df['budget'].replace(0, df.budget.mean())\n",
    "df['revenue'] = df['revenue'].replace(0, df.revenue.mean())\n",
    "'''\n",
    "\n",
    "df.head()"
   ]
  },
  {
   "cell_type": "code",
   "execution_count": 6,
   "metadata": {},
   "outputs": [
    {
     "data": {
      "text/plain": [
       "(3806, 9)"
      ]
     },
     "execution_count": 6,
     "metadata": {},
     "output_type": "execute_result"
    }
   ],
   "source": [
    "df.shape"
   ]
  },
  {
   "cell_type": "markdown",
   "metadata": {},
   "source": [
    "<a id='eda'></a>\n",
    "## Exploratory Data Analysis"
   ]
  },
  {
   "cell_type": "markdown",
   "metadata": {},
   "source": [
    "### Which months are the best times to view movies?\n",
    "#### Description:\n",
    "> Determine which months have the highest average rating, view the median number of movies released each month, and determine the average budget for movies by their release month.\n",
    "\n",
    "#### Procedure:\n",
    "> \n",
    "1. Plot the average rating vs. release month\n",
    "  1. Create a copy of the DataFrame and name it __rating_by_month__\n",
    "  2. Convert the __release_date__ column to numerical representations of the month\n",
    "  3. Group by __release_date__, then find the mean of the __vote_average__, and plot the values\n",
    "2. Plot the median number of movies each month\n",
    "  1. Create a copy of the DataFrame with the index set to __release_date__ and name it __monthly_count__\n",
    "  2. Resample the __monthly_count__ DataFrame by month, and count the number of movies that appear each month\n",
    "  3. Drop the months with zero movies\n",
    "  4. Reset the index\n",
    "  5. Convert the __release_date__ column to numerical representations of the month\n",
    "  6. Group by __release_date__, then find the median number of movies for each month, and plot as a bar chart\n",
    "3. Plot the average budget vs. release_month\n",
    "  1. Create a copy of the DataFrame and name it __budget_info__\n",
    "  2. Convert the __release_date__ column to numerical representations of the month\n",
    "  3. Group by __release_date__, then find the mean of the __budget__, and plot the values"
   ]
  },
  {
   "cell_type": "markdown",
   "metadata": {},
   "source": [
    "##### 1. Plot the average rating vs. release month\n",
    "##### 2. Plot the median number of movies each month\n",
    "##### 3. Plot the average budget vs. release_month"
   ]
  },
  {
   "cell_type": "code",
   "execution_count": 7,
   "metadata": {
    "scrolled": false
   },
   "outputs": [
    {
     "data": {
      "image/png": "[encoded data removed]",
      "text/plain": [
       "<matplotlib.figure.Figure at 0x1ce6c963eb8>"
      ]
     },
     "metadata": {},
     "output_type": "display_data"
    },
    {
     "data": {
      "image/png": "[encoded data removed]",
      "text/plain": [
       "<matplotlib.figure.Figure at 0x1ce6cb77b00>"
      ]
     },
     "metadata": {},
     "output_type": "display_data"
    },
    {
     "data": {
      "image/png": "[encoded data removed]",
      "text/plain": [
       "<matplotlib.figure.Figure at 0x1ce6cdba0f0>"
      ]
     },
     "metadata": {},
     "output_type": "display_data"
    }
   ],
   "source": [
    "# Plot the average rating vs. release month\n",
    "plt.figure\n",
    "rating_by_month = df.copy()\n",
    "rating_by_month['release_date'] = rating_by_month['release_date'].dt.month\n",
    "rating_by_month.groupby('release_date')['vote_average'].mean().plot(figsize=(10,5))\n",
    "plt.subplots_adjust(left = 0.145)\n",
    "plt.title('Figure 1')\n",
    "plt.xlabel('Release Month')\n",
    "plt.ylabel('Average Rating')\n",
    "plt.show()\n",
    "\n",
    "# Plot the median number of movies each month\n",
    "plt.figure\n",
    "monthly_count = df.set_index('release_date')\n",
    "monthly_count = monthly_count.resample('M').count()\n",
    "monthly_count = monthly_count.loc[monthly_count.ne(0).all(axis=1)]\n",
    "monthly_count = monthly_count.reset_index()\n",
    "monthly_count['release_date'] = monthly_count['release_date'].dt.month\n",
    "standout = ['grey','grey','gray','grey','b','b','b','grey','b','b','b','b']\n",
    "monthly_count.groupby('release_date')['original_title'].median().plot(kind='bar', color=standout, figsize=(10,5))\n",
    "plt.title('Figure 2')\n",
    "plt.xlabel('Release Month')\n",
    "plt.ylabel('Median Number of Movies')\n",
    "plt.show()\n",
    "\n",
    "# Plot the average budget vs. release_month\n",
    "plt.figure\n",
    "budget_info = df.copy()\n",
    "budget_info['release_date'] = budget_info['release_date'].dt.month\n",
    "budget_info.groupby('release_date')['budget'].mean().plot(figsize=(10,5))\n",
    "plt.title('Figure 3')\n",
    "plt.xlabel('Release Month')\n",
    "plt.ylabel('Average Budget');"
   ]
  },
  {
   "cell_type": "markdown",
   "metadata": {},
   "source": [
    "> By comparing Figures 1 and 2, it is quite clear that movies released on certain months have a higher average rating than others. This seems to be correlated with the observation that months with higher average ratings also have a higher number of newly released movies. These observations lead to a possible correlation between a movie's rating and the month it was released.\n",
    "\n",
    "> By comparing Figures 1 and 3, an odd observation is discovered. The average ratings and the average budget for the months of May, June, July, November, and December seem to be correlated; but this is not true for the months of September, and October. Although the latter is observed, it seems that there may still be a correlation between a movie's budget and its rating."
   ]
  },
  {
   "cell_type": "markdown",
   "metadata": {},
   "source": [
    "### Which actors, directors, and production companies produce the best movies by genre?\n",
    "#### Description:\n",
    "> I would like to find the top 10 actors/directors/production_companies by genre.\n",
    "\n",
    "#### Procedure:\n",
    "> \n",
    "1. Preliminary steps:\n",
    "  1. Write a function to expand each of these columns, as each row contains multiple values\n",
    "  2. Expand the columns\n",
    "2. Find the top 10 actors by genre\n",
    "  1. Group by the __genres__ and __cast__ column, then find the mean of the __vote_average__ column\n",
    "  2. Take the previous groupby object, groupby the __genres__ colum, then find the top 10 values from the __vote_average__ column\n",
    "3. Find the top 10 directors by genre\n",
    "  1. Group by the __genres__ and __director__ column, then find the mean of the __vote_average__ column\n",
    "  2. Take the previous groupby object, groupby the __genres__ colum, then find the top 10 values from the __vote_average__ \n",
    "4. Find the top 10 production companies by genre\n",
    "  1. Group by the __genres__ and __production_companies__ column, then find the mean of the __vote_average__ column\n",
    "  2. Take the previous groupby object, groupby the __genres__ colum, then find the top 10 values from the __vote_average__ "
   ]
  },
  {
   "cell_type": "markdown",
   "metadata": {},
   "source": [
    "##### 1. Preliminary steps:"
   ]
  },
  {
   "cell_type": "code",
   "execution_count": 8,
   "metadata": {},
   "outputs": [],
   "source": [
    "# Function to expand columns with multiple values\n",
    "def expand(df_in, column, sep='|'):\n",
    "    \"\"\"\n",
    "    !!! IMPORTANT !!! : \n",
    "        df_in MUST HAVE NO NULL VALUES\n",
    "    !!! IMPORTANT !!!\n",
    "    \n",
    "    Split the values of a column and expand so the new\n",
    "    DataFrame has one row per value.\n",
    "    \"\"\"\n",
    "    indexes = list()\n",
    "    new_values = list()\n",
    "    # Find all rows, and column values to expand\n",
    "    for i, presplit in enumerate(df_in[column]):\n",
    "        # Expand the column values and store\n",
    "        values = presplit.split(sep)\n",
    "        new_values += values\n",
    "        # Duplicate the row index and store\n",
    "        indexes += [i] * len(values)\n",
    "    # Copy of the original DataFrame with duplicate\n",
    "     # rows to match expanded column\n",
    "    df_out = df_in.iloc[indexes, :].copy()\n",
    "    # Replace the column with the expanded values\n",
    "    df_out[column] = new_values\n",
    "    # Renumber the index\n",
    "    df_out.index = list(range(len(df_out)))\n",
    "    \n",
    "    return df_out"
   ]
  },
  {
   "cell_type": "code",
   "execution_count": 9,
   "metadata": {},
   "outputs": [
    {
     "name": "stdout",
     "output_type": "stream",
     "text": [
      "Properly expanded!\n"
     ]
    }
   ],
   "source": [
    "# Test to see it can properly expand the columns\n",
    "\n",
    "# Columns to expand\n",
    "expand_columns = ['cast','director', 'genres','production_companies']\n",
    "\n",
    "# Create a new dataframe\n",
    "test = df.copy()\n",
    "# Loop through all columns\n",
    "count = 0\n",
    "for column in expand_columns:\n",
    "    test = expand(test,column)\n",
    "    if not test[column].str.contains(\"\\|\").any():\n",
    "        count += 1\n",
    "    # Check to see it worked\n",
    "    # Should print, \"Properly expanded!\"\n",
    "    if count == 4:\n",
    "        print('Properly expanded!')"
   ]
  },
  {
   "cell_type": "code",
   "execution_count": 10,
   "metadata": {},
   "outputs": [],
   "source": [
    "# Expand the genres column, and store in a new DataFrame\n",
    "expand_genres = expand(df.copy(), 'genres')\n",
    "\n",
    "# Create a list of all the genres\n",
    "genres_list = sorted(list(expand_genres['genres'].unique()))\n",
    "\n",
    "# Create a new DataFrame for each attribute and expand the corresponding column\n",
    "cast_genres = expand(expand_genres, 'cast')\n",
    "dir_genres = expand(expand_genres, 'director')\n",
    "prod_genres = expand(expand_genres, 'production_companies')"
   ]
  },
  {
   "cell_type": "markdown",
   "metadata": {},
   "source": [
    "##### 2. Find the top 100 actors by genre"
   ]
  },
  {
   "cell_type": "code",
   "execution_count": 11,
   "metadata": {
    "scrolled": true
   },
   "outputs": [],
   "source": [
    "# Find the top 10 actors by genre\n",
    "cast_averages = pd.DataFrame(cast_genres.groupby(['genres', 'cast'])['vote_average'].mean())\n",
    "find_top_10 = cast_averages['vote_average'].groupby(level=0, group_keys=False)\n",
    "top_10_cast = pd.DataFrame(find_top_10.nlargest(10)).reset_index()\n",
    "top_10_cast = top_10_cast.groupby('genres')['cast'].unique().to_dict()"
   ]
  },
  {
   "cell_type": "markdown",
   "metadata": {},
   "source": [
    "##### 3. Find the top 10 directors by genre"
   ]
  },
  {
   "cell_type": "code",
   "execution_count": 12,
   "metadata": {},
   "outputs": [],
   "source": [
    "# Find the top 10 directors by genre\n",
    "dir_averages = pd.DataFrame(dir_genres.groupby(['genres', 'director'])['vote_average'].mean())\n",
    "find_top_10 = dir_averages['vote_average'].groupby(level=0, group_keys=False)\n",
    "top_10_dir = pd.DataFrame(find_top_10.nlargest(10)).reset_index()\n",
    "top_10_dir = top_10_dir.groupby('genres')['director'].unique().to_dict()"
   ]
  },
  {
   "cell_type": "markdown",
   "metadata": {},
   "source": [
    "##### 4. Find the top 10 production companies by genre"
   ]
  },
  {
   "cell_type": "code",
   "execution_count": 13,
   "metadata": {
    "scrolled": false
   },
   "outputs": [],
   "source": [
    "# Find the top 10 production companies by genre\n",
    "prod_averages = pd.DataFrame(prod_genres.groupby(['genres', 'production_companies'])['vote_average'].mean())\n",
    "find_top_10 = prod_averages['vote_average'].groupby(level=0, group_keys=False)\n",
    "top_10_prod = pd.DataFrame(find_top_10.nlargest(10)).reset_index()\n",
    "top_10_prod = top_10_prod.groupby('genres')['production_companies'].unique().to_dict()"
   ]
  },
  {
   "cell_type": "markdown",
   "metadata": {},
   "source": [
    "<a id='eda'></a>\n",
    "## Modeling"
   ]
  },
  {
   "cell_type": "markdown",
   "metadata": {},
   "source": [
    "### Preprocessing\n",
    "#### Description:\n",
    "> Create boolean columns aka *dummy variables* for the **cast**, **director**, **production_companies**, and **genres** columns to fit the data to a linear regression model.\n",
    "\n",
    "> Transform the **release_date** column into numerical representations of month to include it in the model as well.\n",
    "\n",
    "#### Procedure:\n",
    "> \n",
    "1. Replace the **cast**, **director**, **and production_companies** columns with dummy variables depending on whether or not the movie has a value in the top 10 feature for the movie's genre. <div class=\"alert alert-block alert-info\"> (E.g. An action movie will have a value of 1 in the cast column if it has an actor in the top 10 list of action movies) </div>\n",
    "  1. Loop through the features and their corresponding DataFrames\n",
    "    1. Split the feature column into a list using the .split() method\n",
    "  2. Loop through the genres\n",
    "    1. Find all movies in correspondence with the top 10 of the current feature for the current genre\n",
    "2. Create dummy variables for each genre in the **genres** column\n",
    "  1. Use pd.get_dummies() to create dummy variables\n",
    "  2. Drop the original genres column\n",
    "3. Collapse the DataFrame back to one movie per row\n",
    "  1. Collapse genre features\n",
    "    1. Groupby **original_title** and **release_date**, then sum the genre columns\n",
    "  2. Collapse remaining features\n",
    "    2. Groupby **original_title** and **release_date**, then find the unique values for the remaining columns\n",
    "4. Convert the **release_date**s into months\n",
    "  1. Use the dt.month method to convert the column into integer values of month\n",
    "5. Combine all steps into one function"
   ]
  },
  {
   "cell_type": "markdown",
   "metadata": {},
   "source": [
    "##### 1. Replace the **cast**, **director**, **and production_companies** columns with dummy variables"
   ]
  },
  {
   "cell_type": "code",
   "execution_count": 14,
   "metadata": {},
   "outputs": [
    {
     "data": {
      "text/html": [
       "<div>\n",
       "<style scoped>\n",
       "    .dataframe tbody tr th:only-of-type {\n",
       "        vertical-align: middle;\n",
       "    }\n",
       "\n",
       "    .dataframe tbody tr th {\n",
       "        vertical-align: top;\n",
       "    }\n",
       "\n",
       "    .dataframe thead th {\n",
       "        text-align: right;\n",
       "    }\n",
       "</style>\n",
       "<table border=\"1\" class=\"dataframe\">\n",
       "  <thead>\n",
       "    <tr style=\"text-align: right;\">\n",
       "      <th></th>\n",
       "      <th>original_title</th>\n",
       "      <th>cast</th>\n",
       "      <th>director</th>\n",
       "      <th>genres</th>\n",
       "      <th>production_companies</th>\n",
       "      <th>release_date</th>\n",
       "      <th>vote_average</th>\n",
       "      <th>budget</th>\n",
       "      <th>revenue</th>\n",
       "    </tr>\n",
       "  </thead>\n",
       "  <tbody>\n",
       "    <tr>\n",
       "      <th>0</th>\n",
       "      <td>Jurassic World</td>\n",
       "      <td>0</td>\n",
       "      <td>0</td>\n",
       "      <td>Action</td>\n",
       "      <td>0</td>\n",
       "      <td>2015-06-09</td>\n",
       "      <td>6.5</td>\n",
       "      <td>1.379999e+08</td>\n",
       "      <td>1.392446e+09</td>\n",
       "    </tr>\n",
       "    <tr>\n",
       "      <th>1</th>\n",
       "      <td>Jurassic World</td>\n",
       "      <td>0</td>\n",
       "      <td>0</td>\n",
       "      <td>Adventure</td>\n",
       "      <td>0</td>\n",
       "      <td>2015-06-09</td>\n",
       "      <td>6.5</td>\n",
       "      <td>1.379999e+08</td>\n",
       "      <td>1.392446e+09</td>\n",
       "    </tr>\n",
       "    <tr>\n",
       "      <th>2</th>\n",
       "      <td>Jurassic World</td>\n",
       "      <td>0</td>\n",
       "      <td>0</td>\n",
       "      <td>Science Fiction</td>\n",
       "      <td>0</td>\n",
       "      <td>2015-06-09</td>\n",
       "      <td>6.5</td>\n",
       "      <td>1.379999e+08</td>\n",
       "      <td>1.392446e+09</td>\n",
       "    </tr>\n",
       "  </tbody>\n",
       "</table>\n",
       "</div>"
      ],
      "text/plain": [
       "   original_title  cast  director           genres  production_companies  \\\n",
       "0  Jurassic World     0         0           Action                     0   \n",
       "1  Jurassic World     0         0        Adventure                     0   \n",
       "2  Jurassic World     0         0  Science Fiction                     0   \n",
       "\n",
       "  release_date  vote_average        budget       revenue  \n",
       "0   2015-06-09           6.5  1.379999e+08  1.392446e+09  \n",
       "1   2015-06-09           6.5  1.379999e+08  1.392446e+09  \n",
       "2   2015-06-09           6.5  1.379999e+08  1.392446e+09  "
      ]
     },
     "execution_count": 14,
     "metadata": {},
     "output_type": "execute_result"
    }
   ],
   "source": [
    "# List of features\n",
    "features = ['cast', 'director', 'production_companies']\n",
    "# List of dataframes\n",
    "dataframes = [top_10_cast, top_10_dir, top_10_prod]\n",
    "# Copy the expand_genres DataFrame\n",
    "model_df = expand_genres[expand_genres.columns]\n",
    "\n",
    "# Loop through the features and their corresponding DataFrames\n",
    "for i in range(3):\n",
    "    feature = features[i]\n",
    "    data =  dataframes[i]\n",
    "    # Split the feature column\n",
    "    model_df[feature] = model_df[feature].apply(lambda x: x.split('|'))\n",
    "    \n",
    "    # Loop through the genres\n",
    "    for genre in genres_list:\n",
    "        # Top 10 of the current feature for the current genre\n",
    "        top_10 = data[genre]\n",
    "\n",
    "        # Find all movies with a top_10 feature for the current genre\n",
    "        temp = model_df.loc[model_df.genres == genre, feature].apply(lambda values: any(hit in values for hit in top_10)).astype(int)\n",
    "        \n",
    "        # Update the dataframe\n",
    "        model_df.loc[model_df.genres == genre, feature] = temp\n",
    "\n",
    "# Check the DataFrame to confirm changes\n",
    "model_df.head(3)"
   ]
  },
  {
   "cell_type": "markdown",
   "metadata": {},
   "source": [
    "##### 2. Create dummy variables for each genre in the **genres** column"
   ]
  },
  {
   "cell_type": "code",
   "execution_count": 15,
   "metadata": {},
   "outputs": [
    {
     "data": {
      "text/html": [
       "<div>\n",
       "<style scoped>\n",
       "    .dataframe tbody tr th:only-of-type {\n",
       "        vertical-align: middle;\n",
       "    }\n",
       "\n",
       "    .dataframe tbody tr th {\n",
       "        vertical-align: top;\n",
       "    }\n",
       "\n",
       "    .dataframe thead th {\n",
       "        text-align: right;\n",
       "    }\n",
       "</style>\n",
       "<table border=\"1\" class=\"dataframe\">\n",
       "  <thead>\n",
       "    <tr style=\"text-align: right;\">\n",
       "      <th></th>\n",
       "      <th>original_title</th>\n",
       "      <th>cast</th>\n",
       "      <th>director</th>\n",
       "      <th>production_companies</th>\n",
       "      <th>release_date</th>\n",
       "      <th>vote_average</th>\n",
       "      <th>budget</th>\n",
       "      <th>revenue</th>\n",
       "      <th>Action</th>\n",
       "      <th>Adventure</th>\n",
       "      <th>...</th>\n",
       "      <th>History</th>\n",
       "      <th>Horror</th>\n",
       "      <th>Music</th>\n",
       "      <th>Mystery</th>\n",
       "      <th>Romance</th>\n",
       "      <th>Science Fiction</th>\n",
       "      <th>TV Movie</th>\n",
       "      <th>Thriller</th>\n",
       "      <th>War</th>\n",
       "      <th>Western</th>\n",
       "    </tr>\n",
       "  </thead>\n",
       "  <tbody>\n",
       "    <tr>\n",
       "      <th>0</th>\n",
       "      <td>Jurassic World</td>\n",
       "      <td>0</td>\n",
       "      <td>0</td>\n",
       "      <td>0</td>\n",
       "      <td>2015-06-09</td>\n",
       "      <td>6.5</td>\n",
       "      <td>1.379999e+08</td>\n",
       "      <td>1.392446e+09</td>\n",
       "      <td>1</td>\n",
       "      <td>0</td>\n",
       "      <td>...</td>\n",
       "      <td>0</td>\n",
       "      <td>0</td>\n",
       "      <td>0</td>\n",
       "      <td>0</td>\n",
       "      <td>0</td>\n",
       "      <td>0</td>\n",
       "      <td>0</td>\n",
       "      <td>0</td>\n",
       "      <td>0</td>\n",
       "      <td>0</td>\n",
       "    </tr>\n",
       "    <tr>\n",
       "      <th>1</th>\n",
       "      <td>Jurassic World</td>\n",
       "      <td>0</td>\n",
       "      <td>0</td>\n",
       "      <td>0</td>\n",
       "      <td>2015-06-09</td>\n",
       "      <td>6.5</td>\n",
       "      <td>1.379999e+08</td>\n",
       "      <td>1.392446e+09</td>\n",
       "      <td>0</td>\n",
       "      <td>1</td>\n",
       "      <td>...</td>\n",
       "      <td>0</td>\n",
       "      <td>0</td>\n",
       "      <td>0</td>\n",
       "      <td>0</td>\n",
       "      <td>0</td>\n",
       "      <td>0</td>\n",
       "      <td>0</td>\n",
       "      <td>0</td>\n",
       "      <td>0</td>\n",
       "      <td>0</td>\n",
       "    </tr>\n",
       "    <tr>\n",
       "      <th>2</th>\n",
       "      <td>Jurassic World</td>\n",
       "      <td>0</td>\n",
       "      <td>0</td>\n",
       "      <td>0</td>\n",
       "      <td>2015-06-09</td>\n",
       "      <td>6.5</td>\n",
       "      <td>1.379999e+08</td>\n",
       "      <td>1.392446e+09</td>\n",
       "      <td>0</td>\n",
       "      <td>0</td>\n",
       "      <td>...</td>\n",
       "      <td>0</td>\n",
       "      <td>0</td>\n",
       "      <td>0</td>\n",
       "      <td>0</td>\n",
       "      <td>0</td>\n",
       "      <td>1</td>\n",
       "      <td>0</td>\n",
       "      <td>0</td>\n",
       "      <td>0</td>\n",
       "      <td>0</td>\n",
       "    </tr>\n",
       "  </tbody>\n",
       "</table>\n",
       "<p>3 rows × 28 columns</p>\n",
       "</div>"
      ],
      "text/plain": [
       "   original_title  cast  director  production_companies release_date  \\\n",
       "0  Jurassic World     0         0                     0   2015-06-09   \n",
       "1  Jurassic World     0         0                     0   2015-06-09   \n",
       "2  Jurassic World     0         0                     0   2015-06-09   \n",
       "\n",
       "   vote_average        budget       revenue  Action  Adventure   ...     \\\n",
       "0           6.5  1.379999e+08  1.392446e+09       1          0   ...      \n",
       "1           6.5  1.379999e+08  1.392446e+09       0          1   ...      \n",
       "2           6.5  1.379999e+08  1.392446e+09       0          0   ...      \n",
       "\n",
       "   History  Horror  Music  Mystery  Romance  Science Fiction  TV Movie  \\\n",
       "0        0       0      0        0        0                0         0   \n",
       "1        0       0      0        0        0                0         0   \n",
       "2        0       0      0        0        0                1         0   \n",
       "\n",
       "   Thriller  War  Western  \n",
       "0         0    0        0  \n",
       "1         0    0        0  \n",
       "2         0    0        0  \n",
       "\n",
       "[3 rows x 28 columns]"
      ]
     },
     "execution_count": 15,
     "metadata": {},
     "output_type": "execute_result"
    }
   ],
   "source": [
    "# Create dummy variables\n",
    "model_df[genres_list] = pd.get_dummies(model_df['genres'])\n",
    "# Drop the original 'genres' column\n",
    "model_df.drop(columns='genres', inplace=True)\n",
    "\n",
    "# Check the DataFrame to confirm changes\n",
    "model_df.head(3)"
   ]
  },
  {
   "cell_type": "markdown",
   "metadata": {},
   "source": [
    "##### 3. Collapse the DataFrame back to one movie per row"
   ]
  },
  {
   "cell_type": "code",
   "execution_count": 16,
   "metadata": {},
   "outputs": [
    {
     "data": {
      "text/html": [
       "<div>\n",
       "<style scoped>\n",
       "    .dataframe tbody tr th:only-of-type {\n",
       "        vertical-align: middle;\n",
       "    }\n",
       "\n",
       "    .dataframe tbody tr th {\n",
       "        vertical-align: top;\n",
       "    }\n",
       "\n",
       "    .dataframe thead th {\n",
       "        text-align: right;\n",
       "    }\n",
       "</style>\n",
       "<table border=\"1\" class=\"dataframe\">\n",
       "  <thead>\n",
       "    <tr style=\"text-align: right;\">\n",
       "      <th></th>\n",
       "      <th>original_title</th>\n",
       "      <th>release_date</th>\n",
       "      <th>Action</th>\n",
       "      <th>Adventure</th>\n",
       "      <th>Animation</th>\n",
       "      <th>Comedy</th>\n",
       "      <th>Crime</th>\n",
       "      <th>Documentary</th>\n",
       "      <th>Drama</th>\n",
       "      <th>Family</th>\n",
       "      <th>...</th>\n",
       "      <th>Science Fiction</th>\n",
       "      <th>TV Movie</th>\n",
       "      <th>Thriller</th>\n",
       "      <th>War</th>\n",
       "      <th>Western</th>\n",
       "      <th>cast</th>\n",
       "      <th>director</th>\n",
       "      <th>production_companies</th>\n",
       "      <th>vote_average</th>\n",
       "      <th>budget</th>\n",
       "    </tr>\n",
       "  </thead>\n",
       "  <tbody>\n",
       "    <tr>\n",
       "      <th>0</th>\n",
       "      <td>(500) Days of Summer</td>\n",
       "      <td>2009-07-17</td>\n",
       "      <td>0</td>\n",
       "      <td>0</td>\n",
       "      <td>0</td>\n",
       "      <td>1</td>\n",
       "      <td>0</td>\n",
       "      <td>0</td>\n",
       "      <td>1</td>\n",
       "      <td>0</td>\n",
       "      <td>...</td>\n",
       "      <td>0</td>\n",
       "      <td>0</td>\n",
       "      <td>0</td>\n",
       "      <td>0</td>\n",
       "      <td>0</td>\n",
       "      <td>0</td>\n",
       "      <td>0</td>\n",
       "      <td>0</td>\n",
       "      <td>7.3</td>\n",
       "      <td>7.623003e+06</td>\n",
       "    </tr>\n",
       "    <tr>\n",
       "      <th>1</th>\n",
       "      <td>10 Things I Hate About You</td>\n",
       "      <td>1999-03-30</td>\n",
       "      <td>0</td>\n",
       "      <td>0</td>\n",
       "      <td>0</td>\n",
       "      <td>1</td>\n",
       "      <td>0</td>\n",
       "      <td>0</td>\n",
       "      <td>1</td>\n",
       "      <td>0</td>\n",
       "      <td>...</td>\n",
       "      <td>0</td>\n",
       "      <td>0</td>\n",
       "      <td>0</td>\n",
       "      <td>0</td>\n",
       "      <td>0</td>\n",
       "      <td>0</td>\n",
       "      <td>0</td>\n",
       "      <td>0</td>\n",
       "      <td>7.2</td>\n",
       "      <td>2.094485e+07</td>\n",
       "    </tr>\n",
       "    <tr>\n",
       "      <th>2</th>\n",
       "      <td>10,000 BC</td>\n",
       "      <td>2008-02-22</td>\n",
       "      <td>1</td>\n",
       "      <td>1</td>\n",
       "      <td>0</td>\n",
       "      <td>0</td>\n",
       "      <td>0</td>\n",
       "      <td>0</td>\n",
       "      <td>1</td>\n",
       "      <td>0</td>\n",
       "      <td>...</td>\n",
       "      <td>0</td>\n",
       "      <td>0</td>\n",
       "      <td>0</td>\n",
       "      <td>0</td>\n",
       "      <td>0</td>\n",
       "      <td>0</td>\n",
       "      <td>0</td>\n",
       "      <td>0</td>\n",
       "      <td>5.2</td>\n",
       "      <td>1.063426e+08</td>\n",
       "    </tr>\n",
       "    <tr>\n",
       "      <th>3</th>\n",
       "      <td>101 Dalmatians</td>\n",
       "      <td>1996-11-17</td>\n",
       "      <td>0</td>\n",
       "      <td>0</td>\n",
       "      <td>0</td>\n",
       "      <td>1</td>\n",
       "      <td>0</td>\n",
       "      <td>0</td>\n",
       "      <td>0</td>\n",
       "      <td>1</td>\n",
       "      <td>...</td>\n",
       "      <td>0</td>\n",
       "      <td>0</td>\n",
       "      <td>0</td>\n",
       "      <td>0</td>\n",
       "      <td>0</td>\n",
       "      <td>0</td>\n",
       "      <td>0</td>\n",
       "      <td>0</td>\n",
       "      <td>5.5</td>\n",
       "      <td>7.507170e+07</td>\n",
       "    </tr>\n",
       "    <tr>\n",
       "      <th>4</th>\n",
       "      <td>102 Dalmatians</td>\n",
       "      <td>2000-10-07</td>\n",
       "      <td>0</td>\n",
       "      <td>0</td>\n",
       "      <td>0</td>\n",
       "      <td>1</td>\n",
       "      <td>0</td>\n",
       "      <td>0</td>\n",
       "      <td>0</td>\n",
       "      <td>1</td>\n",
       "      <td>...</td>\n",
       "      <td>0</td>\n",
       "      <td>0</td>\n",
       "      <td>0</td>\n",
       "      <td>0</td>\n",
       "      <td>0</td>\n",
       "      <td>0</td>\n",
       "      <td>0</td>\n",
       "      <td>0</td>\n",
       "      <td>5.0</td>\n",
       "      <td>1.076348e+08</td>\n",
       "    </tr>\n",
       "    <tr>\n",
       "      <th>5</th>\n",
       "      <td>10th &amp; Wolf</td>\n",
       "      <td>2006-02-19</td>\n",
       "      <td>1</td>\n",
       "      <td>0</td>\n",
       "      <td>0</td>\n",
       "      <td>0</td>\n",
       "      <td>1</td>\n",
       "      <td>0</td>\n",
       "      <td>1</td>\n",
       "      <td>0</td>\n",
       "      <td>...</td>\n",
       "      <td>0</td>\n",
       "      <td>0</td>\n",
       "      <td>1</td>\n",
       "      <td>0</td>\n",
       "      <td>0</td>\n",
       "      <td>0</td>\n",
       "      <td>0</td>\n",
       "      <td>0</td>\n",
       "      <td>6.0</td>\n",
       "      <td>8.653353e+06</td>\n",
       "    </tr>\n",
       "    <tr>\n",
       "      <th>6</th>\n",
       "      <td>12 Rounds</td>\n",
       "      <td>2009-03-19</td>\n",
       "      <td>1</td>\n",
       "      <td>1</td>\n",
       "      <td>0</td>\n",
       "      <td>0</td>\n",
       "      <td>0</td>\n",
       "      <td>0</td>\n",
       "      <td>1</td>\n",
       "      <td>0</td>\n",
       "      <td>...</td>\n",
       "      <td>0</td>\n",
       "      <td>0</td>\n",
       "      <td>1</td>\n",
       "      <td>0</td>\n",
       "      <td>0</td>\n",
       "      <td>0</td>\n",
       "      <td>0</td>\n",
       "      <td>0</td>\n",
       "      <td>5.9</td>\n",
       "      <td>2.032801e+07</td>\n",
       "    </tr>\n",
       "    <tr>\n",
       "      <th>7</th>\n",
       "      <td>12 Years a Slave</td>\n",
       "      <td>2013-10-18</td>\n",
       "      <td>0</td>\n",
       "      <td>0</td>\n",
       "      <td>0</td>\n",
       "      <td>0</td>\n",
       "      <td>0</td>\n",
       "      <td>0</td>\n",
       "      <td>1</td>\n",
       "      <td>0</td>\n",
       "      <td>...</td>\n",
       "      <td>0</td>\n",
       "      <td>0</td>\n",
       "      <td>0</td>\n",
       "      <td>0</td>\n",
       "      <td>0</td>\n",
       "      <td>1</td>\n",
       "      <td>1</td>\n",
       "      <td>1</td>\n",
       "      <td>7.9</td>\n",
       "      <td>1.872067e+07</td>\n",
       "    </tr>\n",
       "    <tr>\n",
       "      <th>8</th>\n",
       "      <td>127 Hours</td>\n",
       "      <td>2010-11-05</td>\n",
       "      <td>0</td>\n",
       "      <td>1</td>\n",
       "      <td>0</td>\n",
       "      <td>0</td>\n",
       "      <td>0</td>\n",
       "      <td>0</td>\n",
       "      <td>1</td>\n",
       "      <td>0</td>\n",
       "      <td>...</td>\n",
       "      <td>0</td>\n",
       "      <td>0</td>\n",
       "      <td>1</td>\n",
       "      <td>0</td>\n",
       "      <td>0</td>\n",
       "      <td>0</td>\n",
       "      <td>0</td>\n",
       "      <td>0</td>\n",
       "      <td>6.9</td>\n",
       "      <td>1.800000e+07</td>\n",
       "    </tr>\n",
       "    <tr>\n",
       "      <th>9</th>\n",
       "      <td>13 Going On 30</td>\n",
       "      <td>2004-04-13</td>\n",
       "      <td>0</td>\n",
       "      <td>0</td>\n",
       "      <td>0</td>\n",
       "      <td>1</td>\n",
       "      <td>0</td>\n",
       "      <td>0</td>\n",
       "      <td>0</td>\n",
       "      <td>0</td>\n",
       "      <td>...</td>\n",
       "      <td>0</td>\n",
       "      <td>0</td>\n",
       "      <td>0</td>\n",
       "      <td>0</td>\n",
       "      <td>0</td>\n",
       "      <td>0</td>\n",
       "      <td>0</td>\n",
       "      <td>0</td>\n",
       "      <td>6.1</td>\n",
       "      <td>4.271448e+07</td>\n",
       "    </tr>\n",
       "  </tbody>\n",
       "</table>\n",
       "<p>10 rows × 27 columns</p>\n",
       "</div>"
      ],
      "text/plain": [
       "               original_title release_date  Action  Adventure  Animation  \\\n",
       "0        (500) Days of Summer   2009-07-17       0          0          0   \n",
       "1  10 Things I Hate About You   1999-03-30       0          0          0   \n",
       "2                   10,000 BC   2008-02-22       1          1          0   \n",
       "3              101 Dalmatians   1996-11-17       0          0          0   \n",
       "4              102 Dalmatians   2000-10-07       0          0          0   \n",
       "5                 10th & Wolf   2006-02-19       1          0          0   \n",
       "6                   12 Rounds   2009-03-19       1          1          0   \n",
       "7            12 Years a Slave   2013-10-18       0          0          0   \n",
       "8                   127 Hours   2010-11-05       0          1          0   \n",
       "9              13 Going On 30   2004-04-13       0          0          0   \n",
       "\n",
       "   Comedy  Crime  Documentary  Drama  Family      ...       Science Fiction  \\\n",
       "0       1      0            0      1       0      ...                     0   \n",
       "1       1      0            0      1       0      ...                     0   \n",
       "2       0      0            0      1       0      ...                     0   \n",
       "3       1      0            0      0       1      ...                     0   \n",
       "4       1      0            0      0       1      ...                     0   \n",
       "5       0      1            0      1       0      ...                     0   \n",
       "6       0      0            0      1       0      ...                     0   \n",
       "7       0      0            0      1       0      ...                     0   \n",
       "8       0      0            0      1       0      ...                     0   \n",
       "9       1      0            0      0       0      ...                     0   \n",
       "\n",
       "   TV Movie  Thriller  War  Western  cast  director  production_companies  \\\n",
       "0         0         0    0        0     0         0                     0   \n",
       "1         0         0    0        0     0         0                     0   \n",
       "2         0         0    0        0     0         0                     0   \n",
       "3         0         0    0        0     0         0                     0   \n",
       "4         0         0    0        0     0         0                     0   \n",
       "5         0         1    0        0     0         0                     0   \n",
       "6         0         1    0        0     0         0                     0   \n",
       "7         0         0    0        0     1         1                     1   \n",
       "8         0         1    0        0     0         0                     0   \n",
       "9         0         0    0        0     0         0                     0   \n",
       "\n",
       "   vote_average        budget  \n",
       "0           7.3  7.623003e+06  \n",
       "1           7.2  2.094485e+07  \n",
       "2           5.2  1.063426e+08  \n",
       "3           5.5  7.507170e+07  \n",
       "4           5.0  1.076348e+08  \n",
       "5           6.0  8.653353e+06  \n",
       "6           5.9  2.032801e+07  \n",
       "7           7.9  1.872067e+07  \n",
       "8           6.9  1.800000e+07  \n",
       "9           6.1  4.271448e+07  \n",
       "\n",
       "[10 rows x 27 columns]"
      ]
     },
     "execution_count": 16,
     "metadata": {},
     "output_type": "execute_result"
    }
   ],
   "source": [
    "# Collapse the genre features back to one movie per row\n",
    "genre_features = model_df.groupby(['original_title', 'release_date'])[genres_list].sum().reset_index()\n",
    "\n",
    "# Collapse the remaining features back to one movie per row\n",
    "agg_dict = {'cast':'sum', 'director':'sum', 'production_companies':'sum', 'vote_average':'mean', 'budget':'mean'}\n",
    "remaining_features = model_df.groupby(['original_title', 'release_date']).agg(agg_dict)\n",
    "\n",
    "# Join the features\n",
    "model_df = genre_features.join(remaining_features, on=['original_title', 'release_date'])\n",
    "\n",
    "# Check the DataFrame to confirm changes\n",
    "model_df.head(10)"
   ]
  },
  {
   "cell_type": "markdown",
   "metadata": {},
   "source": [
    "##### 4. Convert the **release_date**s into months"
   ]
  },
  {
   "cell_type": "code",
   "execution_count": 17,
   "metadata": {},
   "outputs": [
    {
     "data": {
      "text/html": [
       "<div>\n",
       "<style scoped>\n",
       "    .dataframe tbody tr th:only-of-type {\n",
       "        vertical-align: middle;\n",
       "    }\n",
       "\n",
       "    .dataframe tbody tr th {\n",
       "        vertical-align: top;\n",
       "    }\n",
       "\n",
       "    .dataframe thead th {\n",
       "        text-align: right;\n",
       "    }\n",
       "</style>\n",
       "<table border=\"1\" class=\"dataframe\">\n",
       "  <thead>\n",
       "    <tr style=\"text-align: right;\">\n",
       "      <th></th>\n",
       "      <th>original_title</th>\n",
       "      <th>release_date</th>\n",
       "      <th>Action</th>\n",
       "      <th>Adventure</th>\n",
       "      <th>Animation</th>\n",
       "      <th>Comedy</th>\n",
       "      <th>Crime</th>\n",
       "      <th>Documentary</th>\n",
       "      <th>Drama</th>\n",
       "      <th>Family</th>\n",
       "      <th>...</th>\n",
       "      <th>Science Fiction</th>\n",
       "      <th>TV Movie</th>\n",
       "      <th>Thriller</th>\n",
       "      <th>War</th>\n",
       "      <th>Western</th>\n",
       "      <th>cast</th>\n",
       "      <th>director</th>\n",
       "      <th>production_companies</th>\n",
       "      <th>vote_average</th>\n",
       "      <th>budget</th>\n",
       "    </tr>\n",
       "  </thead>\n",
       "  <tbody>\n",
       "    <tr>\n",
       "      <th>0</th>\n",
       "      <td>(500) Days of Summer</td>\n",
       "      <td>7</td>\n",
       "      <td>0</td>\n",
       "      <td>0</td>\n",
       "      <td>0</td>\n",
       "      <td>1</td>\n",
       "      <td>0</td>\n",
       "      <td>0</td>\n",
       "      <td>1</td>\n",
       "      <td>0</td>\n",
       "      <td>...</td>\n",
       "      <td>0</td>\n",
       "      <td>0</td>\n",
       "      <td>0</td>\n",
       "      <td>0</td>\n",
       "      <td>0</td>\n",
       "      <td>0</td>\n",
       "      <td>0</td>\n",
       "      <td>0</td>\n",
       "      <td>7.3</td>\n",
       "      <td>7.623003e+06</td>\n",
       "    </tr>\n",
       "    <tr>\n",
       "      <th>1</th>\n",
       "      <td>10 Things I Hate About You</td>\n",
       "      <td>3</td>\n",
       "      <td>0</td>\n",
       "      <td>0</td>\n",
       "      <td>0</td>\n",
       "      <td>1</td>\n",
       "      <td>0</td>\n",
       "      <td>0</td>\n",
       "      <td>1</td>\n",
       "      <td>0</td>\n",
       "      <td>...</td>\n",
       "      <td>0</td>\n",
       "      <td>0</td>\n",
       "      <td>0</td>\n",
       "      <td>0</td>\n",
       "      <td>0</td>\n",
       "      <td>0</td>\n",
       "      <td>0</td>\n",
       "      <td>0</td>\n",
       "      <td>7.2</td>\n",
       "      <td>2.094485e+07</td>\n",
       "    </tr>\n",
       "    <tr>\n",
       "      <th>2</th>\n",
       "      <td>10,000 BC</td>\n",
       "      <td>2</td>\n",
       "      <td>1</td>\n",
       "      <td>1</td>\n",
       "      <td>0</td>\n",
       "      <td>0</td>\n",
       "      <td>0</td>\n",
       "      <td>0</td>\n",
       "      <td>1</td>\n",
       "      <td>0</td>\n",
       "      <td>...</td>\n",
       "      <td>0</td>\n",
       "      <td>0</td>\n",
       "      <td>0</td>\n",
       "      <td>0</td>\n",
       "      <td>0</td>\n",
       "      <td>0</td>\n",
       "      <td>0</td>\n",
       "      <td>0</td>\n",
       "      <td>5.2</td>\n",
       "      <td>1.063426e+08</td>\n",
       "    </tr>\n",
       "  </tbody>\n",
       "</table>\n",
       "<p>3 rows × 27 columns</p>\n",
       "</div>"
      ],
      "text/plain": [
       "               original_title  release_date  Action  Adventure  Animation  \\\n",
       "0        (500) Days of Summer             7       0          0          0   \n",
       "1  10 Things I Hate About You             3       0          0          0   \n",
       "2                   10,000 BC             2       1          1          0   \n",
       "\n",
       "   Comedy  Crime  Documentary  Drama  Family      ...       Science Fiction  \\\n",
       "0       1      0            0      1       0      ...                     0   \n",
       "1       1      0            0      1       0      ...                     0   \n",
       "2       0      0            0      1       0      ...                     0   \n",
       "\n",
       "   TV Movie  Thriller  War  Western  cast  director  production_companies  \\\n",
       "0         0         0    0        0     0         0                     0   \n",
       "1         0         0    0        0     0         0                     0   \n",
       "2         0         0    0        0     0         0                     0   \n",
       "\n",
       "   vote_average        budget  \n",
       "0           7.3  7.623003e+06  \n",
       "1           7.2  2.094485e+07  \n",
       "2           5.2  1.063426e+08  \n",
       "\n",
       "[3 rows x 27 columns]"
      ]
     },
     "execution_count": 17,
     "metadata": {},
     "output_type": "execute_result"
    }
   ],
   "source": [
    "# Convert release dates to month\n",
    "model_df['release_date'] = model_df['release_date'].dt.month\n",
    "\n",
    "# Check the DataFrame to confirm changes\n",
    "model_df.head(3)"
   ]
  },
  {
   "cell_type": "markdown",
   "metadata": {},
   "source": [
    "##### 5. Combine all steps into one function"
   ]
  },
  {
   "cell_type": "code",
   "execution_count": 18,
   "metadata": {},
   "outputs": [],
   "source": [
    "def preprocessing(top_cast, top_dir, top_prod, model_df):\n",
    "    '''1. Replace the cast, director, and production_companies columns with dummy variables'''\n",
    "    # List of features\n",
    "    features = ['cast', 'director', 'production_companies']\n",
    "    # List of dataframes\n",
    "    dataframes = [top_cast, top_dir, top_prod]\n",
    "\n",
    "    # Loop through the features and their corresponding DataFrames\n",
    "    for i in range(3):\n",
    "        feature = features[i]\n",
    "        data =  dataframes[i]\n",
    "        # Split the feature column\n",
    "        model_df[feature] = model_df[feature].apply(lambda x: x.split('|'))\n",
    "        \n",
    "        # Loop through the genres\n",
    "        for genre in genres_list:\n",
    "            try:\n",
    "                # Top n of the current feature for the current genre\n",
    "                top_n = data[genre]\n",
    "\n",
    "                # Find all movies with a top_n feature for the current genre\n",
    "                temp = model_df.loc[model_df.genres == genre, feature].apply(lambda values: any(hit in values for hit in top_n)).astype(int)\n",
    "\n",
    "                # Update the dataframe\n",
    "                model_df.loc[model_df.genres == genre, feature] = temp\n",
    "            except:\n",
    "                model_df.loc[model_df.genres == genre, feature] = 0\n",
    "    \n",
    "    '''2. Create dummy variables for each genre in the genres column'''\n",
    "    # Create dummy variables for genres\n",
    "    model_df[genres_list] = pd.get_dummies(model_df['genres'])\n",
    "    # Drop the original 'genres' column\n",
    "    model_df.drop(columns='genres', inplace=True)\n",
    "    \n",
    "    '''3. Collapse the DataFrame back to one movie per row'''\n",
    "    # Collapse the genre features back to one movie per row\n",
    "    genre_features = model_df.groupby(['original_title', 'release_date'])[genres_list].sum().reset_index()\n",
    "    \n",
    "    # Collapse the remaining features back to one movie per row\n",
    "    agg_dict = {'cast':'sum', 'director':'sum', 'production_companies':'sum', 'vote_average':'mean', 'budget':'mean'}\n",
    "    remaining_features = model_df.groupby(['original_title', 'release_date']).agg(agg_dict)\n",
    "\n",
    "    # Join the features\n",
    "    model_df = genre_features.join(remaining_features, on=['original_title', 'release_date'])\n",
    "    \n",
    "    '''4. Convert the release_dates into months'''\n",
    "    # Convert release dates to month\n",
    "    model_df['release_date'] = model_df['release_date'].dt.month\n",
    "    \n",
    "    return model_df"
   ]
  },
  {
   "cell_type": "markdown",
   "metadata": {},
   "source": [
    "### Fitting the Linear Regression Model\n",
    "#### Description:\n",
    "> Fit the data to a linear regression model using OLS (Ordinary Least Squares)\n",
    "\n",
    "#### Procedure:\n",
    "> Using the **cast**, **director**, **production_companies**, **release_date**, **budget**, and the **genres** columns as the features and the **vote_average** column as the target, split the data into training and test sets. Fit the model to the training set, and use the fitted model to predict the average rating.\n",
    "1. Split the data into training and test sets\n",
    "  1. Split the DataFrame into two variables, X for the features, and y for the target\n",
    "  2. Use the train_test_split function to split the data into a training set, and a test set\n",
    "  3. Standardize the features of the training and test sets\n",
    "2. Fit the model to the training set using the OLS class from statsmodels.regression.linear_model\n",
    "3. Plot the ratings vs their predictions\n",
    "4. Combine all steps into one function"
   ]
  },
  {
   "cell_type": "markdown",
   "metadata": {},
   "source": [
    "##### 1. Split the data into training and test sets"
   ]
  },
  {
   "cell_type": "code",
   "execution_count": 19,
   "metadata": {},
   "outputs": [],
   "source": [
    "# Variable to hold feature data\n",
    "X = model_df.drop(columns=['original_title', 'vote_average'])\n",
    "\n",
    "# Variable to hold target data\n",
    "y = model_df['vote_average']\n",
    "\n",
    "# Split the data into training and test sets\n",
    "X_train, X_test, y_train, y_test = train_test_split(X, y, random_state=42)\n",
    "\n",
    "# Standardize the features\n",
    "temp = StandardScaler().fit(X_train)\n",
    "X_train = temp.transform(X_train)\n",
    "X_test = temp.transform(X_test)"
   ]
  },
  {
   "cell_type": "markdown",
   "metadata": {},
   "source": [
    "##### 2. Fit the model to the training set"
   ]
  },
  {
   "cell_type": "code",
   "execution_count": 20,
   "metadata": {},
   "outputs": [],
   "source": [
    "pca = PCA(5).fit(X_train)\n",
    "model = LinearRegression()\n",
    "results = model.fit(X_train, y_train)"
   ]
  },
  {
   "cell_type": "markdown",
   "metadata": {},
   "source": [
    "##### 3. Evaluate model performance"
   ]
  },
  {
   "cell_type": "code",
   "execution_count": 21,
   "metadata": {},
   "outputs": [
    {
     "name": "stdout",
     "output_type": "stream",
     "text": [
      "R^2 (Training): 0.2552991953573587\n",
      "R^2 (Test): 0.21130813333466592\n",
      "MSE: 0.4738747447476443\n"
     ]
    },
    {
     "data": {
      "image/png": "[encoded data removed]",
      "text/plain": [
       "<matplotlib.figure.Figure at 0x1ce6e9a5a58>"
      ]
     },
     "metadata": {},
     "output_type": "display_data"
    }
   ],
   "source": [
    "# Results using sklearn\n",
    "y_pred = results.predict(X_test)\n",
    "\n",
    "# Print the R^2 score\n",
    "print('R^2 (Training): {}'.format(results.score(X_train, y_train)))\n",
    "print('R^2 (Test): {}'.format(results.score(X_test, y_test)))\n",
    "\n",
    "# Print the mean squared error\n",
    "print('MSE: {}'.format(mean_squared_error(y_test, y_pred)))\n",
    "\n",
    "# Plot the Rating vs. Predicted Rating\n",
    "plt.plot([4,8],[4,8], color='red')\n",
    "plt.scatter(y_test, y_pred)\n",
    "plt.xlabel(\"Rating: $Y_i$\")\n",
    "plt.ylabel(\"Predicted Rating: $\\hat{Y}_i$\")\n",
    "plt.title(\"Rating vs Predicted Rating: $Y_i$ vs $\\hat{Y}_i$\");"
   ]
  },
  {
   "cell_type": "markdown",
   "metadata": {},
   "source": [
    "##### 4. Combine all steps into one function"
   ]
  },
  {
   "cell_type": "code",
   "execution_count": 22,
   "metadata": {},
   "outputs": [],
   "source": [
    "def fit_model(model_df):\n",
    "    '''1. Split the data into training and test sets'''\n",
    "    # Variable to hold feature data\n",
    "    X = model_df.drop(columns=['original_title', 'vote_average'])\n",
    "    \n",
    "    # Variable to hold target data\n",
    "    y = model_df['vote_average']\n",
    "    \n",
    "    # Split the data into training and test sets\n",
    "    X_train, X_test, y_train, y_test = train_test_split(X, y, random_state=42)\n",
    "    \n",
    "    # Standardize the features\n",
    "    temp = StandardScaler().fit(X_train)\n",
    "    X_train = temp.transform(X_train)\n",
    "    X_test = temp.transform(X_test)\n",
    "\n",
    "    '''2. Fit the model to the training set'''\n",
    "    model = LinearRegression()\n",
    "    results = model.fit(X_train, y_train)\n",
    "\n",
    "    '''3. Evaluate model performance'''\n",
    "    # Results using sklearn\n",
    "    y_pred = results.predict(X_test)\n",
    "    \n",
    "    # Print the R^2 score\n",
    "    print('R^2 (Training): {}'.format(results.score(X_train, y_train)))\n",
    "    print('R^2 (Test): {}'.format(results.score(X_test, y_test)))\n",
    "    \n",
    "    # Print the mean squared error\n",
    "    print('MSE: {}'.format(mean_squared_error(y_test, y_pred)))\n",
    "    \n",
    "    # Plot the Rating vs. Predicted Rating\n",
    "    plt.plot([4,8],[4,8], color='red')\n",
    "    plt.scatter(y_test, y_pred)\n",
    "    plt.xlabel(\"Rating: $Y_i$\")\n",
    "    plt.ylabel(\"Predicted Rating: $\\hat{Y}_i$\")\n",
    "    plt.title(\"Rating vs Predicted Rating: $Y_i$ vs $\\hat{Y}_i$\");\n",
    "    \n",
    "    return results"
   ]
  },
  {
   "cell_type": "code",
   "execution_count": 23,
   "metadata": {},
   "outputs": [
    {
     "name": "stdout",
     "output_type": "stream",
     "text": [
      "R^2 (Training): 0.2552991953573587\n",
      "R^2 (Test): 0.21130813333466592\n",
      "MSE: 0.4738747447476443\n"
     ]
    },
    {
     "data": {
      "image/png": "[encoded data removed]",
      "text/plain": [
       "<matplotlib.figure.Figure at 0x1ce6fc9c860>"
      ]
     },
     "metadata": {},
     "output_type": "display_data"
    }
   ],
   "source": [
    "# Prepare the DataFrame for modeling\n",
    "model_df = model_df = expand_genres[expand_genres.columns]\n",
    "model_df = preprocessing(top_10_cast, top_10_dir, top_10_prod, model_df)\n",
    "\n",
    "# Fit the model\n",
    "results = fit_model(model_df)"
   ]
  },
  {
   "cell_type": "markdown",
   "metadata": {},
   "source": [
    "> As you can see from the plot above, this model does a poor job of predicting the ratings.\n",
    "\n",
    "> Lets find ways to improve the model."
   ]
  },
  {
   "cell_type": "markdown",
   "metadata": {},
   "source": [
    "<a id='eda'></a>\n",
    "## Explore Possible Improvements"
   ]
  },
  {
   "cell_type": "markdown",
   "metadata": {},
   "source": [
    "### Increase the number of actors, directors, and production companies used\n",
    "#### Description:\n",
    "> Adjust the model to use the top 500 actors, directors, and production companies, instead of just the top 10.\n",
    "\n",
    "\n",
    "#### Procedure:\n",
    "> Adjust the model by finding the top 500 actors, directors, and production companies, then repeat the steps performed during the [Modeling](#Modeling) process.\n",
    "1. Find the top 500 actors, directors, and production companies by genre\n",
    "2. Preprocessing and Fitting the Linear Regression Model"
   ]
  },
  {
   "cell_type": "markdown",
   "metadata": {},
   "source": [
    "##### 1. Find the top 500 actors, directors, and production companies by genre"
   ]
  },
  {
   "cell_type": "code",
   "execution_count": 24,
   "metadata": {
    "scrolled": true
   },
   "outputs": [],
   "source": [
    "# Create a new DataFrame for each attribute and expand the corresponding column\n",
    "cast_genres = expand(expand_genres, 'cast')\n",
    "dir_genres = expand(expand_genres, 'director')\n",
    "prod_genres = expand(expand_genres, 'production_companies')\n",
    "\n",
    "# Find the top 500 actors by genre\n",
    "cast_averages = pd.DataFrame(cast_genres.groupby(['genres', 'cast'])['vote_average'].mean())\n",
    "find_top_500 = cast_averages['vote_average'].groupby(level=0, group_keys=False)\n",
    "top_500_cast = pd.DataFrame(find_top_500.nlargest(500)).reset_index()\n",
    "top_500_cast = top_500_cast.groupby('genres')['cast'].unique().to_dict()\n",
    "\n",
    "\n",
    "# Find the top 500 directors by genre\n",
    "dir_averages = pd.DataFrame(dir_genres.groupby(['genres', 'director'])['vote_average'].mean())\n",
    "find_top_500 = dir_averages['vote_average'].groupby(level=0, group_keys=False)\n",
    "top_500_dir = pd.DataFrame(find_top_500.nlargest(500)).reset_index()\n",
    "top_500_dir = top_500_dir.groupby('genres')['director'].unique().to_dict()\n",
    "\n",
    "# Find the top 500 production companies by genre\n",
    "prod_averages = pd.DataFrame(prod_genres.groupby(['genres', 'production_companies'])['vote_average'].mean())\n",
    "find_top_500 = prod_averages['vote_average'].groupby(level=0, group_keys=False)\n",
    "top_500_prod = pd.DataFrame(find_top_500.nlargest(500)).reset_index()\n",
    "top_500_prod = top_500_prod.groupby('genres')['production_companies'].unique().to_dict()"
   ]
  },
  {
   "cell_type": "markdown",
   "metadata": {},
   "source": [
    "##### 2. Preprocessing and Fitting the Linear Regression Model"
   ]
  },
  {
   "cell_type": "code",
   "execution_count": 25,
   "metadata": {},
   "outputs": [
    {
     "name": "stdout",
     "output_type": "stream",
     "text": [
      "R^2 (Training): 0.6601872747752968\n",
      "R^2 (Test): 0.6617422074423811\n",
      "MSE: 0.20323757842828108\n"
     ]
    },
    {
     "data": {
      "image/png": "[encoded data removed]",
      "text/plain": [
       "<matplotlib.figure.Figure at 0x1ce6e979390>"
      ]
     },
     "metadata": {},
     "output_type": "display_data"
    }
   ],
   "source": [
    "# Prepare the DataFrame for modeling\n",
    "model_df = expand_genres[expand_genres.columns]\n",
    "model_df = preprocessing(top_500_cast, top_500_dir, top_500_prod, model_df)\n",
    "\n",
    "# Fit the model\n",
    "results = fit_model(model_df)"
   ]
  },
  {
   "cell_type": "markdown",
   "metadata": {},
   "source": [
    "> These predicted values have an $R^2$ score of 66.17%, with a Mean Squared Error of 0.2 which is a huge improvement!\n",
    "\n",
    "> Although this resulted in a success, top 500 is an odd metric. However, it has been shown that an increase in the number of actors, directors, and production companies greatly improved the model, so lets now create a new model implementing a new metric that includes a higher number of actors, directors, and production companies."
   ]
  },
  {
   "cell_type": "markdown",
   "metadata": {},
   "source": [
    "### Preprocessing Changes\n",
    "#### Description:\n",
    "> Create a column to count how many of the top actors, directors, and production companies are listed for each movie instead of using a boolean.\n",
    "\n",
    "#### Procedure:\n",
    "> Alter the preprocessing function to count the number of top actors, directors, and production companies  listed for each movie.\n",
    "1. Compare performance using the top 10 metric\n",
    "2. Compare performance using the top 500 metric"
   ]
  },
  {
   "cell_type": "code",
   "execution_count": 26,
   "metadata": {},
   "outputs": [],
   "source": [
    "def new_preprocessing(top_cast, top_dir, top_prod, model_df):\n",
    "    '''1. Replace the cast, director, and production_companies columns with dummy variables'''\n",
    "    # List of features\n",
    "    features = ['cast', 'director', 'production_companies']\n",
    "    # List of dataframes\n",
    "    dataframes = [top_cast, top_dir, top_prod]\n",
    "    \n",
    "    # Loop through the features and their corresponding DataFrames\n",
    "    for i in range(3):\n",
    "        feature = features[i]\n",
    "        data =  dataframes[i]\n",
    "        # Split the feature column\n",
    "        model_df[feature] = model_df[feature].apply(lambda x: x.split('|'))\n",
    "\n",
    "        # Loop through the genres\n",
    "        for genre in genres_list:\n",
    "            try:\n",
    "                # Top n of the current feature for the current genre\n",
    "                top_n = data[genre]\n",
    "                \n",
    "                # Find all movies with a top_n feature for the current genre\n",
    "                temp = model_df.loc[model_df.genres == genre, feature].apply(lambda values: sum(hit in values for hit in top_n))\n",
    "                \n",
    "                # Update the dataframe\n",
    "                model_df.loc[model_df.genres == genre, feature] = temp\n",
    "            except:\n",
    "                model_df.loc[model_df.genres == genre, feature] = 0\n",
    "\n",
    "    '''2. Create dummy variables for each genre in the genres column'''\n",
    "    # Create dummy variables for genres\n",
    "    model_df[genres_list] = pd.get_dummies(model_df['genres'])\n",
    "    # Drop the original 'genres' column\n",
    "    model_df.drop(columns='genres', inplace=True)\n",
    "    \n",
    "    '''3. Collapse the DataFrame back to one movie per row'''\n",
    "    # Collapse the genre features back to one movie per row\n",
    "    genre_features = model_df.groupby(['original_title', 'release_date'])[genres_list].sum().reset_index()\n",
    "    \n",
    "    # Collapse the remaining features back to one movie per row\n",
    "    agg_dict = {'cast':'sum', 'director':'sum', 'production_companies':'sum', 'vote_average':'mean', 'budget':'mean'}\n",
    "    remaining_features = model_df.groupby(['original_title', 'release_date']).agg(agg_dict)\n",
    "    \n",
    "    # Join the features\n",
    "    model_df = genre_features.join(remaining_features, on=['original_title', 'release_date'])\n",
    "\n",
    "    '''4. Convert the release_dates into months'''\n",
    "    # Convert release dates to month\n",
    "    model_df['release_date'] = model_df['release_date'].dt.month\n",
    "    \n",
    "    return model_df"
   ]
  },
  {
   "cell_type": "markdown",
   "metadata": {},
   "source": [
    "##### 1. Compare performance using the top 10 metric"
   ]
  },
  {
   "cell_type": "code",
   "execution_count": 27,
   "metadata": {},
   "outputs": [
    {
     "name": "stdout",
     "output_type": "stream",
     "text": [
      "R^2 (Training): 0.2552991953573587\n",
      "R^2 (Test): 0.21130813333466592\n",
      "MSE: 0.4738747447476443\n"
     ]
    },
    {
     "data": {
      "image/png": "[encoded data removed]",
      "text/plain": [
       "<matplotlib.figure.Figure at 0x1ce6ef7f668>"
      ]
     },
     "metadata": {},
     "output_type": "display_data"
    }
   ],
   "source": [
    "# Prepare the DataFrame for modeling\n",
    "model_df = expand_genres[expand_genres.columns]\n",
    "model_df = preprocessing(top_10_cast, top_10_dir, top_10_prod, model_df)\n",
    "\n",
    "# Fit the model\n",
    "results = fit_model(model_df)"
   ]
  },
  {
   "cell_type": "code",
   "execution_count": 28,
   "metadata": {},
   "outputs": [
    {
     "name": "stdout",
     "output_type": "stream",
     "text": [
      "R^2 (Training): 0.24792179100483147\n",
      "R^2 (Test): 0.22042639919728424\n",
      "MSE: 0.4683961591417616\n"
     ]
    },
    {
     "data": {
      "image/png": "[encoded data removed]",
      "text/plain": [
       "<matplotlib.figure.Figure at 0x1ce6f12e860>"
      ]
     },
     "metadata": {},
     "output_type": "display_data"
    }
   ],
   "source": [
    "# Prepare the DataFrame for modeling\n",
    "model_df = expand_genres[expand_genres.columns]\n",
    "model_df = new_preprocessing(top_10_cast, top_10_dir, top_10_prod, model_df)\n",
    "\n",
    "# Fit the model\n",
    "results = fit_model(model_df)"
   ]
  },
  {
   "cell_type": "markdown",
   "metadata": {},
   "source": [
    "##### 2. Compare performance using the top 500 metric"
   ]
  },
  {
   "cell_type": "code",
   "execution_count": 29,
   "metadata": {},
   "outputs": [
    {
     "name": "stdout",
     "output_type": "stream",
     "text": [
      "R^2 (Training): 0.6601872747752968\n",
      "R^2 (Test): 0.6617422074423811\n",
      "MSE: 0.20323757842828108\n"
     ]
    },
    {
     "data": {
      "image/png": "[encoded data removed]",
      "text/plain": [
       "<matplotlib.figure.Figure at 0x1ce6ef7f4e0>"
      ]
     },
     "metadata": {},
     "output_type": "display_data"
    }
   ],
   "source": [
    "# Prepare the DataFrame for modeling\n",
    "model_df = expand_genres[expand_genres.columns]\n",
    "model_df = preprocessing(top_500_cast, top_500_dir, top_500_prod, model_df)\n",
    "\n",
    "# Fit the model\n",
    "results = fit_model(model_df)"
   ]
  },
  {
   "cell_type": "code",
   "execution_count": 30,
   "metadata": {},
   "outputs": [
    {
     "name": "stdout",
     "output_type": "stream",
     "text": [
      "R^2 (Training): 0.6052314759134532\n",
      "R^2 (Test): 0.587876427040588\n",
      "MSE: 0.24761882453074427\n"
     ]
    },
    {
     "data": {
      "image/png": "[encoded data removed]",
      "text/plain": [
       "<matplotlib.figure.Figure at 0x1ce6e979ac8>"
      ]
     },
     "metadata": {},
     "output_type": "display_data"
    }
   ],
   "source": [
    "# Prepare the DataFrame for modeling\n",
    "model_df = expand_genres[expand_genres.columns]\n",
    "model_df = new_preprocessing(top_500_cast, top_500_dir, top_500_prod, model_df)\n",
    "\n",
    "# Fit the model\n",
    "results = fit_model(model_df)"
   ]
  },
  {
   "cell_type": "markdown",
   "metadata": {},
   "source": [
    "> As you can see, this new preprocessing method has little to no effect on the model. In fact, it has actually made the model slightly worse for the top 500 metric.\n",
    "\n",
    "> However, it may prove useful for another model."
   ]
  },
  {
   "cell_type": "markdown",
   "metadata": {},
   "source": [
    "<a id='eda'></a>\n",
    "## New Model"
   ]
  },
  {
   "cell_type": "markdown",
   "metadata": {},
   "source": [
    "### Model 2\n",
    "#### Description:\n",
    "> Adjust the model to find the _best_ actors, directors, and production companies by genre instead of simply the top #.\n",
    "* My personal definition of a \"good\" movie has a cut-off of 7/10; as such, I have chosen a minimum rating of 7.\n",
    "\n",
    "> <div class=\"alert alert-block alert-info\">  I am choosing to implement this new metric because I know that an increase in the number of actors, directors, and production companies has a positive effect on model performance. Therefore, this new metric allows me to increase the number of actors, directors, and production companies while granting me a level of control by being able to choose the minimum rating. </div>\n",
    "\n",
    "#### Procedure:\n",
    "> Find all movies with a minimum rating of 7, then find all actors, directors, and production companies by genre.\n",
    "1. Find the top actors, directors, and production companies by genre\n",
    "  1. Find all movies with a minimum rating of 7\n",
    "  2. Find the top actors, directors, and production companies by genre\n",
    "2. Evaluate performance using the old preprocessing method\n",
    "3. Evaluate performance using the new preprocessing method"
   ]
  },
  {
   "cell_type": "markdown",
   "metadata": {},
   "source": [
    "##### 1. Find the top actors, directors, and production companies by genre"
   ]
  },
  {
   "cell_type": "code",
   "execution_count": 31,
   "metadata": {},
   "outputs": [],
   "source": [
    "# Find all movies with a minimum rating of 7\n",
    "good_movies = expand_genres.loc[expand_genres.vote_average >= 7]\n",
    "\n",
    "# Create a new DataFrame for each attribute and expand the corresponding column\n",
    "cast_genres = expand(good_movies, 'cast')\n",
    "dir_genres = expand(good_movies, 'director')\n",
    "prod_genres = expand(good_movies, 'production_companies')\n",
    "\n",
    "# Find the top actors\n",
    "top_cast = cast_genres.groupby('genres')['cast'].unique()\n",
    "top_cast = top_cast.to_dict()\n",
    "\n",
    "# Find the top directors\n",
    "top_dir = dir_genres.groupby('genres')['director'].unique()\n",
    "top_dir = top_dir.to_dict()\n",
    "\n",
    "# Find the top production companies\n",
    "top_prod = prod_genres.groupby('genres')['production_companies'].unique()\n",
    "top_prod = top_prod.to_dict()"
   ]
  },
  {
   "cell_type": "markdown",
   "metadata": {},
   "source": [
    "##### 2. Evaluate performance using the old preprocessing method"
   ]
  },
  {
   "cell_type": "code",
   "execution_count": 32,
   "metadata": {},
   "outputs": [
    {
     "name": "stdout",
     "output_type": "stream",
     "text": [
      "R^2 (Training): 0.3836005424729261\n",
      "R^2 (Test): 0.355842205758068\n",
      "MSE: 0.3870334197995831\n"
     ]
    },
    {
     "data": {
      "image/png": "[encoded data removed]",
      "text/plain": [
       "<matplotlib.figure.Figure at 0x1ce6cb243c8>"
      ]
     },
     "metadata": {},
     "output_type": "display_data"
    }
   ],
   "source": [
    "# Prepare the DataFrame for modeling\n",
    "model_df = expand_genres[expand_genres.columns]\n",
    "model_df = preprocessing(top_cast, top_dir, top_prod, model_df)\n",
    "\n",
    "# Fit the model\n",
    "results = fit_model(model_df)"
   ]
  },
  {
   "cell_type": "markdown",
   "metadata": {},
   "source": [
    "##### 3. Evaluate performance using the new preprocessing method"
   ]
  },
  {
   "cell_type": "code",
   "execution_count": 33,
   "metadata": {},
   "outputs": [
    {
     "name": "stdout",
     "output_type": "stream",
     "text": [
      "R^2 (Training): 0.42407397272083824\n",
      "R^2 (Test): 0.40357773139743336\n",
      "MSE: 0.3583521806695396\n"
     ]
    },
    {
     "data": {
      "image/png": "[encoded data removed]",
      "text/plain": [
       "<matplotlib.figure.Figure at 0x1ce6cdba978>"
      ]
     },
     "metadata": {},
     "output_type": "display_data"
    }
   ],
   "source": [
    "# Prepare the DataFrame for modeling\n",
    "model_df = expand_genres[expand_genres.columns]\n",
    "model_df = new_preprocessing(top_cast, top_dir, top_prod, model_df)\n",
    "\n",
    "# Fit the model\n",
    "results = fit_model(model_df)"
   ]
  },
  {
   "cell_type": "markdown",
   "metadata": {},
   "source": [
    "> This new model performs better using the new preprocessing method, but it is still outperformed by the top 500 metric regardless of which preprocessing model is used."
   ]
  },
  {
   "cell_type": "markdown",
   "metadata": {},
   "source": [
    "### Model 3\n",
    "#### Description:\n",
    "> Adjust the model to round ratings to a full number, or to a half number. For example, ratings will be rounded as such:\n",
    "* (5.8 - 6.2 => 6.0), (6.3 - 6.7 => 6.5), (6.8 - 7.2 => 7.0)\n",
    "\n",
    "> <div class=\"alert alert-block alert-info\"> The purpose is to reduce the number of possible ratings in the hopes of creating a better model. </div>\n",
    "\n",
    "#### Procedure:\n",
    "> Round all ratings, then repeat the steps performed during the [Modeling](#Modeling) process.\n",
    "\n",
    "1. Round all ratings\n",
    "2. Evaluate performance using the old preprocessing method\n",
    "3. Evaluate performance using the new preprocessing method"
   ]
  },
  {
   "cell_type": "code",
   "execution_count": null,
   "metadata": {},
   "outputs": [],
   "source": []
  },
  {
   "cell_type": "markdown",
   "metadata": {},
   "source": [
    "<a id='conclusions'></a>\n",
    "## Conclusions"
   ]
  },
  {
   "cell_type": "markdown",
   "metadata": {},
   "source": [
    "WIP"
   ]
  }
 ],
 "metadata": {
  "kernelspec": {
   "display_name": "Python 3",
   "language": "python",
   "name": "python3"
  },
  "language_info": {
   "codemirror_mode": {
    "name": "ipython",
    "version": 3
   },
   "file_extension": ".py",
   "mimetype": "text/x-python",
   "name": "python",
   "nbconvert_exporter": "python",
   "pygments_lexer": "ipython3",
   "version": "3.6.4"
  }
 },
 "nbformat": 4,
 "nbformat_minor": 2
}
