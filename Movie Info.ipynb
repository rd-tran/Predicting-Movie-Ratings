{
 "cells": [
  {
   "cell_type": "markdown",
   "metadata": {},
   "source": [
    "<a id='intro'></a>\n",
    "<div class=\"alert alert-block alert-warning\"> \n",
    "<h1 align=\"center\">Introduction</h3>"
   ]
  },
  {
   "cell_type": "markdown",
   "metadata": {},
   "source": [
    "### Table of Contents\n",
    "1. [Introduction](#intro)\n",
    "2. [Data Wrangling](#wrangling)\n",
    "  * [General Properties](#properties)\n",
    "  * [Data Cleaning](#cleaning)\n",
    "3. [Exploratory Data Analysis](#eda)\n",
    "  * [Which months are the best times to view movies?](#months)\n",
    "  * [Which actors, directors, and production companies produce the best movies by genre?](#top_10)\n",
    "4. [Modeling](#modeling)\n",
    "  * [Preprocessing](#preprocessing)\n",
    "  * [Fitting the Linear Regression Model](#fit_lin)\n",
    "5. [Explore Possible Improvements](#improvements)\n",
    "  * [Increase the number of actors, directors, and production companies used](#top500)\n",
    "  * [Preprocessing Changes](#new_preprocessing)\n",
    "6. [New Models](#new_models)\n",
    "  * [Model 2](#model2)\n",
    "  * [Model 3](#model3)\n",
    "  * [Model 4](#model4)\n",
    "  * [Model 5](#model5)\n",
    "7. [Classification](#classification)\n",
    "  * [Fitting the Classifier](#fit_clf)\n",
    "  * [CLF](#clf)"
   ]
  },
  {
   "cell_type": "markdown",
   "metadata": {},
   "source": [
    "For this project, I would like to predict the average rating of a movie before it has been released by building a machine learning model. The target audience for this project is the movie industry iteself. The goal here is to determine what combination of cast, director, production company, and budget will be suitable to produce a highly rated movie. In doing so, scriptwriters can choose the right cast, director, and production company to produce their movie; executives of a production company can choose the right cast and director given a specific budget; and a director can choose which actors to cast.\n",
    "\n",
    "Using this notebook, I will detail each of the steps I take towards achieving this goal. I will begin by performing [Data Wrangling](#wrangling), in which I will take a look at the data and see how I should properly clean and transform the data in order to proceed. Then, I will perform [Exploratory Data Analysis](#eda) to explore possible features to include in my model. I will then proceed to the [Modeling](#modeling) phase where I will build and test an initial linear regression model. It is expected that the first model will have many issues, thus I will move onto the next phase where I will [Explore Possible Improvements](#improvements). Once a few ideas have been established, I will incorporate them by building several [New Models](#new_models) and comparing their performances. The last phase of my project will involve [Classification](#classification), in which I will find and convert models I believe will perform better as a classification model instead of a linear regression model.\n",
    "\n",
    "By the end of the notebook, I will have built a finalized model capable of predicting a movie's average rating to a certain degree of accuracy."
   ]
  },
  {
   "cell_type": "markdown",
   "metadata": {},
   "source": [
    "<a id='wrangling'></a>\n",
    "<div class=\"alert alert-block alert-warning\">\n",
    "<h1 align=\"center\">Data Wrangling</h3>"
   ]
  },
  {
   "cell_type": "markdown",
   "metadata": {},
   "source": [
    "<a id='properties'></a>\n",
    "### General Properties\n",
    "#### Description:\n",
    "> Datasets are often riddled with various issues upon the first import, so I must examine the data and make necessary changes so my analysis can proceed as smooth as possible.\n",
    "\n",
    "#### Procedure:\n",
    "> Import the dataset and take a look at the data , and determine if necessary changes will be needed.\n",
    "1. Make preliminary observations\n",
    "  1. Import dataset and look at the first 3 entries\n",
    "  2. Explore anything that stands out\n",
    "2. Check for inconsistencies in data types, such as numerical values and dates being incorrectly represented as strings\n",
    "4. Take a look at the columns and see which ones will be most important for my analysis"
   ]
  },
  {
   "cell_type": "code",
   "execution_count": 259,
   "metadata": {},
   "outputs": [],
   "source": [
    "import pandas as pd\n",
    "import matplotlib.pyplot as plt\n",
    "%matplotlib inline\n",
    "import seaborn as sns\n",
    "import numpy as np\n",
    "from sklearn.model_selection import train_test_split\n",
    "from sklearn.preprocessing import StandardScaler\n",
    "from sklearn.linear_model import LinearRegression\n",
    "from sklearn.metrics import mean_squared_error\n",
    "from sklearn.svm import SVC"
   ]
  },
  {
   "cell_type": "code",
   "execution_count": 260,
   "metadata": {},
   "outputs": [
    {
     "data": {
      "text/html": [
       "<div>\n",
       "<style scoped>\n",
       "    .dataframe tbody tr th:only-of-type {\n",
       "        vertical-align: middle;\n",
       "    }\n",
       "\n",
       "    .dataframe tbody tr th {\n",
       "        vertical-align: top;\n",
       "    }\n",
       "\n",
       "    .dataframe thead th {\n",
       "        text-align: right;\n",
       "    }\n",
       "</style>\n",
       "<table border=\"1\" class=\"dataframe\">\n",
       "  <thead>\n",
       "    <tr style=\"text-align: right;\">\n",
       "      <th></th>\n",
       "      <th>id</th>\n",
       "      <th>imdb_id</th>\n",
       "      <th>popularity</th>\n",
       "      <th>budget</th>\n",
       "      <th>revenue</th>\n",
       "      <th>original_title</th>\n",
       "      <th>cast</th>\n",
       "      <th>homepage</th>\n",
       "      <th>director</th>\n",
       "      <th>tagline</th>\n",
       "      <th>...</th>\n",
       "      <th>overview</th>\n",
       "      <th>runtime</th>\n",
       "      <th>genres</th>\n",
       "      <th>production_companies</th>\n",
       "      <th>release_date</th>\n",
       "      <th>vote_count</th>\n",
       "      <th>vote_average</th>\n",
       "      <th>release_year</th>\n",
       "      <th>budget_adj</th>\n",
       "      <th>revenue_adj</th>\n",
       "    </tr>\n",
       "  </thead>\n",
       "  <tbody>\n",
       "    <tr>\n",
       "      <th>0</th>\n",
       "      <td>135397</td>\n",
       "      <td>tt0369610</td>\n",
       "      <td>32.985763</td>\n",
       "      <td>150000000</td>\n",
       "      <td>1513528810</td>\n",
       "      <td>Jurassic World</td>\n",
       "      <td>Chris Pratt|Bryce Dallas Howard|Irrfan Khan|Vi...</td>\n",
       "      <td>http://www.jurassicworld.com/</td>\n",
       "      <td>Colin Trevorrow</td>\n",
       "      <td>The park is open.</td>\n",
       "      <td>...</td>\n",
       "      <td>Twenty-two years after the events of Jurassic ...</td>\n",
       "      <td>124</td>\n",
       "      <td>Action|Adventure|Science Fiction|Thriller</td>\n",
       "      <td>Universal Studios|Amblin Entertainment|Legenda...</td>\n",
       "      <td>6/9/15</td>\n",
       "      <td>5562</td>\n",
       "      <td>6.5</td>\n",
       "      <td>2015</td>\n",
       "      <td>1.379999e+08</td>\n",
       "      <td>1.392446e+09</td>\n",
       "    </tr>\n",
       "    <tr>\n",
       "      <th>1</th>\n",
       "      <td>76341</td>\n",
       "      <td>tt1392190</td>\n",
       "      <td>28.419936</td>\n",
       "      <td>150000000</td>\n",
       "      <td>378436354</td>\n",
       "      <td>Mad Max: Fury Road</td>\n",
       "      <td>Tom Hardy|Charlize Theron|Hugh Keays-Byrne|Nic...</td>\n",
       "      <td>http://www.madmaxmovie.com/</td>\n",
       "      <td>George Miller</td>\n",
       "      <td>What a Lovely Day.</td>\n",
       "      <td>...</td>\n",
       "      <td>An apocalyptic story set in the furthest reach...</td>\n",
       "      <td>120</td>\n",
       "      <td>Action|Adventure|Science Fiction|Thriller</td>\n",
       "      <td>Village Roadshow Pictures|Kennedy Miller Produ...</td>\n",
       "      <td>5/13/15</td>\n",
       "      <td>6185</td>\n",
       "      <td>7.1</td>\n",
       "      <td>2015</td>\n",
       "      <td>1.379999e+08</td>\n",
       "      <td>3.481613e+08</td>\n",
       "    </tr>\n",
       "    <tr>\n",
       "      <th>2</th>\n",
       "      <td>262500</td>\n",
       "      <td>tt2908446</td>\n",
       "      <td>13.112507</td>\n",
       "      <td>110000000</td>\n",
       "      <td>295238201</td>\n",
       "      <td>Insurgent</td>\n",
       "      <td>Shailene Woodley|Theo James|Kate Winslet|Ansel...</td>\n",
       "      <td>http://www.thedivergentseries.movie/#insurgent</td>\n",
       "      <td>Robert Schwentke</td>\n",
       "      <td>One Choice Can Destroy You</td>\n",
       "      <td>...</td>\n",
       "      <td>Beatrice Prior must confront her inner demons ...</td>\n",
       "      <td>119</td>\n",
       "      <td>Adventure|Science Fiction|Thriller</td>\n",
       "      <td>Summit Entertainment|Mandeville Films|Red Wago...</td>\n",
       "      <td>3/18/15</td>\n",
       "      <td>2480</td>\n",
       "      <td>6.3</td>\n",
       "      <td>2015</td>\n",
       "      <td>1.012000e+08</td>\n",
       "      <td>2.716190e+08</td>\n",
       "    </tr>\n",
       "  </tbody>\n",
       "</table>\n",
       "<p>3 rows × 21 columns</p>\n",
       "</div>"
      ],
      "text/plain": [
       "       id    imdb_id  popularity     budget     revenue      original_title  \\\n",
       "0  135397  tt0369610   32.985763  150000000  1513528810      Jurassic World   \n",
       "1   76341  tt1392190   28.419936  150000000   378436354  Mad Max: Fury Road   \n",
       "2  262500  tt2908446   13.112507  110000000   295238201           Insurgent   \n",
       "\n",
       "                                                cast  \\\n",
       "0  Chris Pratt|Bryce Dallas Howard|Irrfan Khan|Vi...   \n",
       "1  Tom Hardy|Charlize Theron|Hugh Keays-Byrne|Nic...   \n",
       "2  Shailene Woodley|Theo James|Kate Winslet|Ansel...   \n",
       "\n",
       "                                         homepage          director  \\\n",
       "0                   http://www.jurassicworld.com/   Colin Trevorrow   \n",
       "1                     http://www.madmaxmovie.com/     George Miller   \n",
       "2  http://www.thedivergentseries.movie/#insurgent  Robert Schwentke   \n",
       "\n",
       "                      tagline      ...       \\\n",
       "0           The park is open.      ...        \n",
       "1          What a Lovely Day.      ...        \n",
       "2  One Choice Can Destroy You      ...        \n",
       "\n",
       "                                            overview runtime  \\\n",
       "0  Twenty-two years after the events of Jurassic ...     124   \n",
       "1  An apocalyptic story set in the furthest reach...     120   \n",
       "2  Beatrice Prior must confront her inner demons ...     119   \n",
       "\n",
       "                                      genres  \\\n",
       "0  Action|Adventure|Science Fiction|Thriller   \n",
       "1  Action|Adventure|Science Fiction|Thriller   \n",
       "2         Adventure|Science Fiction|Thriller   \n",
       "\n",
       "                                production_companies release_date vote_count  \\\n",
       "0  Universal Studios|Amblin Entertainment|Legenda...       6/9/15       5562   \n",
       "1  Village Roadshow Pictures|Kennedy Miller Produ...      5/13/15       6185   \n",
       "2  Summit Entertainment|Mandeville Films|Red Wago...      3/18/15       2480   \n",
       "\n",
       "   vote_average  release_year    budget_adj   revenue_adj  \n",
       "0           6.5          2015  1.379999e+08  1.392446e+09  \n",
       "1           7.1          2015  1.379999e+08  3.481613e+08  \n",
       "2           6.3          2015  1.012000e+08  2.716190e+08  \n",
       "\n",
       "[3 rows x 21 columns]"
      ]
     },
     "execution_count": 260,
     "metadata": {},
     "output_type": "execute_result"
    }
   ],
   "source": [
    "# Import dataset and look at the first 3 entries\n",
    "df = pd.read_csv('tmdb-movies.csv')\n",
    "df.head(3)"
   ]
  },
  {
   "cell_type": "code",
   "execution_count": 261,
   "metadata": {},
   "outputs": [
    {
     "name": "stdout",
     "output_type": "stream",
     "text": [
      "cast\n",
      "director\n",
      "tagline\n",
      "keywords\n",
      "overview\n",
      "genres\n",
      "production_companies\n"
     ]
    }
   ],
   "source": [
    "# Check for multiple values\n",
    "for x in df.columns:\n",
    "    if type(df[x][0]) == str:\n",
    "        if df[x].str.contains(\"\\|\").any():\n",
    "            print(x)"
   ]
  },
  {
   "cell_type": "markdown",
   "metadata": {},
   "source": [
    "> It seems that the __'cast'__, __'director'__, __'tagline'__, __'keywords'__, __'overview'__, __'genres'__, __'production_companies'__ columns have multiple values per entry.\n",
    "<br> I will have to keep this in mind and find a way to expand each entry for future analysis."
   ]
  },
  {
   "cell_type": "code",
   "execution_count": 262,
   "metadata": {},
   "outputs": [
    {
     "name": "stdout",
     "output_type": "stream",
     "text": [
      "<class 'pandas.core.frame.DataFrame'>\n",
      "RangeIndex: 10866 entries, 0 to 10865\n",
      "Data columns (total 21 columns):\n",
      "id                      10866 non-null int64\n",
      "imdb_id                 10856 non-null object\n",
      "popularity              10866 non-null float64\n",
      "budget                  10866 non-null int64\n",
      "revenue                 10866 non-null int64\n",
      "original_title          10866 non-null object\n",
      "cast                    10790 non-null object\n",
      "homepage                2936 non-null object\n",
      "director                10822 non-null object\n",
      "tagline                 8042 non-null object\n",
      "keywords                9373 non-null object\n",
      "overview                10862 non-null object\n",
      "runtime                 10866 non-null int64\n",
      "genres                  10843 non-null object\n",
      "production_companies    9836 non-null object\n",
      "release_date            10866 non-null object\n",
      "vote_count              10866 non-null int64\n",
      "vote_average            10866 non-null float64\n",
      "release_year            10866 non-null int64\n",
      "budget_adj              10866 non-null float64\n",
      "revenue_adj             10866 non-null float64\n",
      "dtypes: float64(4), int64(6), object(11)\n",
      "memory usage: 1.7+ MB\n"
     ]
    }
   ],
   "source": [
    "# Check for inconsistencies in data types\n",
    "df.info()"
   ]
  },
  {
   "cell_type": "markdown",
   "metadata": {},
   "source": [
    "> The **release_date** column is of data type `str`, and will need to be parsed into a `datetime` object."
   ]
  },
  {
   "cell_type": "code",
   "execution_count": 263,
   "metadata": {},
   "outputs": [
    {
     "data": {
      "text/plain": [
       "['id',\n",
       " 'imdb_id',\n",
       " 'popularity',\n",
       " 'budget',\n",
       " 'revenue',\n",
       " 'original_title',\n",
       " 'cast',\n",
       " 'homepage',\n",
       " 'director',\n",
       " 'tagline',\n",
       " 'keywords',\n",
       " 'overview',\n",
       " 'runtime',\n",
       " 'genres',\n",
       " 'production_companies',\n",
       " 'release_date',\n",
       " 'vote_count',\n",
       " 'vote_average',\n",
       " 'release_year',\n",
       " 'budget_adj',\n",
       " 'revenue_adj']"
      ]
     },
     "execution_count": 263,
     "metadata": {},
     "output_type": "execute_result"
    }
   ],
   "source": [
    "# Take a look at all columns\n",
    "list(df.columns)"
   ]
  },
  {
   "cell_type": "markdown",
   "metadata": {},
   "source": [
    "> The dataset includes many columns, but the only columns I am interested in for my analysis are the following:\n",
    "* [__original_title__, __cast__, __director__, __genres__, __production_companies__, __release_date__, __vote_average__, __release_year__, __budget_adj__, __revenue_adj__]"
   ]
  },
  {
   "cell_type": "markdown",
   "metadata": {},
   "source": [
    "<a id='cleaning'></a>\n",
    "### Data Cleaning\n",
    "#### Description:\n",
    "> To clean the data, there are two main tasks I must complete: parsing the release_date column into `datetime` objects, and dropping several columns and rows.\n",
    "<br> Firstly, I must parse the release_date column into `datetime` objects in order for python to recognize the values as dates. <br> Secondly, I must drop all columns that are unnecessary for my analysis; I must drop all rows containing null values; and I must drop all rows containing zeros, specifically for columns containing numerical values (__vote_average__, __budget__, __revenue__).\n",
    "\n",
    "#### Convert the 'release_date' column to datetime\n",
    "> Parsing the column using the typical parse_dates argument of pd.read_csv or the pd.to_datetime function does not work properly. The reason being that the column contains years in the 1900s, and Python assumes all years are in the 21st century, resulting in incorrectly parsed future years. I will have to correctly identify and fix the problematic years before parsing the column.\n",
    "* Create a boolean mask to locate problematic years\n",
    "* Correctly label the dates\n",
    "* Parse the column to datetime\n",
    "\n",
    "#### Columns and rows to drop\n",
    "> I will drop the __budget__ and __revenue__ columns and use their adjusted values instead\n",
    "\n",
    "> I will drop all columns except for the following, which I will be using for my analysis:\n",
    "* [__original_title__, __cast__, __director__, __genres__, __production_companies__, __release_date__, __vote_average__, __release_year__, __budget__, __revenue__]\n",
    "\n",
    "> I will drop all null values\n",
    "\n",
    "> I will drop rows with zeros in relevant columns I will be analysing\n",
    "* __vote_average__, __budget__, __revenue__\n",
    "\n"
   ]
  },
  {
   "cell_type": "code",
   "execution_count": 264,
   "metadata": {},
   "outputs": [],
   "source": [
    "# Python does not properly parse certain years (ex: 1-1-66 gets parsed as 2066-1-1)\n",
    "# Include a '19' in front of all years in the 1900's to clearly indicate the century\n",
    "from datetime import datetime\n",
    "\n",
    "df = pd.read_csv('tmdb-movies.csv')\n",
    "\n",
    "# Boolean mask for years in the 1900's\n",
    "incorrect_dates = df['release_year'] < 2000\n",
    "# Correct the dates\n",
    "df.loc[incorrect_dates,'release_date'] = df[incorrect_dates]['release_date'].apply(lambda x: x[:-2] + '19' + x[-2:])\n",
    "# Parse release_date column\n",
    "df['release_date'] = pd.to_datetime(df['release_date'])"
   ]
  },
  {
   "cell_type": "code",
   "execution_count": 265,
   "metadata": {},
   "outputs": [
    {
     "data": {
      "text/html": [
       "<div>\n",
       "<style scoped>\n",
       "    .dataframe tbody tr th:only-of-type {\n",
       "        vertical-align: middle;\n",
       "    }\n",
       "\n",
       "    .dataframe tbody tr th {\n",
       "        vertical-align: top;\n",
       "    }\n",
       "\n",
       "    .dataframe thead th {\n",
       "        text-align: right;\n",
       "    }\n",
       "</style>\n",
       "<table border=\"1\" class=\"dataframe\">\n",
       "  <thead>\n",
       "    <tr style=\"text-align: right;\">\n",
       "      <th></th>\n",
       "      <th>original_title</th>\n",
       "      <th>cast</th>\n",
       "      <th>director</th>\n",
       "      <th>genres</th>\n",
       "      <th>production_companies</th>\n",
       "      <th>release_date</th>\n",
       "      <th>vote_average</th>\n",
       "      <th>budget</th>\n",
       "      <th>revenue</th>\n",
       "    </tr>\n",
       "  </thead>\n",
       "  <tbody>\n",
       "    <tr>\n",
       "      <th>0</th>\n",
       "      <td>Jurassic World</td>\n",
       "      <td>Chris Pratt|Bryce Dallas Howard|Irrfan Khan|Vi...</td>\n",
       "      <td>Colin Trevorrow</td>\n",
       "      <td>Action|Adventure|Science Fiction|Thriller</td>\n",
       "      <td>Universal Studios|Amblin Entertainment|Legenda...</td>\n",
       "      <td>2015-06-09</td>\n",
       "      <td>6.5</td>\n",
       "      <td>1.379999e+08</td>\n",
       "      <td>1.392446e+09</td>\n",
       "    </tr>\n",
       "    <tr>\n",
       "      <th>1</th>\n",
       "      <td>Mad Max: Fury Road</td>\n",
       "      <td>Tom Hardy|Charlize Theron|Hugh Keays-Byrne|Nic...</td>\n",
       "      <td>George Miller</td>\n",
       "      <td>Action|Adventure|Science Fiction|Thriller</td>\n",
       "      <td>Village Roadshow Pictures|Kennedy Miller Produ...</td>\n",
       "      <td>2015-05-13</td>\n",
       "      <td>7.1</td>\n",
       "      <td>1.379999e+08</td>\n",
       "      <td>3.481613e+08</td>\n",
       "    </tr>\n",
       "    <tr>\n",
       "      <th>2</th>\n",
       "      <td>Insurgent</td>\n",
       "      <td>Shailene Woodley|Theo James|Kate Winslet|Ansel...</td>\n",
       "      <td>Robert Schwentke</td>\n",
       "      <td>Adventure|Science Fiction|Thriller</td>\n",
       "      <td>Summit Entertainment|Mandeville Films|Red Wago...</td>\n",
       "      <td>2015-03-18</td>\n",
       "      <td>6.3</td>\n",
       "      <td>1.012000e+08</td>\n",
       "      <td>2.716190e+08</td>\n",
       "    </tr>\n",
       "    <tr>\n",
       "      <th>3</th>\n",
       "      <td>Star Wars: The Force Awakens</td>\n",
       "      <td>Harrison Ford|Mark Hamill|Carrie Fisher|Adam D...</td>\n",
       "      <td>J.J. Abrams</td>\n",
       "      <td>Action|Adventure|Science Fiction|Fantasy</td>\n",
       "      <td>Lucasfilm|Truenorth Productions|Bad Robot</td>\n",
       "      <td>2015-12-15</td>\n",
       "      <td>7.5</td>\n",
       "      <td>1.839999e+08</td>\n",
       "      <td>1.902723e+09</td>\n",
       "    </tr>\n",
       "    <tr>\n",
       "      <th>4</th>\n",
       "      <td>Furious 7</td>\n",
       "      <td>Vin Diesel|Paul Walker|Jason Statham|Michelle ...</td>\n",
       "      <td>James Wan</td>\n",
       "      <td>Action|Crime|Thriller</td>\n",
       "      <td>Universal Pictures|Original Film|Media Rights ...</td>\n",
       "      <td>2015-04-01</td>\n",
       "      <td>7.3</td>\n",
       "      <td>1.747999e+08</td>\n",
       "      <td>1.385749e+09</td>\n",
       "    </tr>\n",
       "  </tbody>\n",
       "</table>\n",
       "</div>"
      ],
      "text/plain": [
       "                 original_title  \\\n",
       "0                Jurassic World   \n",
       "1            Mad Max: Fury Road   \n",
       "2                     Insurgent   \n",
       "3  Star Wars: The Force Awakens   \n",
       "4                     Furious 7   \n",
       "\n",
       "                                                cast          director  \\\n",
       "0  Chris Pratt|Bryce Dallas Howard|Irrfan Khan|Vi...   Colin Trevorrow   \n",
       "1  Tom Hardy|Charlize Theron|Hugh Keays-Byrne|Nic...     George Miller   \n",
       "2  Shailene Woodley|Theo James|Kate Winslet|Ansel...  Robert Schwentke   \n",
       "3  Harrison Ford|Mark Hamill|Carrie Fisher|Adam D...       J.J. Abrams   \n",
       "4  Vin Diesel|Paul Walker|Jason Statham|Michelle ...         James Wan   \n",
       "\n",
       "                                      genres  \\\n",
       "0  Action|Adventure|Science Fiction|Thriller   \n",
       "1  Action|Adventure|Science Fiction|Thriller   \n",
       "2         Adventure|Science Fiction|Thriller   \n",
       "3   Action|Adventure|Science Fiction|Fantasy   \n",
       "4                      Action|Crime|Thriller   \n",
       "\n",
       "                                production_companies release_date  \\\n",
       "0  Universal Studios|Amblin Entertainment|Legenda...   2015-06-09   \n",
       "1  Village Roadshow Pictures|Kennedy Miller Produ...   2015-05-13   \n",
       "2  Summit Entertainment|Mandeville Films|Red Wago...   2015-03-18   \n",
       "3          Lucasfilm|Truenorth Productions|Bad Robot   2015-12-15   \n",
       "4  Universal Pictures|Original Film|Media Rights ...   2015-04-01   \n",
       "\n",
       "   vote_average        budget       revenue  \n",
       "0           6.5  1.379999e+08  1.392446e+09  \n",
       "1           7.1  1.379999e+08  3.481613e+08  \n",
       "2           6.3  1.012000e+08  2.716190e+08  \n",
       "3           7.5  1.839999e+08  1.902723e+09  \n",
       "4           7.3  1.747999e+08  1.385749e+09  "
      ]
     },
     "execution_count": 265,
     "metadata": {},
     "output_type": "execute_result"
    }
   ],
   "source": [
    "# Drop budget and revenue columns\n",
    "df.drop(columns=['budget','revenue'], inplace=True)\n",
    "# Rename budget_adj column to budget\n",
    "df.rename(columns={'budget_adj':'budget','revenue_adj':'revenue'}, inplace=True)\n",
    "\n",
    "# List of columns to keep ['original_title','cast','director','genres','production_companies','release_date','vote_average','release_year','budget']\n",
    "keep_list = ['original_title','cast','director','genres','production_companies','release_date','vote_average','budget','revenue']\n",
    "# Update DataFrame\n",
    "df = df[keep_list]\n",
    "\n",
    "# Change all values of 'nan' to null values, then drop rows with null values\n",
    "df.dropna(subset=['original_title','cast','director','genres','production_companies','release_date'], inplace=True)\n",
    "\n",
    "# Drop rows with zeros in relevant columns\n",
    "df = df.loc[df[['vote_average','budget','revenue']].ne(0).all(axis=1)]\n",
    "\n",
    "df.head()"
   ]
  },
  {
   "cell_type": "markdown",
   "metadata": {},
   "source": [
    "<a id='eda'></a>\n",
    "<div class=\"alert alert-block alert-warning\">\n",
    "<h1 align=\"center\">Exploratory Data Analysis</h3>"
   ]
  },
  {
   "cell_type": "markdown",
   "metadata": {},
   "source": [
    "<a id='months'></a>\n",
    "### Which months are the best times to view movies?\n",
    "#### Description:\n",
    "> Determine which months have the highest average rating, view the median number of movies released each month, and determine the average budget for movies by their release month.\n",
    "\n",
    "#### Procedure:\n",
    "> \n",
    "1. Plot the average rating vs. release month\n",
    "  1. Create a copy of the DataFrame and name it __rating_by_month__\n",
    "  2. Convert the __release_date__ column to numerical representations of the month\n",
    "  3. Group by __release_date__, then find the mean of the __vote_average__, and plot the values\n",
    "2. Plot the median number of movies each month\n",
    "  1. Create a copy of the DataFrame with the index set to __release_date__ and name it __monthly_count__\n",
    "  2. Resample the __monthly_count__ DataFrame by month, and count the number of movies that appear each month\n",
    "  3. Drop the months with zero movies\n",
    "  4. Reset the index\n",
    "  5. Convert the __release_date__ column to numerical representations of the month\n",
    "  6. Group by __release_date__, then find the median number of movies for each month, and plot as a bar chart\n",
    "3. Plot the average budget vs. release_month\n",
    "  1. Create a copy of the DataFrame and name it __budget_info__\n",
    "  2. Convert the __release_date__ column to numerical representations of the month\n",
    "  3. Group by __release_date__, then find the mean of the __budget__, and plot the values"
   ]
  },
  {
   "cell_type": "markdown",
   "metadata": {},
   "source": [
    "##### 1. Plot the average rating vs. release month\n",
    "##### 2. Plot the median number of movies each month\n",
    "##### 3. Plot the average budget vs. release_month"
   ]
  },
  {
   "cell_type": "code",
   "execution_count": 266,
   "metadata": {
    "scrolled": false
   },
   "outputs": [
    {
     "data": {
      "image/png": "[encoded data removed]",
      "text/plain": [
       "<matplotlib.figure.Figure at 0x1d814cda400>"
      ]
     },
     "metadata": {},
     "output_type": "display_data"
    },
    {
     "data": {
      "image/png": "[encoded data removed]",
      "text/plain": [
       "<matplotlib.figure.Figure at 0x1d81be78b70>"
      ]
     },
     "metadata": {},
     "output_type": "display_data"
    },
    {
     "data": {
      "image/png": "[encoded data removed]",
      "text/plain": [
       "<matplotlib.figure.Figure at 0x1d8148f59b0>"
      ]
     },
     "metadata": {},
     "output_type": "display_data"
    }
   ],
   "source": [
    "# Plot the average rating vs. release month\n",
    "plt.figure\n",
    "rating_by_month = df.copy()\n",
    "rating_by_month['release_date'] = rating_by_month['release_date'].dt.month\n",
    "rating_by_month.groupby('release_date')['vote_average'].mean().plot(figsize=(10,5))\n",
    "plt.subplots_adjust(left = 0.145)\n",
    "plt.title('Figure 1')\n",
    "plt.xlabel('Release Month')\n",
    "plt.ylabel('Average Rating')\n",
    "plt.show()\n",
    "\n",
    "# Plot the median number of movies each month\n",
    "plt.figure\n",
    "monthly_count = df.set_index('release_date')\n",
    "monthly_count = monthly_count.resample('M').count()\n",
    "monthly_count = monthly_count.loc[monthly_count.ne(0).all(axis=1)]\n",
    "monthly_count = monthly_count.reset_index()\n",
    "monthly_count['release_date'] = monthly_count['release_date'].dt.month\n",
    "standout = ['grey','grey','gray','grey','b','b','b','grey','b','b','b','b']\n",
    "monthly_count.groupby('release_date')['original_title'].median().plot(kind='bar', color=standout, figsize=(10,5))\n",
    "plt.title('Figure 2')\n",
    "plt.xlabel('Release Month')\n",
    "plt.ylabel('Median Number of Movies')\n",
    "plt.show()\n",
    "\n",
    "# Plot the average budget vs. release_month\n",
    "plt.figure\n",
    "budget_info = df.copy()\n",
    "budget_info['release_date'] = budget_info['release_date'].dt.month\n",
    "budget_info.groupby('release_date')['budget'].mean().plot(figsize=(10,5))\n",
    "plt.title('Figure 3')\n",
    "plt.xlabel('Release Month')\n",
    "plt.ylabel('Average Budget');"
   ]
  },
  {
   "cell_type": "markdown",
   "metadata": {},
   "source": [
    "> By comparing Figures 1 and 2, it is quite clear that movies released on certain months have a higher average rating than others. This seems to be correlated with the observation that months with higher average ratings also have a higher number of newly released movies. These observations lead to a possible correlation between a movie's rating and the month it was released.\n",
    "\n",
    "> By comparing Figures 1 and 3, an odd observation is discovered. The average ratings and the average budget for the months of May, June, July, November, and December seem to be correlated; but this is not true for the months of September, and October. Although the latter is observed, it seems that there may still be a correlation between a movie's budget and its rating."
   ]
  },
  {
   "cell_type": "markdown",
   "metadata": {},
   "source": [
    "<a id='top_10'></a>\n",
    "### Which actors, directors, and production companies produce the best movies by genre?\n",
    "#### Description:\n",
    "> I would like to find the top 10 actors/directors/production_companies by genre in order to use these values in the modeling phase to build my features. This will allow my model to predict a movie's ratings by learning who the best actors, directors, and production companies are.\n",
    "\n",
    "#### Procedure:\n",
    "> I will have to first write a function to expand each of these columns. Once the columns are expanded, I will be able to group the data by the genres and the features, then find the 10 values with the highest rating.\n",
    "1. Preliminary steps:\n",
    "  1. Write a function to expand each of these columns, as each row contains multiple values\n",
    "  2. Expand the columns\n",
    "2. Find the top 10 actors by genre\n",
    "  1. Group by the __genres__ and __cast__ column, then find the mean of the __vote_average__ column\n",
    "  2. Take the previous groupby object, groupby the __genres__ colum, then find the top 10 values from the __vote_average__ column\n",
    "3. Find the top 10 directors by genre\n",
    "  1. Group by the __genres__ and __director__ column, then find the mean of the __vote_average__ column\n",
    "  2. Take the previous groupby object, groupby the __genres__ colum, then find the top 10 values from the __vote_average__ \n",
    "4. Find the top 10 production companies by genre\n",
    "  1. Group by the __genres__ and __production_companies__ column, then find the mean of the __vote_average__ column\n",
    "  2. Take the previous groupby object, groupby the __genres__ colum, then find the top 10 values from the __vote_average__ "
   ]
  },
  {
   "cell_type": "markdown",
   "metadata": {},
   "source": [
    "##### 1. Preliminary steps:"
   ]
  },
  {
   "cell_type": "code",
   "execution_count": 267,
   "metadata": {},
   "outputs": [],
   "source": [
    "# Function to expand columns with multiple values\n",
    "def expand(df_in, column, sep='|'):\n",
    "    \"\"\"\n",
    "    !!! IMPORTANT !!! : \n",
    "        df_in MUST HAVE NO NULL VALUES\n",
    "    !!! IMPORTANT !!!\n",
    "    \n",
    "    Split the values of a column and expand so the new\n",
    "    DataFrame has one row per value.\n",
    "    \"\"\"\n",
    "    indexes = list()\n",
    "    new_values = list()\n",
    "    # Find all rows, and column values to expand\n",
    "    for i, presplit in enumerate(df_in[column]):\n",
    "        # Expand the column values and store\n",
    "        values = presplit.split(sep)\n",
    "        new_values += values\n",
    "        # Duplicate the row index and store\n",
    "        indexes += [i] * len(values)\n",
    "    # Copy of the original DataFrame with duplicate\n",
    "     # rows to match expanded column\n",
    "    df_out = df_in.iloc[indexes, :].copy()\n",
    "    # Replace the column with the expanded values\n",
    "    df_out[column] = new_values\n",
    "    # Renumber the index\n",
    "    df_out.index = list(range(len(df_out)))\n",
    "    \n",
    "    return df_out"
   ]
  },
  {
   "cell_type": "code",
   "execution_count": 268,
   "metadata": {},
   "outputs": [
    {
     "name": "stdout",
     "output_type": "stream",
     "text": [
      "Properly expanded!\n"
     ]
    }
   ],
   "source": [
    "# Test to see it can properly expand the columns\n",
    "\n",
    "# Columns to expand\n",
    "expand_columns = ['cast','director', 'genres','production_companies']\n",
    "\n",
    "# Create a new dataframe\n",
    "test = df.copy()\n",
    "# Loop through all columns\n",
    "count = 0\n",
    "for column in expand_columns:\n",
    "    test = expand(test,column)\n",
    "    if not test[column].str.contains(\"\\|\").any():\n",
    "        count += 1\n",
    "    # Check to see it worked\n",
    "    # Should print, \"Properly expanded!\"\n",
    "    if count == 4:\n",
    "        print('Properly expanded!')"
   ]
  },
  {
   "cell_type": "code",
   "execution_count": 269,
   "metadata": {},
   "outputs": [],
   "source": [
    "# Expand the genres column, and store in a new DataFrame\n",
    "expand_genres = expand(df.copy(), 'genres')\n",
    "\n",
    "# Create a list of all the genres\n",
    "genres_list = sorted(list(expand_genres['genres'].unique()))\n",
    "\n",
    "# Create a new DataFrame for each attribute and expand the corresponding column\n",
    "cast_genres = expand(expand_genres, 'cast')\n",
    "dir_genres = expand(expand_genres, 'director')\n",
    "prod_genres = expand(expand_genres, 'production_companies')"
   ]
  },
  {
   "cell_type": "markdown",
   "metadata": {},
   "source": [
    "##### 2. Find the top 100 actors by genre"
   ]
  },
  {
   "cell_type": "code",
   "execution_count": 270,
   "metadata": {
    "scrolled": true
   },
   "outputs": [],
   "source": [
    "# Find the top 10 actors by genre\n",
    "cast_averages = pd.DataFrame(cast_genres.groupby(['genres', 'cast'])['vote_average'].mean())\n",
    "find_top_10 = cast_averages['vote_average'].groupby(level=0, group_keys=False)\n",
    "top_10_cast = pd.DataFrame(find_top_10.nlargest(10)).reset_index()\n",
    "top_10_cast = top_10_cast.groupby('genres')['cast'].unique().to_dict()"
   ]
  },
  {
   "cell_type": "markdown",
   "metadata": {},
   "source": [
    "##### 3. Find the top 10 directors by genre"
   ]
  },
  {
   "cell_type": "code",
   "execution_count": 271,
   "metadata": {},
   "outputs": [],
   "source": [
    "# Find the top 10 directors by genre\n",
    "dir_averages = pd.DataFrame(dir_genres.groupby(['genres', 'director'])['vote_average'].mean())\n",
    "find_top_10 = dir_averages['vote_average'].groupby(level=0, group_keys=False)\n",
    "top_10_dir = pd.DataFrame(find_top_10.nlargest(10)).reset_index()\n",
    "top_10_dir = top_10_dir.groupby('genres')['director'].unique().to_dict()"
   ]
  },
  {
   "cell_type": "markdown",
   "metadata": {},
   "source": [
    "##### 4. Find the top 10 production companies by genre"
   ]
  },
  {
   "cell_type": "code",
   "execution_count": 272,
   "metadata": {
    "scrolled": false
   },
   "outputs": [],
   "source": [
    "# Find the top 10 production companies by genre\n",
    "prod_averages = pd.DataFrame(prod_genres.groupby(['genres', 'production_companies'])['vote_average'].mean())\n",
    "find_top_10 = prod_averages['vote_average'].groupby(level=0, group_keys=False)\n",
    "top_10_prod = pd.DataFrame(find_top_10.nlargest(10)).reset_index()\n",
    "top_10_prod = top_10_prod.groupby('genres')['production_companies'].unique().to_dict()"
   ]
  },
  {
   "cell_type": "markdown",
   "metadata": {},
   "source": [
    "<a id='modeling'></a>\n",
    "<div class=\"alert alert-block alert-warning\">\n",
    "<h1 align=\"center\">Modeling</h3>"
   ]
  },
  {
   "cell_type": "markdown",
   "metadata": {},
   "source": [
    "<a id='preprocessing'></a>\n",
    "### Preprocessing\n",
    "#### Description:\n",
    "> I must run my data through a preprocessing procedure in order to build the feature columns that my model will learn from. \n",
    "\n",
    "> First, I must build the feature columns for the **cast**, **director**, and **production_companies__** by counting the number of times each movie has a feature that appears at least once in the top 10 lists for its corresponding genres.\n",
    "<br> To explain this, lets use a movie categorized under the genres of Action and Adventure as an example. I will then count the number of times the following are true: the movie has at least one actor from the top 10 action list, at least one actor from the top 10 adventure list, at least one director from the top 10 action list, etc.\n",
    "\n",
    "> Next, I will build the feature columns for the **genres** by creating one column for each genre. Each column/genre will have a value of a 0 if the movie is not categorized under this genre, and a 1 if the movie is categorized under this genre.\n",
    "\n",
    "> Lastly, I will build a feature column representing the month that each movie was released, by converting the **release_date** column into numerical representations of month.\n",
    "\n",
    "#### Procedure:\n",
    "> Build the feature columns for the **cast**, **director**, **production_companies**, **genres**, and **release_date** in order to fit the data to a linear regression model.\n",
    "1. Build the cast, director, and production_companies feature columns\n",
    "  1. Loop through the features and their corresponding DataFrames\n",
    "    1. Split the feature column into a list using the .split() method\n",
    "  2. Loop through the genres\n",
    "    1. Find all movies in correspondence with the top 10 of the current feature for the current genre\n",
    "2. Build the genre feature columns\n",
    "  1. Use pd.get_dummies() to create dummy variables\n",
    "  2. Drop the original genres column\n",
    "3. Collapse the DataFrame back to one movie per row\n",
    "  1. Collapse genre features\n",
    "    1. Groupby **original_title** and **release_date**, then sum the genre columns\n",
    "  2. Collapse remaining features\n",
    "    2. Groupby **original_title** and **release_date**, then find the unique values for the remaining columns\n",
    "4. Build the release_date feature column\n",
    "  1. Use the dt.month method to convert the column into integer values of month\n",
    "5. Combine all steps into one function"
   ]
  },
  {
   "cell_type": "markdown",
   "metadata": {},
   "source": [
    "##### 1. Build the cast, director, and production_companies feature columns"
   ]
  },
  {
   "cell_type": "code",
   "execution_count": 273,
   "metadata": {},
   "outputs": [
    {
     "data": {
      "text/html": [
       "<div>\n",
       "<style scoped>\n",
       "    .dataframe tbody tr th:only-of-type {\n",
       "        vertical-align: middle;\n",
       "    }\n",
       "\n",
       "    .dataframe tbody tr th {\n",
       "        vertical-align: top;\n",
       "    }\n",
       "\n",
       "    .dataframe thead th {\n",
       "        text-align: right;\n",
       "    }\n",
       "</style>\n",
       "<table border=\"1\" class=\"dataframe\">\n",
       "  <thead>\n",
       "    <tr style=\"text-align: right;\">\n",
       "      <th></th>\n",
       "      <th>original_title</th>\n",
       "      <th>cast</th>\n",
       "      <th>director</th>\n",
       "      <th>genres</th>\n",
       "      <th>production_companies</th>\n",
       "      <th>release_date</th>\n",
       "      <th>vote_average</th>\n",
       "      <th>budget</th>\n",
       "      <th>revenue</th>\n",
       "    </tr>\n",
       "  </thead>\n",
       "  <tbody>\n",
       "    <tr>\n",
       "      <th>0</th>\n",
       "      <td>Jurassic World</td>\n",
       "      <td>0</td>\n",
       "      <td>0</td>\n",
       "      <td>Action</td>\n",
       "      <td>0</td>\n",
       "      <td>2015-06-09</td>\n",
       "      <td>6.5</td>\n",
       "      <td>1.379999e+08</td>\n",
       "      <td>1.392446e+09</td>\n",
       "    </tr>\n",
       "    <tr>\n",
       "      <th>1</th>\n",
       "      <td>Jurassic World</td>\n",
       "      <td>0</td>\n",
       "      <td>0</td>\n",
       "      <td>Adventure</td>\n",
       "      <td>0</td>\n",
       "      <td>2015-06-09</td>\n",
       "      <td>6.5</td>\n",
       "      <td>1.379999e+08</td>\n",
       "      <td>1.392446e+09</td>\n",
       "    </tr>\n",
       "    <tr>\n",
       "      <th>2</th>\n",
       "      <td>Jurassic World</td>\n",
       "      <td>0</td>\n",
       "      <td>0</td>\n",
       "      <td>Science Fiction</td>\n",
       "      <td>0</td>\n",
       "      <td>2015-06-09</td>\n",
       "      <td>6.5</td>\n",
       "      <td>1.379999e+08</td>\n",
       "      <td>1.392446e+09</td>\n",
       "    </tr>\n",
       "  </tbody>\n",
       "</table>\n",
       "</div>"
      ],
      "text/plain": [
       "   original_title  cast  director           genres  production_companies  \\\n",
       "0  Jurassic World     0         0           Action                     0   \n",
       "1  Jurassic World     0         0        Adventure                     0   \n",
       "2  Jurassic World     0         0  Science Fiction                     0   \n",
       "\n",
       "  release_date  vote_average        budget       revenue  \n",
       "0   2015-06-09           6.5  1.379999e+08  1.392446e+09  \n",
       "1   2015-06-09           6.5  1.379999e+08  1.392446e+09  \n",
       "2   2015-06-09           6.5  1.379999e+08  1.392446e+09  "
      ]
     },
     "execution_count": 273,
     "metadata": {},
     "output_type": "execute_result"
    }
   ],
   "source": [
    "# List of features\n",
    "features = ['cast', 'director', 'production_companies']\n",
    "# List of dataframes\n",
    "dataframes = [top_10_cast, top_10_dir, top_10_prod]\n",
    "# Copy the expand_genres DataFrame\n",
    "model_df = expand_genres[expand_genres.columns]\n",
    "\n",
    "# Loop through the features and their corresponding DataFrames\n",
    "for i in range(3):\n",
    "    feature = features[i]\n",
    "    data =  dataframes[i]\n",
    "    # Split the feature column\n",
    "    model_df[feature] = model_df[feature].apply(lambda x: x.split('|'))\n",
    "    \n",
    "    # Loop through the genres\n",
    "    for genre in genres_list:\n",
    "        # Top 10 of the current feature for the current genre\n",
    "        top_10 = data[genre]\n",
    "\n",
    "        # Find all movies with a top_10 feature for the current genre\n",
    "        temp = model_df.loc[model_df.genres == genre, feature].apply(lambda values: any(hit in values for hit in top_10)).astype(int)\n",
    "        \n",
    "        # Update the dataframe\n",
    "        model_df.loc[model_df.genres == genre, feature] = temp\n",
    "\n",
    "# Check the DataFrame to confirm changes\n",
    "model_df.head(3)"
   ]
  },
  {
   "cell_type": "markdown",
   "metadata": {},
   "source": [
    "##### 2. Build the genre feature columns"
   ]
  },
  {
   "cell_type": "code",
   "execution_count": 274,
   "metadata": {},
   "outputs": [
    {
     "data": {
      "text/html": [
       "<div>\n",
       "<style scoped>\n",
       "    .dataframe tbody tr th:only-of-type {\n",
       "        vertical-align: middle;\n",
       "    }\n",
       "\n",
       "    .dataframe tbody tr th {\n",
       "        vertical-align: top;\n",
       "    }\n",
       "\n",
       "    .dataframe thead th {\n",
       "        text-align: right;\n",
       "    }\n",
       "</style>\n",
       "<table border=\"1\" class=\"dataframe\">\n",
       "  <thead>\n",
       "    <tr style=\"text-align: right;\">\n",
       "      <th></th>\n",
       "      <th>original_title</th>\n",
       "      <th>cast</th>\n",
       "      <th>director</th>\n",
       "      <th>production_companies</th>\n",
       "      <th>release_date</th>\n",
       "      <th>vote_average</th>\n",
       "      <th>budget</th>\n",
       "      <th>revenue</th>\n",
       "      <th>Action</th>\n",
       "      <th>Adventure</th>\n",
       "      <th>...</th>\n",
       "      <th>History</th>\n",
       "      <th>Horror</th>\n",
       "      <th>Music</th>\n",
       "      <th>Mystery</th>\n",
       "      <th>Romance</th>\n",
       "      <th>Science Fiction</th>\n",
       "      <th>TV Movie</th>\n",
       "      <th>Thriller</th>\n",
       "      <th>War</th>\n",
       "      <th>Western</th>\n",
       "    </tr>\n",
       "  </thead>\n",
       "  <tbody>\n",
       "    <tr>\n",
       "      <th>0</th>\n",
       "      <td>Jurassic World</td>\n",
       "      <td>0</td>\n",
       "      <td>0</td>\n",
       "      <td>0</td>\n",
       "      <td>2015-06-09</td>\n",
       "      <td>6.5</td>\n",
       "      <td>1.379999e+08</td>\n",
       "      <td>1.392446e+09</td>\n",
       "      <td>1</td>\n",
       "      <td>0</td>\n",
       "      <td>...</td>\n",
       "      <td>0</td>\n",
       "      <td>0</td>\n",
       "      <td>0</td>\n",
       "      <td>0</td>\n",
       "      <td>0</td>\n",
       "      <td>0</td>\n",
       "      <td>0</td>\n",
       "      <td>0</td>\n",
       "      <td>0</td>\n",
       "      <td>0</td>\n",
       "    </tr>\n",
       "    <tr>\n",
       "      <th>1</th>\n",
       "      <td>Jurassic World</td>\n",
       "      <td>0</td>\n",
       "      <td>0</td>\n",
       "      <td>0</td>\n",
       "      <td>2015-06-09</td>\n",
       "      <td>6.5</td>\n",
       "      <td>1.379999e+08</td>\n",
       "      <td>1.392446e+09</td>\n",
       "      <td>0</td>\n",
       "      <td>1</td>\n",
       "      <td>...</td>\n",
       "      <td>0</td>\n",
       "      <td>0</td>\n",
       "      <td>0</td>\n",
       "      <td>0</td>\n",
       "      <td>0</td>\n",
       "      <td>0</td>\n",
       "      <td>0</td>\n",
       "      <td>0</td>\n",
       "      <td>0</td>\n",
       "      <td>0</td>\n",
       "    </tr>\n",
       "    <tr>\n",
       "      <th>2</th>\n",
       "      <td>Jurassic World</td>\n",
       "      <td>0</td>\n",
       "      <td>0</td>\n",
       "      <td>0</td>\n",
       "      <td>2015-06-09</td>\n",
       "      <td>6.5</td>\n",
       "      <td>1.379999e+08</td>\n",
       "      <td>1.392446e+09</td>\n",
       "      <td>0</td>\n",
       "      <td>0</td>\n",
       "      <td>...</td>\n",
       "      <td>0</td>\n",
       "      <td>0</td>\n",
       "      <td>0</td>\n",
       "      <td>0</td>\n",
       "      <td>0</td>\n",
       "      <td>1</td>\n",
       "      <td>0</td>\n",
       "      <td>0</td>\n",
       "      <td>0</td>\n",
       "      <td>0</td>\n",
       "    </tr>\n",
       "  </tbody>\n",
       "</table>\n",
       "<p>3 rows × 28 columns</p>\n",
       "</div>"
      ],
      "text/plain": [
       "   original_title  cast  director  production_companies release_date  \\\n",
       "0  Jurassic World     0         0                     0   2015-06-09   \n",
       "1  Jurassic World     0         0                     0   2015-06-09   \n",
       "2  Jurassic World     0         0                     0   2015-06-09   \n",
       "\n",
       "   vote_average        budget       revenue  Action  Adventure   ...     \\\n",
       "0           6.5  1.379999e+08  1.392446e+09       1          0   ...      \n",
       "1           6.5  1.379999e+08  1.392446e+09       0          1   ...      \n",
       "2           6.5  1.379999e+08  1.392446e+09       0          0   ...      \n",
       "\n",
       "   History  Horror  Music  Mystery  Romance  Science Fiction  TV Movie  \\\n",
       "0        0       0      0        0        0                0         0   \n",
       "1        0       0      0        0        0                0         0   \n",
       "2        0       0      0        0        0                1         0   \n",
       "\n",
       "   Thriller  War  Western  \n",
       "0         0    0        0  \n",
       "1         0    0        0  \n",
       "2         0    0        0  \n",
       "\n",
       "[3 rows x 28 columns]"
      ]
     },
     "execution_count": 274,
     "metadata": {},
     "output_type": "execute_result"
    }
   ],
   "source": [
    "# Create dummy variables\n",
    "model_df[genres_list] = pd.get_dummies(model_df['genres'])\n",
    "# Drop the original 'genres' column\n",
    "model_df.drop(columns='genres', inplace=True)\n",
    "\n",
    "# Check the DataFrame to confirm changes\n",
    "model_df.head(3)"
   ]
  },
  {
   "cell_type": "markdown",
   "metadata": {},
   "source": [
    "##### 3. Collapse the DataFrame back to one movie per row"
   ]
  },
  {
   "cell_type": "code",
   "execution_count": 275,
   "metadata": {},
   "outputs": [
    {
     "data": {
      "text/html": [
       "<div>\n",
       "<style scoped>\n",
       "    .dataframe tbody tr th:only-of-type {\n",
       "        vertical-align: middle;\n",
       "    }\n",
       "\n",
       "    .dataframe tbody tr th {\n",
       "        vertical-align: top;\n",
       "    }\n",
       "\n",
       "    .dataframe thead th {\n",
       "        text-align: right;\n",
       "    }\n",
       "</style>\n",
       "<table border=\"1\" class=\"dataframe\">\n",
       "  <thead>\n",
       "    <tr style=\"text-align: right;\">\n",
       "      <th></th>\n",
       "      <th>original_title</th>\n",
       "      <th>release_date</th>\n",
       "      <th>Action</th>\n",
       "      <th>Adventure</th>\n",
       "      <th>Animation</th>\n",
       "      <th>Comedy</th>\n",
       "      <th>Crime</th>\n",
       "      <th>Documentary</th>\n",
       "      <th>Drama</th>\n",
       "      <th>Family</th>\n",
       "      <th>...</th>\n",
       "      <th>Science Fiction</th>\n",
       "      <th>TV Movie</th>\n",
       "      <th>Thriller</th>\n",
       "      <th>War</th>\n",
       "      <th>Western</th>\n",
       "      <th>cast</th>\n",
       "      <th>director</th>\n",
       "      <th>production_companies</th>\n",
       "      <th>vote_average</th>\n",
       "      <th>budget</th>\n",
       "    </tr>\n",
       "  </thead>\n",
       "  <tbody>\n",
       "    <tr>\n",
       "      <th>0</th>\n",
       "      <td>(500) Days of Summer</td>\n",
       "      <td>2009-07-17</td>\n",
       "      <td>0</td>\n",
       "      <td>0</td>\n",
       "      <td>0</td>\n",
       "      <td>1</td>\n",
       "      <td>0</td>\n",
       "      <td>0</td>\n",
       "      <td>1</td>\n",
       "      <td>0</td>\n",
       "      <td>...</td>\n",
       "      <td>0</td>\n",
       "      <td>0</td>\n",
       "      <td>0</td>\n",
       "      <td>0</td>\n",
       "      <td>0</td>\n",
       "      <td>0</td>\n",
       "      <td>0</td>\n",
       "      <td>0</td>\n",
       "      <td>7.3</td>\n",
       "      <td>7.623003e+06</td>\n",
       "    </tr>\n",
       "    <tr>\n",
       "      <th>1</th>\n",
       "      <td>10 Things I Hate About You</td>\n",
       "      <td>1999-03-30</td>\n",
       "      <td>0</td>\n",
       "      <td>0</td>\n",
       "      <td>0</td>\n",
       "      <td>1</td>\n",
       "      <td>0</td>\n",
       "      <td>0</td>\n",
       "      <td>1</td>\n",
       "      <td>0</td>\n",
       "      <td>...</td>\n",
       "      <td>0</td>\n",
       "      <td>0</td>\n",
       "      <td>0</td>\n",
       "      <td>0</td>\n",
       "      <td>0</td>\n",
       "      <td>0</td>\n",
       "      <td>0</td>\n",
       "      <td>0</td>\n",
       "      <td>7.2</td>\n",
       "      <td>2.094485e+07</td>\n",
       "    </tr>\n",
       "    <tr>\n",
       "      <th>2</th>\n",
       "      <td>10,000 BC</td>\n",
       "      <td>2008-02-22</td>\n",
       "      <td>1</td>\n",
       "      <td>1</td>\n",
       "      <td>0</td>\n",
       "      <td>0</td>\n",
       "      <td>0</td>\n",
       "      <td>0</td>\n",
       "      <td>1</td>\n",
       "      <td>0</td>\n",
       "      <td>...</td>\n",
       "      <td>0</td>\n",
       "      <td>0</td>\n",
       "      <td>0</td>\n",
       "      <td>0</td>\n",
       "      <td>0</td>\n",
       "      <td>0</td>\n",
       "      <td>0</td>\n",
       "      <td>0</td>\n",
       "      <td>5.2</td>\n",
       "      <td>1.063426e+08</td>\n",
       "    </tr>\n",
       "    <tr>\n",
       "      <th>3</th>\n",
       "      <td>101 Dalmatians</td>\n",
       "      <td>1996-11-17</td>\n",
       "      <td>0</td>\n",
       "      <td>0</td>\n",
       "      <td>0</td>\n",
       "      <td>1</td>\n",
       "      <td>0</td>\n",
       "      <td>0</td>\n",
       "      <td>0</td>\n",
       "      <td>1</td>\n",
       "      <td>...</td>\n",
       "      <td>0</td>\n",
       "      <td>0</td>\n",
       "      <td>0</td>\n",
       "      <td>0</td>\n",
       "      <td>0</td>\n",
       "      <td>0</td>\n",
       "      <td>0</td>\n",
       "      <td>0</td>\n",
       "      <td>5.5</td>\n",
       "      <td>7.507170e+07</td>\n",
       "    </tr>\n",
       "    <tr>\n",
       "      <th>4</th>\n",
       "      <td>102 Dalmatians</td>\n",
       "      <td>2000-10-07</td>\n",
       "      <td>0</td>\n",
       "      <td>0</td>\n",
       "      <td>0</td>\n",
       "      <td>1</td>\n",
       "      <td>0</td>\n",
       "      <td>0</td>\n",
       "      <td>0</td>\n",
       "      <td>1</td>\n",
       "      <td>...</td>\n",
       "      <td>0</td>\n",
       "      <td>0</td>\n",
       "      <td>0</td>\n",
       "      <td>0</td>\n",
       "      <td>0</td>\n",
       "      <td>0</td>\n",
       "      <td>0</td>\n",
       "      <td>0</td>\n",
       "      <td>5.0</td>\n",
       "      <td>1.076348e+08</td>\n",
       "    </tr>\n",
       "    <tr>\n",
       "      <th>5</th>\n",
       "      <td>10th &amp; Wolf</td>\n",
       "      <td>2006-02-19</td>\n",
       "      <td>1</td>\n",
       "      <td>0</td>\n",
       "      <td>0</td>\n",
       "      <td>0</td>\n",
       "      <td>1</td>\n",
       "      <td>0</td>\n",
       "      <td>1</td>\n",
       "      <td>0</td>\n",
       "      <td>...</td>\n",
       "      <td>0</td>\n",
       "      <td>0</td>\n",
       "      <td>1</td>\n",
       "      <td>0</td>\n",
       "      <td>0</td>\n",
       "      <td>0</td>\n",
       "      <td>0</td>\n",
       "      <td>0</td>\n",
       "      <td>6.0</td>\n",
       "      <td>8.653353e+06</td>\n",
       "    </tr>\n",
       "    <tr>\n",
       "      <th>6</th>\n",
       "      <td>12 Rounds</td>\n",
       "      <td>2009-03-19</td>\n",
       "      <td>1</td>\n",
       "      <td>1</td>\n",
       "      <td>0</td>\n",
       "      <td>0</td>\n",
       "      <td>0</td>\n",
       "      <td>0</td>\n",
       "      <td>1</td>\n",
       "      <td>0</td>\n",
       "      <td>...</td>\n",
       "      <td>0</td>\n",
       "      <td>0</td>\n",
       "      <td>1</td>\n",
       "      <td>0</td>\n",
       "      <td>0</td>\n",
       "      <td>0</td>\n",
       "      <td>0</td>\n",
       "      <td>0</td>\n",
       "      <td>5.9</td>\n",
       "      <td>2.032801e+07</td>\n",
       "    </tr>\n",
       "    <tr>\n",
       "      <th>7</th>\n",
       "      <td>12 Years a Slave</td>\n",
       "      <td>2013-10-18</td>\n",
       "      <td>0</td>\n",
       "      <td>0</td>\n",
       "      <td>0</td>\n",
       "      <td>0</td>\n",
       "      <td>0</td>\n",
       "      <td>0</td>\n",
       "      <td>1</td>\n",
       "      <td>0</td>\n",
       "      <td>...</td>\n",
       "      <td>0</td>\n",
       "      <td>0</td>\n",
       "      <td>0</td>\n",
       "      <td>0</td>\n",
       "      <td>0</td>\n",
       "      <td>1</td>\n",
       "      <td>1</td>\n",
       "      <td>1</td>\n",
       "      <td>7.9</td>\n",
       "      <td>1.872067e+07</td>\n",
       "    </tr>\n",
       "    <tr>\n",
       "      <th>8</th>\n",
       "      <td>127 Hours</td>\n",
       "      <td>2010-11-05</td>\n",
       "      <td>0</td>\n",
       "      <td>1</td>\n",
       "      <td>0</td>\n",
       "      <td>0</td>\n",
       "      <td>0</td>\n",
       "      <td>0</td>\n",
       "      <td>1</td>\n",
       "      <td>0</td>\n",
       "      <td>...</td>\n",
       "      <td>0</td>\n",
       "      <td>0</td>\n",
       "      <td>1</td>\n",
       "      <td>0</td>\n",
       "      <td>0</td>\n",
       "      <td>0</td>\n",
       "      <td>0</td>\n",
       "      <td>0</td>\n",
       "      <td>6.9</td>\n",
       "      <td>1.800000e+07</td>\n",
       "    </tr>\n",
       "    <tr>\n",
       "      <th>9</th>\n",
       "      <td>13 Going On 30</td>\n",
       "      <td>2004-04-13</td>\n",
       "      <td>0</td>\n",
       "      <td>0</td>\n",
       "      <td>0</td>\n",
       "      <td>1</td>\n",
       "      <td>0</td>\n",
       "      <td>0</td>\n",
       "      <td>0</td>\n",
       "      <td>0</td>\n",
       "      <td>...</td>\n",
       "      <td>0</td>\n",
       "      <td>0</td>\n",
       "      <td>0</td>\n",
       "      <td>0</td>\n",
       "      <td>0</td>\n",
       "      <td>0</td>\n",
       "      <td>0</td>\n",
       "      <td>0</td>\n",
       "      <td>6.1</td>\n",
       "      <td>4.271448e+07</td>\n",
       "    </tr>\n",
       "  </tbody>\n",
       "</table>\n",
       "<p>10 rows × 27 columns</p>\n",
       "</div>"
      ],
      "text/plain": [
       "               original_title release_date  Action  Adventure  Animation  \\\n",
       "0        (500) Days of Summer   2009-07-17       0          0          0   \n",
       "1  10 Things I Hate About You   1999-03-30       0          0          0   \n",
       "2                   10,000 BC   2008-02-22       1          1          0   \n",
       "3              101 Dalmatians   1996-11-17       0          0          0   \n",
       "4              102 Dalmatians   2000-10-07       0          0          0   \n",
       "5                 10th & Wolf   2006-02-19       1          0          0   \n",
       "6                   12 Rounds   2009-03-19       1          1          0   \n",
       "7            12 Years a Slave   2013-10-18       0          0          0   \n",
       "8                   127 Hours   2010-11-05       0          1          0   \n",
       "9              13 Going On 30   2004-04-13       0          0          0   \n",
       "\n",
       "   Comedy  Crime  Documentary  Drama  Family      ...       Science Fiction  \\\n",
       "0       1      0            0      1       0      ...                     0   \n",
       "1       1      0            0      1       0      ...                     0   \n",
       "2       0      0            0      1       0      ...                     0   \n",
       "3       1      0            0      0       1      ...                     0   \n",
       "4       1      0            0      0       1      ...                     0   \n",
       "5       0      1            0      1       0      ...                     0   \n",
       "6       0      0            0      1       0      ...                     0   \n",
       "7       0      0            0      1       0      ...                     0   \n",
       "8       0      0            0      1       0      ...                     0   \n",
       "9       1      0            0      0       0      ...                     0   \n",
       "\n",
       "   TV Movie  Thriller  War  Western  cast  director  production_companies  \\\n",
       "0         0         0    0        0     0         0                     0   \n",
       "1         0         0    0        0     0         0                     0   \n",
       "2         0         0    0        0     0         0                     0   \n",
       "3         0         0    0        0     0         0                     0   \n",
       "4         0         0    0        0     0         0                     0   \n",
       "5         0         1    0        0     0         0                     0   \n",
       "6         0         1    0        0     0         0                     0   \n",
       "7         0         0    0        0     1         1                     1   \n",
       "8         0         1    0        0     0         0                     0   \n",
       "9         0         0    0        0     0         0                     0   \n",
       "\n",
       "   vote_average        budget  \n",
       "0           7.3  7.623003e+06  \n",
       "1           7.2  2.094485e+07  \n",
       "2           5.2  1.063426e+08  \n",
       "3           5.5  7.507170e+07  \n",
       "4           5.0  1.076348e+08  \n",
       "5           6.0  8.653353e+06  \n",
       "6           5.9  2.032801e+07  \n",
       "7           7.9  1.872067e+07  \n",
       "8           6.9  1.800000e+07  \n",
       "9           6.1  4.271448e+07  \n",
       "\n",
       "[10 rows x 27 columns]"
      ]
     },
     "execution_count": 275,
     "metadata": {},
     "output_type": "execute_result"
    }
   ],
   "source": [
    "# Collapse the genre features back to one movie per row\n",
    "genre_features = model_df.groupby(['original_title', 'release_date'])[genres_list].sum().reset_index()\n",
    "\n",
    "# Collapse the remaining features back to one movie per row\n",
    "agg_dict = {'cast':'sum', 'director':'sum', 'production_companies':'sum', 'vote_average':'mean', 'budget':'mean'}\n",
    "remaining_features = model_df.groupby(['original_title', 'release_date']).agg(agg_dict)\n",
    "\n",
    "# Join the features\n",
    "model_df = genre_features.join(remaining_features, on=['original_title', 'release_date'])\n",
    "\n",
    "# Check the DataFrame to confirm changes\n",
    "model_df.head(10)"
   ]
  },
  {
   "cell_type": "markdown",
   "metadata": {},
   "source": [
    "##### 4. Build the release_date feature column"
   ]
  },
  {
   "cell_type": "code",
   "execution_count": 276,
   "metadata": {},
   "outputs": [
    {
     "data": {
      "text/html": [
       "<div>\n",
       "<style scoped>\n",
       "    .dataframe tbody tr th:only-of-type {\n",
       "        vertical-align: middle;\n",
       "    }\n",
       "\n",
       "    .dataframe tbody tr th {\n",
       "        vertical-align: top;\n",
       "    }\n",
       "\n",
       "    .dataframe thead th {\n",
       "        text-align: right;\n",
       "    }\n",
       "</style>\n",
       "<table border=\"1\" class=\"dataframe\">\n",
       "  <thead>\n",
       "    <tr style=\"text-align: right;\">\n",
       "      <th></th>\n",
       "      <th>original_title</th>\n",
       "      <th>release_date</th>\n",
       "      <th>Action</th>\n",
       "      <th>Adventure</th>\n",
       "      <th>Animation</th>\n",
       "      <th>Comedy</th>\n",
       "      <th>Crime</th>\n",
       "      <th>Documentary</th>\n",
       "      <th>Drama</th>\n",
       "      <th>Family</th>\n",
       "      <th>...</th>\n",
       "      <th>Science Fiction</th>\n",
       "      <th>TV Movie</th>\n",
       "      <th>Thriller</th>\n",
       "      <th>War</th>\n",
       "      <th>Western</th>\n",
       "      <th>cast</th>\n",
       "      <th>director</th>\n",
       "      <th>production_companies</th>\n",
       "      <th>vote_average</th>\n",
       "      <th>budget</th>\n",
       "    </tr>\n",
       "  </thead>\n",
       "  <tbody>\n",
       "    <tr>\n",
       "      <th>0</th>\n",
       "      <td>(500) Days of Summer</td>\n",
       "      <td>7</td>\n",
       "      <td>0</td>\n",
       "      <td>0</td>\n",
       "      <td>0</td>\n",
       "      <td>1</td>\n",
       "      <td>0</td>\n",
       "      <td>0</td>\n",
       "      <td>1</td>\n",
       "      <td>0</td>\n",
       "      <td>...</td>\n",
       "      <td>0</td>\n",
       "      <td>0</td>\n",
       "      <td>0</td>\n",
       "      <td>0</td>\n",
       "      <td>0</td>\n",
       "      <td>0</td>\n",
       "      <td>0</td>\n",
       "      <td>0</td>\n",
       "      <td>7.3</td>\n",
       "      <td>7.623003e+06</td>\n",
       "    </tr>\n",
       "    <tr>\n",
       "      <th>1</th>\n",
       "      <td>10 Things I Hate About You</td>\n",
       "      <td>3</td>\n",
       "      <td>0</td>\n",
       "      <td>0</td>\n",
       "      <td>0</td>\n",
       "      <td>1</td>\n",
       "      <td>0</td>\n",
       "      <td>0</td>\n",
       "      <td>1</td>\n",
       "      <td>0</td>\n",
       "      <td>...</td>\n",
       "      <td>0</td>\n",
       "      <td>0</td>\n",
       "      <td>0</td>\n",
       "      <td>0</td>\n",
       "      <td>0</td>\n",
       "      <td>0</td>\n",
       "      <td>0</td>\n",
       "      <td>0</td>\n",
       "      <td>7.2</td>\n",
       "      <td>2.094485e+07</td>\n",
       "    </tr>\n",
       "    <tr>\n",
       "      <th>2</th>\n",
       "      <td>10,000 BC</td>\n",
       "      <td>2</td>\n",
       "      <td>1</td>\n",
       "      <td>1</td>\n",
       "      <td>0</td>\n",
       "      <td>0</td>\n",
       "      <td>0</td>\n",
       "      <td>0</td>\n",
       "      <td>1</td>\n",
       "      <td>0</td>\n",
       "      <td>...</td>\n",
       "      <td>0</td>\n",
       "      <td>0</td>\n",
       "      <td>0</td>\n",
       "      <td>0</td>\n",
       "      <td>0</td>\n",
       "      <td>0</td>\n",
       "      <td>0</td>\n",
       "      <td>0</td>\n",
       "      <td>5.2</td>\n",
       "      <td>1.063426e+08</td>\n",
       "    </tr>\n",
       "  </tbody>\n",
       "</table>\n",
       "<p>3 rows × 27 columns</p>\n",
       "</div>"
      ],
      "text/plain": [
       "               original_title  release_date  Action  Adventure  Animation  \\\n",
       "0        (500) Days of Summer             7       0          0          0   \n",
       "1  10 Things I Hate About You             3       0          0          0   \n",
       "2                   10,000 BC             2       1          1          0   \n",
       "\n",
       "   Comedy  Crime  Documentary  Drama  Family      ...       Science Fiction  \\\n",
       "0       1      0            0      1       0      ...                     0   \n",
       "1       1      0            0      1       0      ...                     0   \n",
       "2       0      0            0      1       0      ...                     0   \n",
       "\n",
       "   TV Movie  Thriller  War  Western  cast  director  production_companies  \\\n",
       "0         0         0    0        0     0         0                     0   \n",
       "1         0         0    0        0     0         0                     0   \n",
       "2         0         0    0        0     0         0                     0   \n",
       "\n",
       "   vote_average        budget  \n",
       "0           7.3  7.623003e+06  \n",
       "1           7.2  2.094485e+07  \n",
       "2           5.2  1.063426e+08  \n",
       "\n",
       "[3 rows x 27 columns]"
      ]
     },
     "execution_count": 276,
     "metadata": {},
     "output_type": "execute_result"
    }
   ],
   "source": [
    "# Convert release dates to month\n",
    "model_df['release_date'] = model_df['release_date'].dt.month\n",
    "\n",
    "# Check the DataFrame to confirm changes\n",
    "model_df.head(3)"
   ]
  },
  {
   "cell_type": "markdown",
   "metadata": {},
   "source": [
    "##### 5. Combine all steps into one function"
   ]
  },
  {
   "cell_type": "code",
   "execution_count": 277,
   "metadata": {},
   "outputs": [],
   "source": [
    "def preprocessing(top_cast, top_dir, top_prod, model_df):\n",
    "    '''1. Build the cast, director, and production_companies feature columns'''\n",
    "    # List of features\n",
    "    features = ['cast', 'director', 'production_companies']\n",
    "    # List of dataframes\n",
    "    dataframes = [top_cast, top_dir, top_prod]\n",
    "\n",
    "    # Loop through the features and their corresponding DataFrames\n",
    "    for i in range(3):\n",
    "        feature = features[i]\n",
    "        data =  dataframes[i]\n",
    "        # Split the feature column\n",
    "        model_df[feature] = model_df[feature].apply(lambda x: x.split('|'))\n",
    "        \n",
    "        # Loop through the genres\n",
    "        for genre in genres_list:\n",
    "            try:\n",
    "                # Top n of the current feature for the current genre\n",
    "                top_n = data[genre]\n",
    "\n",
    "                # Find all movies with a top_n feature for the current genre\n",
    "                temp = model_df.loc[model_df.genres == genre, feature].apply(lambda values: any(hit in values for hit in top_n)).astype(int)\n",
    "\n",
    "                # Update the dataframe\n",
    "                model_df.loc[model_df.genres == genre, feature] = temp\n",
    "            except:\n",
    "                model_df.loc[model_df.genres == genre, feature] = 0\n",
    "    \n",
    "    '''2. Build the genre feature columns'''\n",
    "    # Create dummy variables for genres\n",
    "    model_df[genres_list] = pd.get_dummies(model_df['genres'])\n",
    "    # Drop the original 'genres' column\n",
    "    model_df.drop(columns='genres', inplace=True)\n",
    "    \n",
    "    '''3. Collapse the DataFrame back to one movie per row'''\n",
    "    # Collapse the genre features back to one movie per row\n",
    "    genre_features = model_df.groupby(['original_title', 'release_date'])[genres_list].sum().reset_index()\n",
    "    \n",
    "    # Collapse the remaining features back to one movie per row\n",
    "    agg_dict = {'cast':'sum', 'director':'sum', 'production_companies':'sum', 'vote_average':'mean', 'budget':'mean'}\n",
    "    remaining_features = model_df.groupby(['original_title', 'release_date']).agg(agg_dict)\n",
    "\n",
    "    # Join the features\n",
    "    model_df = genre_features.join(remaining_features, on=['original_title', 'release_date'])\n",
    "    \n",
    "    '''4. Build the release_date feature column'''\n",
    "    # Convert release dates to month\n",
    "    model_df['release_date'] = model_df['release_date'].dt.month\n",
    "    \n",
    "    return model_df"
   ]
  },
  {
   "cell_type": "markdown",
   "metadata": {},
   "source": [
    "<a id='fit_lin'></a>\n",
    "### Fitting the Linear Regression Model\n",
    "#### Description:\n",
    "> Fit the data to a linear regression model using OLS (Ordinary Least Squares)\n",
    "\n",
    "#### Procedure:\n",
    "> Using the **cast**, **director**, **production_companies**, **release_date**, **budget**, and the **genres** columns as the features and the **vote_average** column as the target, split the data into training and test sets. Fit the model to the training set, and use the fitted model to predict the average rating.\n",
    "1. Split the data into training and test sets\n",
    "  1. Split the DataFrame into two variables, X for the features, and y for the target\n",
    "  2. Use the train_test_split function to split the data into a training set, and a test set\n",
    "  3. Standardize the features of the training and test sets\n",
    "2. Fit the model to the training set using the LinearRegression class from sklearn.linear_model\n",
    "3. Plot the ratings vs their predictions\n",
    "4. Combine all steps into one function"
   ]
  },
  {
   "cell_type": "markdown",
   "metadata": {},
   "source": [
    "##### 1. Split the data into training and test sets"
   ]
  },
  {
   "cell_type": "code",
   "execution_count": 278,
   "metadata": {},
   "outputs": [],
   "source": [
    "# Variable to hold feature data\n",
    "X = model_df.drop(columns=['original_title', 'vote_average'])\n",
    "\n",
    "# Variable to hold target data\n",
    "y = model_df['vote_average']\n",
    "\n",
    "# Split the data into training and test sets\n",
    "X_train, X_test, y_train, y_test = train_test_split(X, y, random_state=42)\n",
    "\n",
    "# Standardize the features\n",
    "temp = StandardScaler().fit(X_train)\n",
    "X_train = temp.transform(X_train)\n",
    "X_test = temp.transform(X_test)"
   ]
  },
  {
   "cell_type": "markdown",
   "metadata": {},
   "source": [
    "##### 2. Fit the model to the training set"
   ]
  },
  {
   "cell_type": "code",
   "execution_count": 279,
   "metadata": {},
   "outputs": [],
   "source": [
    "model = LinearRegression()\n",
    "results = model.fit(X_train, y_train)"
   ]
  },
  {
   "cell_type": "markdown",
   "metadata": {},
   "source": [
    "<a id='results1'></a>\n",
    "##### 3. Evaluate model performance"
   ]
  },
  {
   "cell_type": "code",
   "execution_count": 280,
   "metadata": {},
   "outputs": [
    {
     "name": "stdout",
     "output_type": "stream",
     "text": [
      "R^2 (Training): 0.2552991953573587\n",
      "R^2 (Test): 0.21130813333466592\n",
      "MSE: 0.4738747447476443\n"
     ]
    },
    {
     "data": {
      "image/png": "[encoded data removed]",
      "text/plain": [
       "<matplotlib.figure.Figure at 0x1d810487c88>"
      ]
     },
     "metadata": {},
     "output_type": "display_data"
    }
   ],
   "source": [
    "# Results using sklearn\n",
    "y_pred = results.predict(X_test)\n",
    "\n",
    "# Print the R^2 score\n",
    "print('R^2 (Training): {}'.format(results.score(X_train, y_train)))\n",
    "print('R^2 (Test): {}'.format(results.score(X_test, y_test)))\n",
    "\n",
    "# Print the mean squared error\n",
    "print('MSE: {}'.format(mean_squared_error(y_test, y_pred)))\n",
    "\n",
    "# Plot the Rating vs. Predicted Rating\n",
    "plt.plot([4,8],[4,8], color='red')\n",
    "plt.scatter(y_test, y_pred)\n",
    "plt.xlabel(\"Rating: $Y_i$\")\n",
    "plt.ylabel(\"Predicted Rating: $\\hat{Y}_i$\")\n",
    "plt.title(\"Rating vs Predicted Rating: $Y_i$ vs $\\hat{Y}_i$\");"
   ]
  },
  {
   "cell_type": "markdown",
   "metadata": {},
   "source": [
    "##### Top 10 metric results\n",
    "> As you can see from the plot above, this model does a poor job of predicting the ratings.\n",
    "<br> I think the main reason for its poor performance is the scarcity of the **cast**, **director**, and **production_companies** feature columns.\n",
    "\n",
    "> I will now explore some ideas to alter those feature columns in order to improve the model.\n",
    "<div class=\"alert alert-block alert-success\">\n",
    "Comparisons:\n",
    "* [top 500 metric](#results2)\n",
    "* [new preprocessing](#results3)\n",
    "* [model 2 (old preprocessing)](#results5)"
   ]
  },
  {
   "cell_type": "markdown",
   "metadata": {},
   "source": [
    "##### 4. Combine all steps into one function"
   ]
  },
  {
   "cell_type": "code",
   "execution_count": 281,
   "metadata": {},
   "outputs": [],
   "source": [
    "def fit_model(model_df):\n",
    "    '''1. Split the data into training and test sets'''\n",
    "    # Variable to hold feature data\n",
    "    X = model_df.drop(columns=['original_title', 'vote_average'])\n",
    "    \n",
    "    # Variable to hold target data\n",
    "    y = model_df['vote_average']\n",
    "    \n",
    "    # Split the data into training and test sets\n",
    "    X_train, X_test, y_train, y_test = train_test_split(X, y, random_state=42)\n",
    "    \n",
    "    # Standardize the features\n",
    "    temp = StandardScaler().fit(X_train)\n",
    "    X_train = temp.transform(X_train)\n",
    "    X_test = temp.transform(X_test)\n",
    "\n",
    "    '''2. Fit the model to the training set'''\n",
    "    model = LinearRegression()\n",
    "    results = model.fit(X_train, y_train)\n",
    "\n",
    "    '''3. Evaluate model performance'''\n",
    "    # Results using sklearn\n",
    "    y_pred = results.predict(X_test)\n",
    "    \n",
    "    # Print the R^2 score\n",
    "    print('R\\u00b2 (Training): {}'.format(results.score(X_train, y_train)))\n",
    "    print('R\\u00b2 (Test): {}'.format(results.score(X_test, y_test)))\n",
    "    \n",
    "    # Print the mean squared error\n",
    "    print('MSE: {}'.format(mean_squared_error(y_test, y_pred)))\n",
    "    \n",
    "    # Plot the Rating vs. Predicted Rating\n",
    "    plt.plot([4,8],[4,8], color='red')\n",
    "    plt.scatter(y_test, y_pred)\n",
    "    plt.xlabel(\"Rating: $Y_i$\")\n",
    "    plt.ylabel(\"Predicted Rating: $\\hat{Y}_i$\")\n",
    "    plt.title(\"Rating vs Predicted Rating: $Y_i$ vs $\\hat{Y}_i$\");\n",
    "    \n",
    "    return results"
   ]
  },
  {
   "cell_type": "markdown",
   "metadata": {},
   "source": [
    "<a id='improvements'></a>\n",
    "<div class=\"alert alert-block alert-warning\">\n",
    "<h1 align=\"center\">Explore Possible Improvements</h3> "
   ]
  },
  {
   "cell_type": "markdown",
   "metadata": {},
   "source": [
    "<a id='top_500'></a>\n",
    "### Increase the number of actors, directors, and production companies used\n",
    "#### Description:\n",
    "> I will adjust the model to use the top 500 actors, directors, and production companies, instead of just the top 10.\n",
    "<br> This will definitely increase the number of non-zero values in the feature columns.\n",
    "\n",
    "\n",
    "#### Procedure:\n",
    "> Adjust the model by finding the top 500 actors, directors, and production companies, then repeat the steps performed during the [Modeling](#Modeling) process.\n",
    "1. Find the top 500 actors, directors, and production companies by genre\n",
    "2. Preprocessing and Fitting the Linear Regression Model"
   ]
  },
  {
   "cell_type": "markdown",
   "metadata": {},
   "source": [
    "##### 1. Find the top 500 actors, directors, and production companies by genre"
   ]
  },
  {
   "cell_type": "code",
   "execution_count": 282,
   "metadata": {
    "scrolled": true
   },
   "outputs": [],
   "source": [
    "# Create a new DataFrame for each attribute and expand the corresponding column\n",
    "cast_genres = expand(expand_genres, 'cast')\n",
    "dir_genres = expand(expand_genres, 'director')\n",
    "prod_genres = expand(expand_genres, 'production_companies')\n",
    "\n",
    "# Find the top 500 actors by genre\n",
    "cast_averages = pd.DataFrame(cast_genres.groupby(['genres', 'cast'])['vote_average'].mean())\n",
    "find_top_500 = cast_averages['vote_average'].groupby(level=0, group_keys=False)\n",
    "top_500_cast = pd.DataFrame(find_top_500.nlargest(500)).reset_index()\n",
    "top_500_cast = top_500_cast.groupby('genres')['cast'].unique().to_dict()\n",
    "\n",
    "\n",
    "# Find the top 500 directors by genre\n",
    "dir_averages = pd.DataFrame(dir_genres.groupby(['genres', 'director'])['vote_average'].mean())\n",
    "find_top_500 = dir_averages['vote_average'].groupby(level=0, group_keys=False)\n",
    "top_500_dir = pd.DataFrame(find_top_500.nlargest(500)).reset_index()\n",
    "top_500_dir = top_500_dir.groupby('genres')['director'].unique().to_dict()\n",
    "\n",
    "# Find the top 500 production companies by genre\n",
    "prod_averages = pd.DataFrame(prod_genres.groupby(['genres', 'production_companies'])['vote_average'].mean())\n",
    "find_top_500 = prod_averages['vote_average'].groupby(level=0, group_keys=False)\n",
    "top_500_prod = pd.DataFrame(find_top_500.nlargest(500)).reset_index()\n",
    "top_500_prod = top_500_prod.groupby('genres')['production_companies'].unique().to_dict()"
   ]
  },
  {
   "cell_type": "markdown",
   "metadata": {},
   "source": [
    "<a id='results2'></a>\n",
    "##### 2. Preprocessing and Fitting the Linear Regression Model"
   ]
  },
  {
   "cell_type": "code",
   "execution_count": 283,
   "metadata": {},
   "outputs": [
    {
     "name": "stdout",
     "output_type": "stream",
     "text": [
      "R² (Training): 0.6601872747752968\n",
      "R² (Test): 0.6617422074423811\n",
      "MSE: 0.20323757842828108\n"
     ]
    },
    {
     "data": {
      "image/png": "[encoded data removed]",
      "text/plain": [
       "<matplotlib.figure.Figure at 0x1d813ff8438>"
      ]
     },
     "metadata": {},
     "output_type": "display_data"
    }
   ],
   "source": [
    "# Prepare the DataFrame for modeling\n",
    "model_df = expand_genres[expand_genres.columns]\n",
    "model_df = preprocessing(top_500_cast, top_500_dir, top_500_prod, model_df)\n",
    "\n",
    "# Fit the model\n",
    "results = fit_model(model_df)"
   ]
  },
  {
   "cell_type": "markdown",
   "metadata": {},
   "source": [
    "##### Top 500 metric results\n",
    "> These predicted values have an $R^2$ score of 66.17%, with a Mean Squared Error of 0.2. Compared to the [results of the top 10 metric](#results1), this is a huge improvement!\n",
    "\n",
    "> The problem with this metric, however, is that there is no justification for using the top **_500_** actors, directors, and production companies.\n",
    "<br> 500 is just too large of a number, and defeats the entire purpose of the metric, which was to find the best actors, directors, and production companies to build the model's features.\n",
    "\n",
    "> Despite the issues with this metric, it has shown that an increase in the number of actors, directors, and production companies greatly improved the model.\n",
    "<br> Lets save this knowledge for later to create a new model implementing a new metric that includes a higher number of actors, directors, and production companies with a bit more control.\n",
    "<div class=\"alert alert-block alert-success\">\n",
    "Comparisons:\n",
    "* [top 10](#results1)\n",
    "* [new preprocessing](#results4)\n",
    "* [model 2 (old preprocessing)](#results5)\n",
    "* [model 3 (old preprocessing)](#results7)\n",
    "* [model 4 (old preprocessing)](#results9)\n",
    "* [model 5](#results12)\n",
    "\n",
    "</div>"
   ]
  },
  {
   "cell_type": "markdown",
   "metadata": {},
   "source": [
    "<a id='new_preprocessing'></a>\n",
    "### Preprocessing Changes\n",
    "#### Description:\n",
    "> In order to increase the numerical value of each feature column, I'm going to alter the preprocessing procedure to change how the **cast**, **director**, **production_companies** feature columns are built.\n",
    "<br> I will now count the total number of the top actors, directors, and production companies that are listed for each movie by genre.\n",
    "\n",
    "#### Procedure:\n",
    "> Alter the preprocessing function to count the number of top actors, directors, and production companies listed for each movie.\n",
    "1. Compare performance using the top 10 metric\n",
    "2. Compare performance using the top 500 metric"
   ]
  },
  {
   "cell_type": "code",
   "execution_count": 284,
   "metadata": {},
   "outputs": [],
   "source": [
    "def new_preprocessing(top_cast, top_dir, top_prod, model_df):\n",
    "    '''1. Build the cast, director, and production_companies feature columns'''\n",
    "    # List of features\n",
    "    features = ['cast', 'director', 'production_companies']\n",
    "    # List of dataframes\n",
    "    dataframes = [top_cast, top_dir, top_prod]\n",
    "    \n",
    "    # Loop through the features and their corresponding DataFrames\n",
    "    for i in range(3):\n",
    "        feature = features[i]\n",
    "        data =  dataframes[i]\n",
    "        # Split the feature column\n",
    "        model_df[feature] = model_df[feature].apply(lambda x: x.split('|'))\n",
    "\n",
    "        # Loop through the genres\n",
    "        for genre in genres_list:\n",
    "            try:\n",
    "                # Top n of the current feature for the current genre\n",
    "                top_n = data[genre]\n",
    "                \n",
    "                # Find all movies with a top_n feature for the current genre\n",
    "                temp = model_df.loc[model_df.genres == genre, feature].apply(lambda values: sum(hit in values for hit in top_n))\n",
    "                \n",
    "                # Update the dataframe\n",
    "                model_df.loc[model_df.genres == genre, feature] = temp\n",
    "            except:\n",
    "                model_df.loc[model_df.genres == genre, feature] = 0\n",
    "\n",
    "    '''2. Build the genre feature columns'''\n",
    "    # Create dummy variables for genres\n",
    "    model_df[genres_list] = pd.get_dummies(model_df['genres'])\n",
    "    # Drop the original 'genres' column\n",
    "    model_df.drop(columns='genres', inplace=True)\n",
    "    \n",
    "    '''3. Collapse the DataFrame back to one movie per row'''\n",
    "    # Collapse the genre features back to one movie per row\n",
    "    genre_features = model_df.groupby(['original_title', 'release_date'])[genres_list].sum().reset_index()\n",
    "    \n",
    "    # Collapse the remaining features back to one movie per row\n",
    "    agg_dict = {'cast':'sum', 'director':'sum', 'production_companies':'sum', 'vote_average':'mean', 'budget':'mean'}\n",
    "    remaining_features = model_df.groupby(['original_title', 'release_date']).agg(agg_dict)\n",
    "    \n",
    "    # Join the features\n",
    "    model_df = genre_features.join(remaining_features, on=['original_title', 'release_date'])\n",
    "\n",
    "    '''4. Build the release_date feature column'''\n",
    "    # Convert release dates to month\n",
    "    model_df['release_date'] = model_df['release_date'].dt.month\n",
    "    \n",
    "    return model_df"
   ]
  },
  {
   "cell_type": "markdown",
   "metadata": {},
   "source": [
    "<a id='results3'></a>\n",
    "##### 1. Compare performance using the top 10 metric"
   ]
  },
  {
   "cell_type": "code",
   "execution_count": 285,
   "metadata": {},
   "outputs": [
    {
     "name": "stdout",
     "output_type": "stream",
     "text": [
      "R² (Training): 0.24792179100483147\n",
      "R² (Test): 0.22042639919728424\n",
      "MSE: 0.4683961591417616\n"
     ]
    },
    {
     "data": {
      "image/png": "[encoded data removed]",
      "text/plain": [
       "<matplotlib.figure.Figure at 0x1d81c141e48>"
      ]
     },
     "metadata": {},
     "output_type": "display_data"
    }
   ],
   "source": [
    "# Prepare the DataFrame for modeling\n",
    "model_df = expand_genres[expand_genres.columns]\n",
    "model_df = new_preprocessing(top_10_cast, top_10_dir, top_10_prod, model_df)\n",
    "\n",
    "# Fit the model\n",
    "results = fit_model(model_df)"
   ]
  },
  {
   "cell_type": "markdown",
   "metadata": {},
   "source": [
    "##### New preprocessing using top 10 metric results\n",
    "> There is little to no difference in performance for the [top 10 metric (old preprocessing)](#results1).\n",
    "<div class=\"alert alert-block alert-success\">\n",
    "Comparisons:\n",
    "* [old preprocessing](#results1)\n",
    "* [model 2 (new preprocessing)](#results6)\n",
    "\n",
    "</div>"
   ]
  },
  {
   "cell_type": "markdown",
   "metadata": {},
   "source": [
    "<a id='results4'></a>\n",
    "##### 2. Compare performance using the top 500 metric"
   ]
  },
  {
   "cell_type": "code",
   "execution_count": 161,
   "metadata": {},
   "outputs": [
    {
     "name": "stdout",
     "output_type": "stream",
     "text": [
      "R² (Training): 0.5751436380019682\n",
      "R² (Test): 0.5657733720219272\n",
      "MSE: 0.3375661245385109\n"
     ]
    },
    {
     "data": {
      "image/png": "[encoded data removed]",
      "text/plain": [
       "<matplotlib.figure.Figure at 0x1d8148e7358>"
      ]
     },
     "metadata": {},
     "output_type": "display_data"
    }
   ],
   "source": [
    "# Prepare the DataFrame for modeling\n",
    "model_df = expand_genres[expand_genres.columns]\n",
    "model_df = new_preprocessing(top_500_cast, top_500_dir, top_500_prod, model_df)\n",
    "\n",
    "# Fit the model\n",
    "results = fit_model(model_df)"
   ]
  },
  {
   "cell_type": "markdown",
   "metadata": {},
   "source": [
    "##### New preprocessing using top 500 metric results\n",
    "> The performance of the new preprocessing method performs slightly worse for the [top 500 metric (old preprocessing)](#results2).\n",
    "<div class=\"alert alert-block alert-success\">\n",
    "Comparisons:\n",
    "* [old preprocessing](#results2)\n",
    "* [model 2 (new preprocessing)](#results6)\n",
    "* [model 3 (new preprocessing)](#results8)\n",
    "* [model 4 (new preprocessing)](#results10)\n",
    "\n",
    "</div>"
   ]
  },
  {
   "cell_type": "markdown",
   "metadata": {},
   "source": [
    "<a id='new_models'></a>\n",
    "<div class=\"alert alert-block alert-warning\">\n",
    "<h1 align=\"center\">New Models</h3> "
   ]
  },
  {
   "cell_type": "markdown",
   "metadata": {},
   "source": [
    "<a id='model2'></a>\n",
    "### Model 2\n",
    "#### Description:\n",
    "> I will now create a new model to find the _best_ actors, directors, and production companies by genre instead of simply the top #.\n",
    "* My personal definition of a \"good\" movie has a cut-off of 7/10; as such, I have chosen a minimum rating of 7.\n",
    "\n",
    "> <div class=\"alert alert-block alert-info\">\n",
    "**_Purpose:_**\n",
    "<br> I know that an increase in the number of actors, directors, and production companies has a positive effect on model performance. Therefore, this new metric allows me to increase the number of actors, directors, and production companies while granting me a level of control by being able to choose the minimum rating.\n",
    "</div>\n",
    "\n",
    "#### Procedure:\n",
    "> Find all movies with a minimum rating of 7; find all actors, directors, and production companies by genre; then build the model.\n",
    "1. Find the top actors, directors, and production companies by genre\n",
    "  1. Find all movies with a minimum rating of 7\n",
    "  2. Find the top actors, directors, and production companies by genre\n",
    "2. Evaluate performance using the old preprocessing method\n",
    "3. Evaluate performance using the new preprocessing method"
   ]
  },
  {
   "cell_type": "markdown",
   "metadata": {},
   "source": [
    "##### 1. Find the top actors, directors, and production companies by genre"
   ]
  },
  {
   "cell_type": "code",
   "execution_count": 162,
   "metadata": {},
   "outputs": [],
   "source": [
    "# Find all movies with a minimum rating of 7\n",
    "good_movies = expand_genres.loc[expand_genres.vote_average >= 7]\n",
    "\n",
    "# Create a new DataFrame for each attribute and expand the corresponding column\n",
    "cast_genres = expand(good_movies, 'cast')\n",
    "dir_genres = expand(good_movies, 'director')\n",
    "prod_genres = expand(good_movies, 'production_companies')\n",
    "\n",
    "# Find the top actors\n",
    "top_cast = cast_genres.groupby('genres')['cast'].unique()\n",
    "top_cast = top_cast.to_dict()\n",
    "\n",
    "# Find the top directors\n",
    "top_dir = dir_genres.groupby('genres')['director'].unique()\n",
    "top_dir = top_dir.to_dict()\n",
    "\n",
    "# Find the top production companies\n",
    "top_prod = prod_genres.groupby('genres')['production_companies'].unique()\n",
    "top_prod = top_prod.to_dict()"
   ]
  },
  {
   "cell_type": "markdown",
   "metadata": {},
   "source": [
    "<a id='results5'></a>\n",
    "##### 2. Evaluate performance using the old preprocessing method"
   ]
  },
  {
   "cell_type": "code",
   "execution_count": 163,
   "metadata": {},
   "outputs": [
    {
     "name": "stdout",
     "output_type": "stream",
     "text": [
      "R² (Training): 0.38213995107360754\n",
      "R² (Test): 0.36116323469942857\n",
      "MSE: 0.4966292649517612\n"
     ]
    },
    {
     "data": {
      "image/png": "[encoded data removed]",
      "text/plain": [
       "<matplotlib.figure.Figure at 0x1d81562cf98>"
      ]
     },
     "metadata": {},
     "output_type": "display_data"
    }
   ],
   "source": [
    "# Prepare the DataFrame for modeling\n",
    "model_df = expand_genres[expand_genres.columns]\n",
    "model_df = preprocessing(top_cast, top_dir, top_prod, model_df)\n",
    "\n",
    "# Fit the model\n",
    "results = fit_model(model_df)"
   ]
  },
  {
   "cell_type": "markdown",
   "metadata": {},
   "source": [
    "##### Model 2 using old preprocessing results\n",
    "> Using the old preprocessing method, this model performs better than the previous model when comparing by the [top 10 metric](#results1), but is outperformed by the [top 500 metric](#results2).\n",
    "<div class=\"alert alert-block alert-success\">\n",
    "Comparisons:\n",
    "* [model 1 top 500 metric (old preprocessing)](#results2)\n",
    "* [model 3 (old preprocessing)](#results7)\n",
    "\n",
    "</div>"
   ]
  },
  {
   "cell_type": "markdown",
   "metadata": {},
   "source": [
    "<a id='results6'></a>\n",
    "##### 3. Evaluate performance using the new preprocessing method"
   ]
  },
  {
   "cell_type": "code",
   "execution_count": 164,
   "metadata": {},
   "outputs": [
    {
     "name": "stdout",
     "output_type": "stream",
     "text": [
      "R² (Training): 0.4130838667066606\n",
      "R² (Test): 0.374743846457378\n",
      "MSE: 0.4860717491648099\n"
     ]
    },
    {
     "data": {
      "image/png": "[encoded data removed]",
      "text/plain": [
       "<matplotlib.figure.Figure at 0x1d81d870a58>"
      ]
     },
     "metadata": {},
     "output_type": "display_data"
    }
   ],
   "source": [
    "# Prepare the DataFrame for modeling\n",
    "model_df = expand_genres[expand_genres.columns]\n",
    "model_df = new_preprocessing(top_cast, top_dir, top_prod, model_df)\n",
    "\n",
    "# Fit the model\n",
    "results = fit_model(model_df)"
   ]
  },
  {
   "cell_type": "markdown",
   "metadata": {},
   "source": [
    "##### Model 2 using new preprocessing results\n",
    "> It is clear that compared to itself, this model performs better using the new preprocessing method. However, when compared to the previous model, it is still outperformed by the [top 500 metric](#results4).\n",
    "\n",
    "> Regardless of which preprocessing model is used, this new model it outperformed by the top 500 metric.\n",
    "<div class=\"alert alert-block alert-success\">\n",
    "Comparisons:\n",
    "* [model 1 top 500 metric (new preprocessing)](#results4)\n",
    "* [model 3 (new preprocessing)](#results8)\n",
    "\n",
    "</div>"
   ]
  },
  {
   "cell_type": "markdown",
   "metadata": {},
   "source": [
    "<a id='model3'></a>\n",
    "### Model 3\n",
    "#### Description:\n",
    "> Adjust [Model 2](#model2) to round ratings to a full number, or to a half number. For example, ratings will be rounded as such:\n",
    "* (5.8 - 6.2 => 6.0), (6.3 - 6.7 => 6.5), (6.8 - 7.2 => 7.0)\n",
    "\n",
    "> <div class=\"alert alert-block alert-info\">\n",
    "**_Purpose:_**\n",
    "<br> Reduce the number of possible ratings in the hopes of creating a better model.\n",
    "</div>\n",
    "\n",
    "#### Procedure:\n",
    "> Round all ratings; find all actors, directors, and production companies by genre; then build the model.\n",
    "1. Round all ratings\n",
    "  1. Define function to round the ratings\n",
    "  2. Initialize the DataFrame\n",
    "  3. Use pandas .apply() method and round all ratings\n",
    "2. Find the top actors, directors, and production companies by genre\n",
    "  1. Find all movies with a minimum rating of 7\n",
    "  2. Find the top actors, directors, and production companies by genre\n",
    "3. Evaluate performance using the old preprocessing method\n",
    "4. Evaluate performance using the new preprocessing method"
   ]
  },
  {
   "cell_type": "markdown",
   "metadata": {},
   "source": [
    "##### 1. Round all ratings"
   ]
  },
  {
   "cell_type": "code",
   "execution_count": 165,
   "metadata": {},
   "outputs": [],
   "source": [
    "# Import Decimal object\n",
    "from decimal import Decimal\n",
    "\n",
    "# Define function to round the ratings\n",
    "def round_ratings(rating):\n",
    "    # Find the rating's whole value\n",
    "    whole_value = rating//1\n",
    "    # Find the rating's decimal value\n",
    "    dec_value = float(Decimal(str(rating)) % 1)\n",
    "    \n",
    "    # Round to whole number\n",
    "    if dec_value in [0.8, 0.9, 0.0, 0.1, 0.2]:\n",
    "        return round(rating)\n",
    "    # Round to half number\n",
    "    else:\n",
    "        return whole_value + 0.5\n",
    "\n",
    "# Initialize DataFrame\n",
    "rounded_ratings = expand_genres[expand_genres.columns]\n",
    "\n",
    "# Round ratings\n",
    "rounded_ratings['vote_average'] = rounded_ratings['vote_average'].apply(round_ratings)"
   ]
  },
  {
   "cell_type": "markdown",
   "metadata": {},
   "source": [
    "##### 2. Find the top actors, directors, and production companies by genre"
   ]
  },
  {
   "cell_type": "code",
   "execution_count": 166,
   "metadata": {},
   "outputs": [],
   "source": [
    "# Find all movies with a minimum rating of 7\n",
    "good_movies = rounded_ratings.loc[rounded_ratings.vote_average >= 7]\n",
    "\n",
    "# Create a new DataFrame for each attribute and expand the corresponding column\n",
    "cast_genres = expand(good_movies, 'cast')\n",
    "dir_genres = expand(good_movies, 'director')\n",
    "prod_genres = expand(good_movies, 'production_companies')\n",
    "\n",
    "# Find the top actors\n",
    "top_cast = cast_genres.groupby('genres')['cast'].unique()\n",
    "top_cast = top_cast.to_dict()\n",
    "\n",
    "# Find the top directors\n",
    "top_dir = dir_genres.groupby('genres')['director'].unique()\n",
    "top_dir = top_dir.to_dict()\n",
    "\n",
    "# Find the top production companies\n",
    "top_prod = prod_genres.groupby('genres')['production_companies'].unique()\n",
    "top_prod = top_prod.to_dict()"
   ]
  },
  {
   "cell_type": "markdown",
   "metadata": {},
   "source": [
    "<a id='results7'></a>\n",
    "##### 3. Evaluate performance using the old preprocessing method"
   ]
  },
  {
   "cell_type": "code",
   "execution_count": 167,
   "metadata": {},
   "outputs": [
    {
     "name": "stdout",
     "output_type": "stream",
     "text": [
      "R² (Training): 0.41357378592497224\n",
      "R² (Test): 0.39187086970165685\n",
      "MSE: 0.4815158725338044\n"
     ]
    },
    {
     "data": {
      "image/png": "[encoded data removed]",
      "text/plain": [
       "<matplotlib.figure.Figure at 0x1d81962bef0>"
      ]
     },
     "metadata": {},
     "output_type": "display_data"
    }
   ],
   "source": [
    "'''Old Preprocessing Method'''\n",
    "# Prepare the DataFrame for modeling\n",
    "model_df = rounded_ratings[rounded_ratings.columns]\n",
    "model_df = preprocessing(top_cast, top_dir, top_prod, model_df)\n",
    "\n",
    "# Fit the model\n",
    "results = fit_model(model_df)"
   ]
  },
  {
   "cell_type": "markdown",
   "metadata": {},
   "source": [
    "###### Model 3 using old preprocessing results\n",
    "> Rounding the ratings actually improved the performance of the [second model using the old preprocessing method](#results5)! Unfortunately, it is still outperformed by the [first model using the top 500 metric and the old preprocessing method](#results2).\n",
    "<div class=\"alert alert-block alert-success\">\n",
    "Comparisons:\n",
    "* [model 1 top 500 metric (old preprocessing)](#results2)\n",
    "* [model 2 (old preprocessing)](#results5)\n",
    "* [model 4 (old preprocessing)](#results9)\n",
    "\n",
    "</div>"
   ]
  },
  {
   "cell_type": "markdown",
   "metadata": {},
   "source": [
    "<a id='results8'></a>\n",
    "###### 4. Evaluate performance using the new preprocessing method"
   ]
  },
  {
   "cell_type": "code",
   "execution_count": 168,
   "metadata": {},
   "outputs": [
    {
     "name": "stdout",
     "output_type": "stream",
     "text": [
      "R² (Training): 0.45058149102760336\n",
      "R² (Test): 0.41565100987929104\n",
      "MSE: 0.46268678776196953\n"
     ]
    },
    {
     "data": {
      "image/png": "[encoded data removed]",
      "text/plain": [
       "<matplotlib.figure.Figure at 0x1d81491fcf8>"
      ]
     },
     "metadata": {},
     "output_type": "display_data"
    }
   ],
   "source": [
    "'''New Preprocessing Method'''\n",
    "# Prepare the DataFrame for modeling\n",
    "model_df = rounded_ratings[rounded_ratings.columns]\n",
    "model_df = new_preprocessing(top_cast, top_dir, top_prod, model_df)\n",
    "\n",
    "# Fit the model\n",
    "results = fit_model(model_df)"
   ]
  },
  {
   "cell_type": "markdown",
   "metadata": {},
   "source": [
    "###### Model 3 using new preprocessing results\n",
    "> Rounding the ratings actually improved the performance of the [second model using the new preprocessing method](#results6), but is met with the same setback of being outperformed by the [first model using the top 500 metric and the new preprocessing method](#results4).\n",
    "<div class=\"alert alert-block alert-success\">\n",
    "Comparisons:\n",
    "* [model 1 top 500 metric (new preprocessing)](#results4)\n",
    "* [model 2 (new preprocessing)](#results6)\n",
    "* [model 4 (new preprocessing)](#results10)\n",
    "\n",
    "</div>"
   ]
  },
  {
   "cell_type": "markdown",
   "metadata": {},
   "source": [
    "<a id='model4'></a>\n",
    "### Model 4\n",
    "#### Description:\n",
    "> I will adjust [Model 3](#model3) to bin the ratings for movies so that movies with a rating less than 5 will be rated as a 4, movies with a rating between 5 and 5.9 will be rated as a 5, movies with a rating between 6 and 6.9 will be rated as a 7, and so on.\n",
    "\n",
    "> <div class=\"alert alert-block alert-info\">\n",
    "**_Purpose:_**\n",
    "<br> Improve on Model 3 by further reducing the number of possible ratings.\n",
    "</div>\n",
    "\n",
    "#### Procedure:\n",
    "> Bin all ratings; find all actors, directors, and production companies by genre; then build the model.\n",
    "1. Bin all ratings\n",
    "  1. Initialize the DataFrame\n",
    "  2. Bin all ratings\n",
    "2. Find the top actors, directors, and production companies by genre\n",
    "  1. Find all movies with a minimum rating of 7\n",
    "  2. Find the top actors, directors, and production companies by genre\n",
    "3. Evaluate performance using the old preprocessing method\n",
    "4. Evaluate performance using the new preprocessing method"
   ]
  },
  {
   "cell_type": "markdown",
   "metadata": {},
   "source": [
    "##### 1. Bin all ratings"
   ]
  },
  {
   "cell_type": "code",
   "execution_count": 169,
   "metadata": {},
   "outputs": [],
   "source": [
    "# Initialize DataFrame\n",
    "bin_ratings = expand_genres[expand_genres.columns]\n",
    "\n",
    "# Bin ratings\n",
    "bin_ratings.loc[bin_ratings['vote_average'] < 5, 'vote_average'] = 4\n",
    "for rating in range(5, 10):\n",
    "    bin_ratings.loc[bin_ratings['vote_average'].between(rating, rating+0.9), 'vote_average'] = rating"
   ]
  },
  {
   "cell_type": "markdown",
   "metadata": {},
   "source": [
    "##### 2. Find the top actors, directors, and production companies by genre"
   ]
  },
  {
   "cell_type": "code",
   "execution_count": 170,
   "metadata": {},
   "outputs": [],
   "source": [
    "# Find all movies with a minimum rating of 7\n",
    "good_movies = bin_ratings.loc[bin_ratings.vote_average >= 7]\n",
    "\n",
    "# Create a new DataFrame for each attribute and expand the corresponding column\n",
    "cast_genres = expand(good_movies, 'cast')\n",
    "dir_genres = expand(good_movies, 'director')\n",
    "prod_genres = expand(good_movies, 'production_companies')\n",
    "\n",
    "# Find the top actors\n",
    "top_cast = cast_genres.groupby('genres')['cast'].unique()\n",
    "top_cast = top_cast.to_dict()\n",
    "\n",
    "# Find the top directors\n",
    "top_dir = dir_genres.groupby('genres')['director'].unique()\n",
    "top_dir = top_dir.to_dict()\n",
    "\n",
    "# Find the top production companies\n",
    "top_prod = prod_genres.groupby('genres')['production_companies'].unique()\n",
    "top_prod = top_prod.to_dict()"
   ]
  },
  {
   "cell_type": "markdown",
   "metadata": {},
   "source": [
    "<a id='results9'></a>\n",
    "###### 3. Evaluate performance using the old preprocessing method"
   ]
  },
  {
   "cell_type": "code",
   "execution_count": 171,
   "metadata": {},
   "outputs": [
    {
     "name": "stdout",
     "output_type": "stream",
     "text": [
      "R² (Training): 0.39110508905622643\n",
      "R² (Test): 0.36492902225001445\n",
      "MSE: 0.47772632343933635\n"
     ]
    },
    {
     "data": {
      "image/png": "[encoded data removed]",
      "text/plain": [
       "<matplotlib.figure.Figure at 0x1d81b1fd2e8>"
      ]
     },
     "metadata": {},
     "output_type": "display_data"
    }
   ],
   "source": [
    "'''Old Preprocessing Method'''\n",
    "# Prepare the DataFrame for modeling\n",
    "model_df = bin_ratings[bin_ratings.columns]\n",
    "model_df = preprocessing(top_cast, top_dir, top_prod, model_df)\n",
    "\n",
    "# Fit the model\n",
    "results = fit_model(model_df)"
   ]
  },
  {
   "cell_type": "markdown",
   "metadata": {},
   "source": [
    "###### Model 4 using old preprocessing results\n",
    "> Binning the ratings slightly decreased the performance of the [third model using the old preprocessing method](#results7), meaning that this model is also outperformed by the [first model using the top 500 metric and the old preprocessing method](#results2).\n",
    "<div class=\"alert alert-block alert-success\">\n",
    "Comparisons:\n",
    "* [model 1 top 500 metric (old preprocessing)](#results2)\n",
    "* [model 3 (old preprocessing)](#results7)\n",
    "\n",
    "</div>"
   ]
  },
  {
   "cell_type": "markdown",
   "metadata": {},
   "source": [
    "<a id='results10'></a>\n",
    "###### 4. Evaluate performance using the new preprocessing method"
   ]
  },
  {
   "cell_type": "code",
   "execution_count": 172,
   "metadata": {
    "scrolled": true
   },
   "outputs": [
    {
     "name": "stdout",
     "output_type": "stream",
     "text": [
      "R² (Training): 0.4424541257019429\n",
      "R² (Test): 0.3935173358867551\n",
      "MSE: 0.4562210264796202\n"
     ]
    },
    {
     "data": {
      "image/png": "[encoded data removed]",
      "text/plain": [
       "<matplotlib.figure.Figure at 0x1d810487940>"
      ]
     },
     "metadata": {},
     "output_type": "display_data"
    }
   ],
   "source": [
    "'''New Preprocessing Method'''\n",
    "# Prepare the DataFrame for modeling\n",
    "model_df = bin_ratings[bin_ratings.columns]\n",
    "model_df = new_preprocessing(top_cast, top_dir, top_prod, model_df)\n",
    "\n",
    "# Fit the model\n",
    "results = fit_model(model_df)"
   ]
  },
  {
   "cell_type": "markdown",
   "metadata": {},
   "source": [
    "###### Model 4 using new preprocessing results\n",
    "> Once again, binning the ratings slightly decreased the performance of the [third model using the new preprocessing method](#results8), meaning that this model is also outperformed by the [first model using the top 500 metric and the new preprocessing method](#results2).\n",
    "<div class=\"alert alert-block alert-success\">\n",
    "Comparisons:\n",
    "* [model 1 top 500 metric (new preprocessing)](#results4)\n",
    "* [model 3 (new preprocessing)](#results8)\n",
    "\n",
    "</div>"
   ]
  },
  {
   "cell_type": "markdown",
   "metadata": {},
   "source": [
    "<a id='model5'></a>\n",
    "### Model 5\n",
    "#### Description:\n",
    "> All the models so far have been built using the [old](#preprocessing) and [new](#new_preprocessing) preprocessing procedures; both of which are very similar, and involves a list of actors, directors, and production companies for each genre to build the models' features.\n",
    "\n",
    "> I will take this idea one step further by creating one final preprocessing procedure that takes the idea from [Model 4](#model4) to bin the ratings, in order to create a list of actors, directors, and production companies for each genre and bin combination.\n",
    "\n",
    "> For each bin, I will create separate feature columns for the actors, directors, and production companies.\n",
    "<br> This means that for n number of bins there will be n number of columns of actors, and an equivalent number of columns for directors and production companies. Because there are three features (actors, directors, and production companies), I will have n*3 total feature columns.\n",
    "<br> Each column will count the number of actors, directors, and production companies listed per movie similar to before.\n",
    "\n",
    "> This may be a bit confusing, so I'll try to explain using an example.\n",
    "<br> Lets say a movie is categorized under the Action and Adventure genres, and I am using bins between 4 and 8.\n",
    "<br> Because I have 5 bins, I will have 5 cast feature columns, 5 director feature columns, and 5 production_companies feature columns where each of those 5 columns corresponds to bins 4-8.\n",
    "<br> If this movie has 2 actors in the Action genre under bin 5, 1 actor in the Action genre under bin 6, and 3 actors in the Adventure genre under bin 6, then its cast feature columns will look like this:\n",
    "  * 4.0 cast: 0\n",
    "  * 5.0 cast: 2\n",
    "  * 6.0 cast: 4\n",
    "  * 7.0 cast: 0\n",
    "  * 8.0 cast: 0\n",
    "\n",
    "#### Procedure:\n",
    "> Build the preprocessing function; find all actors, directors, and production companies by genres and bins; then build the model.\n",
    "1. Build preprocessing function\n",
    "2. Find all actors, directors, and production companies by genres and bins\n",
    "  1. Bin all ratings\n",
    "  2. Group the top actors, directors, and production companies by genres and bins\n",
    "  3. Unstack the bins, then turn to dictionary\n",
    "3. Evaluate performance"
   ]
  },
  {
   "cell_type": "markdown",
   "metadata": {},
   "source": [
    "##### 1. Build preprocessing function"
   ]
  },
  {
   "cell_type": "code",
   "execution_count": 173,
   "metadata": {},
   "outputs": [],
   "source": [
    "def final_preprocessing(cast_bins, dir_bins, prod_bins, model_df):\n",
    "    '''1. Replace the cast, director, and production_companies columns with dummy variables'''\n",
    "    # List of features\n",
    "    features = ['cast', 'director', 'production_companies']\n",
    "    # List of dataframes\n",
    "    dataframes = [cast_bins, dir_bins, prod_bins]\n",
    "    # List of bins\n",
    "    bins = list(cast_bins['Action'].keys())\n",
    "    \n",
    "    # Loop through the features and their corresponding DataFrames\n",
    "    for i in range(3):\n",
    "        feature = features[i]\n",
    "        data =  dataframes[i]\n",
    "        # Split the feature column\n",
    "        model_df[feature] = model_df[feature].apply(lambda x: x.split('|'))\n",
    "        \n",
    "        # Loop through the genres\n",
    "        for genre in genres_list:\n",
    "            genre_data = data[genre]\n",
    "            # Loop through the bins\n",
    "            for bin_n in bins:\n",
    "                # List of values for the current feature, genre, and bin\n",
    "                list_n = genre_data[bin_n]\n",
    "                \n",
    "                if list_n is not None:\n",
    "                    # Count the number of values from list_n that appear in each movie\n",
    "                    temp = model_df.loc[model_df.genres == genre, feature].apply(lambda values: sum(hit in values for hit in list_n))\n",
    "\n",
    "                    # Update the dataframe\n",
    "                    model_df.loc[model_df.genres == genre, str(bin_n) + ' ' + feature] += temp\n",
    "                else:\n",
    "                    # Update the dataframe\n",
    "                    model_df.loc[model_df.genres == genre, str(bin_n) + ' ' + feature] = 0\n",
    "\n",
    "    '''2. Create dummy variables for each genre in the genres column'''\n",
    "    # Create dummy variables for genres\n",
    "    model_df[genres_list] = pd.get_dummies(model_df['genres'])\n",
    "    # Drop the original 'genres' column\n",
    "    model_df.drop(columns='genres', inplace=True)\n",
    "    \n",
    "    '''3. Collapse the DataFrame back to one movie per row'''\n",
    "    # Collapse the genre features back to one movie per row\n",
    "    genre_features = model_df.groupby(['original_title', 'release_date'])[genres_list].sum().reset_index()\n",
    "    \n",
    "    # Collapse the remaining features back to one movie per row\n",
    "    agg_dict = {'vote_average':'mean', 'budget':'mean'}\n",
    "    for bin_n in bins:\n",
    "        agg_dict[str(bin_n)+' cast'] = 'mean'\n",
    "        agg_dict[str(bin_n)+' director'] = 'mean'\n",
    "        agg_dict[str(bin_n)+' production_companies'] = 'mean'\n",
    "    remaining_features = model_df.groupby(['original_title', 'release_date']).agg(agg_dict)\n",
    "    \n",
    "    # Join the features\n",
    "    model_df = genre_features.join(remaining_features, on=['original_title', 'release_date'])\n",
    "\n",
    "    '''4. Convert the release_dates into months'''\n",
    "    # Convert release dates to month\n",
    "    model_df['release_date'] = model_df['release_date'].dt.month\n",
    "    \n",
    "    return model_df"
   ]
  },
  {
   "cell_type": "markdown",
   "metadata": {},
   "source": [
    "##### 2. Find all actors, directors, and production companies by genres and bins"
   ]
  },
  {
   "cell_type": "code",
   "execution_count": 250,
   "metadata": {},
   "outputs": [],
   "source": [
    "# Initialize DataFrame\n",
    "bin_ratings = expand_genres[expand_genres.columns]\n",
    "original_ratings = list(bin_ratings.vote_average)\n",
    "\n",
    "# Bin ratings\n",
    "bin_ratings.loc[bin_ratings['vote_average'] < 5, 'vote_average'] = 4\n",
    "for rating in range(5, 10):\n",
    "    bin_ratings.loc[bin_ratings['vote_average'].between(rating, rating+0.9), 'vote_average'] = rating\n",
    "\n",
    "# Create a new DataFrame for each attribute and expand the corresponding column\n",
    "cast_genres = expand(bin_ratings, 'cast')\n",
    "dir_genres = expand(bin_ratings, 'director')\n",
    "prod_genres = expand(bin_ratings, 'production_companies')\n",
    "\n",
    "# Groupby genres and bins, and find the list of cast\n",
    "cast_bins = cast_genres.groupby(['genres', 'vote_average'])['cast'].unique()\n",
    "cast_bins = cast_bins.unstack().to_dict(orient='index')\n",
    "\n",
    "# Groupby genres and vote_average, and find the list of directors\n",
    "dir_bins = dir_genres.groupby(['genres', 'vote_average'])['director'].unique()\n",
    "dir_bins = dir_bins.unstack().to_dict(orient='index')\n",
    "\n",
    "# Groupby genres and vote_average, and find the list of production companies\n",
    "prod_bins = prod_genres.groupby(['genres', 'vote_average'])['production_companies'].unique()\n",
    "prod_bins = prod_bins.unstack().to_dict(orient='index')"
   ]
  },
  {
   "cell_type": "markdown",
   "metadata": {},
   "source": [
    "<a id='results11'></a>\n",
    "##### 3. Evaluate performance"
   ]
  },
  {
   "cell_type": "code",
   "execution_count": 251,
   "metadata": {
    "scrolled": true
   },
   "outputs": [
    {
     "name": "stdout",
     "output_type": "stream",
     "text": [
      "R² (Training): 0.8629151408785175\n",
      "R² (Test): 0.8423997321430676\n",
      "MSE: 0.10494796012899413\n"
     ]
    },
    {
     "data": {
      "image/png": "[encoded data removed]",
      "text/plain": [
       "<matplotlib.figure.Figure at 0x1d8107a74a8>"
      ]
     },
     "metadata": {},
     "output_type": "display_data"
    }
   ],
   "source": [
    "# Prepare the DataFrame for modeling\n",
    "model_df = bin_ratings[bin_ratings.columns]\n",
    "\n",
    "# Initialize bin columns\n",
    "bins = sorted(list(model_df.vote_average.unique()))\n",
    "for bin_n in bins:\n",
    "    model_df[str(bin_n) + ' ' + 'cast'] = 0\n",
    "    model_df[str(bin_n) + ' ' + 'director'] = 0\n",
    "    model_df[str(bin_n) + ' ' + 'production_companies'] = 0\n",
    "    \n",
    "# Run the preprocessing procedure\n",
    "model_df = final_preprocessing(cast_bins, dir_bins, prod_bins, model_df)\n",
    "\n",
    "# Fit the model\n",
    "results = fit_model(model_df)"
   ]
  },
  {
   "cell_type": "markdown",
   "metadata": {},
   "source": [
    "###### Model 5 results\n",
    "> This model performs extremely well!\n",
    "<br> With an $R_2$ of 84.2%, it is the first model to exceed the performance of the [first model using the top 500 metric and the old preprocessing method](#results2).\n",
    "\n",
    "> The one downfall, is that it falls short for movies with a rating of 8.0. The reason seems to be associated with the sparse amount of data for movies of that rating. I'm confident that if the dataset was updated to provide movies with a uniform amount of ratings, this model would perform even better.\n",
    "\n",
    "> With this model, I have finally created a model with great performance and explainable features, unlike the first model.\n",
    "\n",
    "> Although this model is great as is, it may perform even better as a classifier. Lets try to convert it into one.\n",
    "<div class=\"alert alert-block alert-success\">\n",
    "Comparisons:\n",
    "* [model 1 top 500 metric (old preprocessing)](#results2)\n",
    "* [clf](#results12)\n",
    "\n",
    "</div>"
   ]
  },
  {
   "cell_type": "markdown",
   "metadata": {},
   "source": [
    "<a id='classification'></a>\n",
    "<div class=\"alert alert-block alert-warning\">\n",
    "<h1 align=\"center\">Classification</h3> "
   ]
  },
  {
   "cell_type": "markdown",
   "metadata": {},
   "source": [
    "<a id='fit_clf'></a>\n",
    "### Fitting the Classifier\n",
    "#### Description:\n",
    "> I will build a function to fit the data to a classifier using SVC (Support Vector Classification).\n",
    "<br> This will not be able to predict a movie's rating using a continuous range, instead, it will classify movies into groups.\n",
    "\n",
    "\n",
    "#### Procedure:\n",
    "> Using the **cast**, **director**, **production_companies**, **release_date**, **budget**, and the **genres** columns as the features and the **vote_average** column as the target, split the data into training and test sets. Fit the model to the training set, and use the fitted model to predict the average rating.\n",
    "1. Split the data into training and test sets\n",
    "  1. Split the DataFrame into two variables, X for the features, and y for the target\n",
    "  2. Use the train_test_split function to split the data into a training set, and a test set\n",
    "  3. Standardize the features of the training and test sets\n",
    "2. Fit the model to the training set using the SVC class from sklearn.svm\n",
    "3. Plot the ratings vs their predictions"
   ]
  },
  {
   "cell_type": "code",
   "execution_count": 214,
   "metadata": {},
   "outputs": [],
   "source": [
    "def fit_clf(model_df):\n",
    "    '''1. Split the data into training and test sets'''\n",
    "    # Variable to hold feature data\n",
    "    X = model_df.drop(columns=['original_title', 'vote_average'])\n",
    "    \n",
    "    # Variable to hold target data\n",
    "    y = model_df['vote_average']\n",
    "    \n",
    "    # Split the data into training and test sets\n",
    "    X_train, X_test, y_train, y_test = train_test_split(X, y, random_state=42)\n",
    "    \n",
    "    # Standardize the features\n",
    "    temp = StandardScaler().fit(X_train)\n",
    "    X_train = temp.transform(X_train)\n",
    "    X_test = temp.transform(X_test)\n",
    "    \n",
    "    '''2. Fit the model to the training set'''\n",
    "    model = SVC(kernel='linear')\n",
    "    results = model.fit(X_train, y_train)\n",
    "    \n",
    "    '''3. Evaluate model performance'''\n",
    "    # Results using sklearn\n",
    "    y_pred = results.predict(X_test)\n",
    "    \n",
    "    # Print the accuracy\n",
    "    print('Accuracy (Training): {}'.format(results.score(X_train, y_train)))\n",
    "    print('Accuracy (Test): {}'.format(results.score(X_test, y_test)))\n",
    "    \n",
    "    # Plot the Rating vs. Predicted Rating\n",
    "    temp = pd.DataFrame({'$Y_i$':y_test.values.astype(float), '$\\hat{Y}_i$':y_pred.astype(float)})\n",
    "    sns.swarmplot(x='$Y_i$', y='$\\hat{Y}_i$', data=temp)\n",
    "    plt.title(\"Rating vs Predicted Rating: $Y_i$ vs $\\hat{Y}_i$\");\n",
    "    \n",
    "    return results"
   ]
  },
  {
   "cell_type": "markdown",
   "metadata": {},
   "source": [
    "<a id='clf'></a>\n",
    "### CLF\n",
    "#### Description:\n",
    "> Using the [fit_clf()](#fit_clf) function I have written above, I will not turn [Model 5](#model5) into a classifier.\n",
    "\n",
    "> <div class=\"alert alert-block alert-info\">\n",
    "**_Purpose:_**\n",
    "<br> Because Model 5 has binned ratings, it may perform better as a classifier. Instead of making predictions within a linear range, the model will make strict predictions using the rounded ratings as classes.\n",
    "</div>\n",
    "\n",
    "#### Procedure:\n",
    "> Follow the same procedure as [Model 5](#model3), using the [fit_clf()](#fit_clf) function to build a classifier.\n",
    "1. Find all actors, directors, and production companies by genres and bins\n",
    "  1. Bin all ratings\n",
    "  2. Group the top actors, directors, and production companies by genres and bins\n",
    "  3. Unstack the bins, then turn to dictionary\n",
    "2. Evaluate performance"
   ]
  },
  {
   "cell_type": "markdown",
   "metadata": {},
   "source": [
    "##### 1. Find all actors, directors, and production companies by genres and bins"
   ]
  },
  {
   "cell_type": "code",
   "execution_count": 248,
   "metadata": {},
   "outputs": [],
   "source": [
    "# Initialize DataFrame\n",
    "bin_ratings = expand_genres[expand_genres.columns]\n",
    "\n",
    "# Bin ratings\n",
    "bin_ratings.loc[bin_ratings['vote_average'] < 5, 'vote_average'] = 4\n",
    "for rating in range(5, 10):\n",
    "    bin_ratings.loc[bin_ratings['vote_average'].between(rating, rating+0.9), 'vote_average'] = rating\n",
    "\n",
    "# Create a new DataFrame for each attribute and expand the corresponding column\n",
    "cast_genres = expand(bin_ratings, 'cast')\n",
    "dir_genres = expand(bin_ratings, 'director')\n",
    "prod_genres = expand(bin_ratings, 'production_companies')\n",
    "\n",
    "# Groupby genres and bins, and find the list of cast\n",
    "cast_bins = cast_genres.groupby(['genres', 'vote_average'])['cast'].unique()\n",
    "cast_bins = cast_bins.unstack().to_dict(orient='index')\n",
    "\n",
    "# Groupby genres and vote_average, and find the list of directors\n",
    "dir_bins = dir_genres.groupby(['genres', 'vote_average'])['director'].unique()\n",
    "dir_bins = dir_bins.unstack().to_dict(orient='index')\n",
    "\n",
    "# Groupby genres and vote_average, and find the list of production companies\n",
    "prod_bins = prod_genres.groupby(['genres', 'vote_average'])['production_companies'].unique()\n",
    "prod_bins = prod_bins.unstack().to_dict(orient='index')"
   ]
  },
  {
   "cell_type": "markdown",
   "metadata": {},
   "source": [
    "<a id='results12'></a>\n",
    "##### 2. Evaluate performance"
   ]
  },
  {
   "cell_type": "code",
   "execution_count": 249,
   "metadata": {
    "scrolled": true
   },
   "outputs": [
    {
     "name": "stdout",
     "output_type": "stream",
     "text": [
      "Accuracy (Training): 0.9996494917630564\n",
      "Accuracy (Test): 0.9936974789915967\n"
     ]
    },
    {
     "data": {
      "image/png": "[encoded data removed]",
      "text/plain": [
       "<matplotlib.figure.Figure at 0x1d810795b70>"
      ]
     },
     "metadata": {},
     "output_type": "display_data"
    }
   ],
   "source": [
    "# Prepare the DataFrame for modeling\n",
    "model_df = bin_ratings[bin_ratings.columns]\n",
    "\n",
    "# Initialize bin columns\n",
    "bins = sorted(list(model_df.vote_average.unique()))\n",
    "for bin_n in bins:\n",
    "    model_df[str(bin_n) + ' ' + 'cast'] = 0\n",
    "    model_df[str(bin_n) + ' ' + 'director'] = 0\n",
    "    model_df[str(bin_n) + ' ' + 'production_companies'] = 0\n",
    "\n",
    "# Run the preprocessing procedure\n",
    "model_df = final_preprocessing(cast_bins, dir_bins, prod_bins, model_df)\n",
    "model_df['vote_average'] = model_df['vote_average'].astype(str)\n",
    "\n",
    "# Fit the model\n",
    "results = fit_clf(model_df)"
   ]
  },
  {
   "cell_type": "markdown",
   "metadata": {},
   "source": [
    "###### Model 5 results\n",
    "> This classifier, as expected, improves the performance of the [Model 5](#results11), with a shockingly high accuracy score of 99.4%!\n",
    "\n",
    "> The classifier can now properly classify movies with a rating of 8.\n",
    "<br> The regression model on the other hand, incorrectly predicted all such movies, but managed to get relatively close.\n",
    "\n",
    "> Its hard to say with certainty, if the model is better as a classifier or as a regression model.\n",
    "<br> On one hand, the classifier is capable of classifying nearly all movies correctly, but is unable to predict a movie's rating numerically.\n",
    "<br> On the other hand, the regression model is far less accurate with each rating fluctating between an error of (+/-)1.0 on average, but it offers more flexibility since its predictions follow a linear range.\n",
    "<div class=\"alert alert-block alert-success\">\n",
    "Comparisons:\n",
    "* [model 5](#results11)\n",
    "\n",
    "</div>"
   ]
  },
  {
   "cell_type": "markdown",
   "metadata": {},
   "source": [
    "<a id='conclusions'></a>\n",
    "## Conclusions"
   ]
  },
  {
   "cell_type": "markdown",
   "metadata": {},
   "source": [
    "In conclusion, I have built two models that can predict a movie's rating within reasonable accuracy, thus achieving my goal. These two models use the exact same features to learn from, but the difference is that one is a linear regression model while the other is a classifier. The linear regression model is far less accurate, with an $R^2$ score of 84.2%, while the classifier has an accuracy score of 99.4%. They are both good models, but have different uses. The linear regression model will be good for predicting a rating within a continuous range if you are less concerned with accuracy. The classifier, on the other hand, is only capable of creating discrete predictions which is great for predicting ratings using a grading scale, offering a high level of accuracy for general grades. \n",
    "\n",
    "To reach my goal, I have built several models. In total, I have built 5 linear regression models and 1 classifier model. The first regression model was the base for the next 4 models, in which each succeeding model is built upon the model that preceded it. The classification model was adapted from the fifth linear regression model and was built using the same features, with the only difference being that it was turned from a regression model into a classification model. The fifth linear regression model and the classifier, respectively, are the two final models that I mentioned in the previous paragraph.\n",
    "\n",
    "With these two models, a client working in the movie industry will be able to test different combinations of actors, directors, and production companies with varying budgets to create a highly rated movie. A production company will typically offer a specified budget that the client can use to calculate the cost of production, and determine which actors and directors will be feasible. The client can then hold auditions and decide which actors they like the most, but it may be hard to choose which actors will play their respective roles the best. To remedy this problem, my models will be able to present insight on the combinations of actors and directors by using the predicted ratings. This is just one specific problem that my project can resolve, thus demonstrating its utility. \n",
    "\n",
    "There are many aspects that come into play when trying to produce a great movie. My project does not offer a solution to every single problem, but it does a tremendous job of predicting movie ratings using a combination of actors, directors, production companies, genres, and budget. With this knowledge, clients will have greater confidence in producing their best movies.."
   ]
  }
 ],
 "metadata": {
  "kernelspec": {
   "display_name": "Python 3",
   "language": "python",
   "name": "python3"
  },
  "language_info": {
   "codemirror_mode": {
    "name": "ipython",
    "version": 3
   },
   "file_extension": ".py",
   "mimetype": "text/x-python",
   "name": "python",
   "nbconvert_exporter": "python",
   "pygments_lexer": "ipython3",
   "version": "3.6.4"
  }
 },
 "nbformat": 4,
 "nbformat_minor": 2
}
